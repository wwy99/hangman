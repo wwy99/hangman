{
  "cells": [
    {
      "cell_type": "code",
      "execution_count": null,
      "metadata": {
        "id": "ybg2eKqyXIM7"
      },
      "outputs": [],
      "source": [
        "import random\n",
        "\n",
        "class HangmanGame:\n",
        "    def __init__(self, word_list):\n",
        "        self.word_list = word_list\n",
        "        self.target_word = None\n",
        "        self.masked_word = None\n",
        "        self.guessed_letters = []\n",
        "        self.wrong_guesses = 0\n",
        "        self.max_wrong_guesses = 6\n",
        "\n",
        "    def select_word(self):\n",
        "        self.target_word = random.choice(self.word_list).lower()\n",
        "        self.masked_word = '_' * len(self.target_word)\n",
        "\n",
        "    def mask_word(self):\n",
        "        return ' '.join([letter if letter in self.guessed_letters else '_' for letter in self.target_word])\n",
        "\n",
        "    def guess_letter(self, letter):\n",
        "\n",
        "\n",
        "        letter = letter.lower()\n",
        "        if letter in self.guessed_letters:\n",
        "            return False, \"Letter already guessed\"\n",
        "\n",
        "        self.guessed_letters.append(letter)\n",
        "\n",
        "        #print(f\"Target Word: {self.target_word}\")\n",
        "        #print(f\"Masked Word: {self.masked_word}\")\n",
        "        #print(f\"Guessed Letters: {', '.join(self.guessed_letters)}\")\n",
        "        #print(f\"Wrong Guesses: {self.wrong_guesses}\")\n",
        "        #print(\"++++++++++++++++++++++++++++++++++++++++++++++++++++++++\")\n",
        "\n",
        "        if letter in self.target_word:\n",
        "            self.masked_word = self.mask_word()\n",
        "            if '_' not in self.masked_word:\n",
        "                return True, \"Win\"\n",
        "            return True, \"Correct guess\"\n",
        "        else:\n",
        "            self.wrong_guesses += 1\n",
        "            if self.wrong_guesses >= self.max_wrong_guesses:\n",
        "                return False, \"Lose\"\n",
        "            return False, \"Incorrect guess\"\n",
        "\n",
        "\n",
        "\n",
        "    def start_game(self):\n",
        "        self.select_word()\n",
        "        self.guessed_letters = []\n",
        "        self.wrong_guesses = 0\n",
        "\n",
        "    def get_game_status(self):\n",
        "\n",
        "        return {\n",
        "            \"masked_word\": self.masked_word,\n",
        "            \"guessed_letters\": self.guessed_letters,\n",
        "            \"wrong_guesses\": self.wrong_guesses,\n",
        "            \"max_wrong_guesses\": self.max_wrong_guesses\n",
        "        }\n"
      ]
    },
    {
      "cell_type": "code",
      "execution_count": null,
      "metadata": {
        "id": "ex6GOkAdam_Z"
      },
      "outputs": [],
      "source": [
        "import requests\n",
        "import collections\n",
        "import numpy as np\n",
        "from keras.preprocessing.sequence import pad_sequences\n",
        "from keras.models import Sequential\n",
        "from keras.layers import Embedding, Bidirectional, LSTM, Dropout, Dense\n",
        "from tensorflow.keras.utils import to_categorical\n",
        "from sklearn.model_selection import train_test_split\n",
        "from copy import deepcopy\n",
        "import random\n",
        "from keras.callbacks import Callback\n",
        "from tqdm.keras import TqdmCallback\n",
        "from itertools import combinations, chain\n",
        "from sklearn.model_selection import train_test_split\n",
        "from tensorflow.keras.preprocessing.sequence import pad_sequences\n",
        "from tensorflow.keras.utils import to_categorical\n",
        "from copy import deepcopy\n",
        "import numpy as np\n",
        "from tqdm import tqdm\n",
        "from itertools import product\n",
        "from tensorflow.keras.utils import to_categorical\n",
        "from tensorflow.keras.preprocessing.sequence import pad_sequences\n",
        "from sklearn.model_selection import train_test_split\n",
        "from tqdm import tqdm\n",
        "\n"
      ]
    },
    {
      "cell_type": "code",
      "execution_count": null,
      "metadata": {
        "id": "fMmsciakam9K"
      },
      "outputs": [],
      "source": [
        "def build_dictionary(dictionary_file_location):\n",
        "    with open(dictionary_file_location, \"r\") as text_file:\n",
        "        full_dictionary = text_file.read().splitlines()\n",
        "    return full_dictionary\n"
      ]
    },
    {
      "cell_type": "code",
      "execution_count": null,
      "metadata": {
        "id": "3psl6MOxam3W"
      },
      "outputs": [],
      "source": [
        "import numpy as np\n",
        "from tensorflow.keras.preprocessing.sequence import pad_sequences\n",
        "from tensorflow.keras.utils import to_categorical\n",
        "from sklearn.model_selection import train_test_split\n",
        "from tqdm.auto import tqdm\n",
        "import random\n",
        "\n",
        "def encode_word(word):\n",
        "    encoded_word = []\n",
        "    for cha in word:\n",
        "        if cha == \"_\":\n",
        "            encoded_word.append(27)  # Keep 27 to indicate masking, handled separately\n",
        "        else:\n",
        "            encoded_word.append(ord(cha) - ord('a') + 1)  # 1-26 for 'a'-'z'\n",
        "    return encoded_word\n",
        "\n",
        "def generate_masked_versions(word_encoded, unique_chars):\n",
        "    masks = []\n",
        "    targets = []\n",
        "    for char in unique_chars:\n",
        "        if char == 27:  # Skip the mask token for target generation\n",
        "            continue\n",
        "        for i, c in enumerate(word_encoded):\n",
        "            if c == char:\n",
        "                masked_word = list(word_encoded)\n",
        "                masked_word[i] = 27  # Use 27 as the mask indicator\n",
        "                masks.append(masked_word)\n",
        "                targets.append(char - 1)  # Shift to 0-25 for 'a'-'z'\n",
        "    return masks, targets\n",
        "\n",
        "def get_xy_adjusted(full_dictionary, test_size=0.2, val_size=0.25):\n",
        "    dict_train_val, dict_test = train_test_split(full_dictionary, test_size=test_size, random_state=42)\n",
        "    X, y = [], []\n",
        "    max_length = 0\n",
        "\n",
        "    for word in tqdm(dict_train_val, desc=\"Processing words\"):\n",
        "        word_encoded = encode_word(word)\n",
        "        unique_chars = set(word_encoded)\n",
        "        unique_chars.discard(27)  # Remove the mask indicator from unique chars\n",
        "        masks, targets = generate_masked_versions(word_encoded, unique_chars)\n",
        "        X.extend(masks)\n",
        "        y.extend(targets)\n",
        "        max_length = max(max_length, max(len(mask) for mask in masks))\n",
        "\n",
        "    X_padded = pad_sequences(X, maxlen=max_length, padding='post', value=27)  # Use 27 for padding\n",
        "    y_categorical = tf.keras.utils.to_categorical(y, num_classes=26)  # Categories for 'a'-'z'\n",
        "\n",
        "    train_x, val_x, train_y, val_y = train_test_split(X_padded, y_categorical, test_size=val_size, random_state=42)\n",
        "\n",
        "    return train_x, val_x, train_y, val_y, dict_train_val, dict_test, max_length\n",
        "\n",
        "\n",
        "\n"
      ]
    },
    {
      "cell_type": "code",
      "execution_count": null,
      "metadata": {
        "id": "wjFGZ0TLam1L"
      },
      "outputs": [],
      "source": [
        "from tensorflow.keras.models import Sequential\n",
        "from tensorflow.keras.layers import Embedding, Bidirectional, LSTM, TimeDistributed, BatchNormalization, Dropout, Dense\n",
        "from tensorflow.keras.callbacks import ModelCheckpoint, ReduceLROnPlateau, LearningRateScheduler\n",
        "import tensorflow as tf\n",
        "\n",
        "\n",
        "def train_model_with_progress(train_x, train_y, val_x, val_y, max_length, batch_size=512, epochs=5, initial_learning_rate=0.001, patience=1, factor=0.5, min_lr=1e-6):\n",
        "    model = Sequential([\n",
        "        Embedding(28, 128, input_length=max_length),\n",
        "        Bidirectional(LSTM(128, return_sequences=True)),\n",
        "        BatchNormalization(),\n",
        "        Bidirectional(LSTM(128, return_sequences=True)),\n",
        "        BatchNormalization(),\n",
        "        Bidirectional(LSTM(128, return_sequences=True)),\n",
        "        BatchNormalization(),\n",
        "        Bidirectional(LSTM(64)),\n",
        "        Dropout(0.5),\n",
        "        Dense(26, activation='softmax')\n",
        "    ])\n",
        "\n",
        "    optimizer = tf.keras.optimizers.Adam(learning_rate=initial_learning_rate,clipvalue=1.0)\n",
        "    model.compile(optimizer=optimizer, loss=\"categorical_crossentropy\", metrics=['accuracy', 'top_k_categorical_accuracy'])\n",
        "\n",
        "    # Define ModelCheckpoint callback to save the best model based on validation loss\n",
        "    checkpoint_callback = ModelCheckpoint(filepath=\"/content/drive/MyDrive/2_The_best_lstm_model.keras\", monitor='val_loss', verbose=1, save_best_only=True, mode='min')\n",
        "\n",
        "    # Define ReduceLROnPlateau callback to adjust learning rate when validation loss does not decrease\n",
        "    reduce_lr_callback = ReduceLROnPlateau(monitor='val_loss', factor=factor, patience=patience, min_lr=min_lr, verbose=1)\n",
        "\n",
        "    # Train the model with the provided dataset and progress display\n",
        "    history = model.fit(train_x, train_y, validation_data=(val_x, val_y), batch_size=batch_size, epochs=epochs, callbacks=[checkpoint_callback, reduce_lr_callback], verbose=1)\n",
        "\n",
        "    return model, history\n",
        "\n",
        "\n",
        "\n",
        "\n"
      ]
    },
    {
      "cell_type": "code",
      "execution_count": null,
      "metadata": {
        "id": "aXhCNRZlMFR4"
      },
      "outputs": [],
      "source": [
        "dictionary_file_location = \"/content/drive/MyDrive/words_250000_train.txt\"\n",
        "full_dictionary = build_dictionary(dictionary_file_location)"
      ]
    },
    {
      "cell_type": "code",
      "execution_count": null,
      "metadata": {
        "id": "BrZ4K5DEMRuh"
      },
      "outputs": [],
      "source": [
        "test_size = 0.05\n",
        "val_size = 0.05 / 0.95\n",
        "batch_size = 1000\n",
        "epochs = 200"
      ]
    },
    {
      "cell_type": "code",
      "execution_count": null,
      "metadata": {
        "colab": {
          "base_uri": "https://localhost:8080/",
          "height": 49,
          "referenced_widgets": [
            "08beaa392ad34a239e928417057b16ca",
            "99622b875eef43b69a01395d67056bc5",
            "d0e0220d344640b1bb63f292cace6deb",
            "967fc5ef2d394039a3b8450fe5c94c83",
            "d54a7ddfa38f40bfb24fbc2d2396da80",
            "73a37c4abd8941c0a0b167e0e1213784",
            "a7a0925993d44487b7e253035b4ff34d",
            "9a9690ff5ee4435d9377e737f8889a6b",
            "df8dc4a9ef7345b0b7269fd2508a4eea",
            "b0d0187ec468483bafe5a8209b638d45",
            "00886fa068614ae7a525b639f46ac85b"
          ]
        },
        "id": "d4Vj1cvMMBpE",
        "outputId": "ca4ade7d-83d9-4e41-f53c-da4925de8aa1"
      },
      "outputs": [
        {
          "output_type": "display_data",
          "data": {
            "text/plain": [
              "Processing words:   0%|          | 0/215935 [00:00<?, ?it/s]"
            ],
            "application/vnd.jupyter.widget-view+json": {
              "version_major": 2,
              "version_minor": 0,
              "model_id": "08beaa392ad34a239e928417057b16ca"
            }
          },
          "metadata": {}
        }
      ],
      "source": [
        "\n",
        "\n",
        "\n",
        "train_x, val_x, train_y, val_y, dict_train_val, dict_test, max_length = get_xy_adjusted(\n",
        "    full_dictionary=full_dictionary,\n",
        "    test_size=test_size,\n",
        "    val_size=val_size\n",
        "\n",
        ")\n",
        "\n"
      ]
    },
    {
      "cell_type": "code",
      "execution_count": null,
      "metadata": {
        "id": "9OP_t1zKMDqA",
        "colab": {
          "base_uri": "https://localhost:8080/",
          "height": 1000
        },
        "outputId": "da65c95e-17fb-4e1b-cbc0-7c2c2b10f8f2"
      },
      "outputs": [
        {
          "output_type": "stream",
          "name": "stdout",
          "text": [
            "Epoch 1/200\n",
            "1913/1913 [==============================] - ETA: 0s - loss: 1.8402 - accuracy: 0.4220 - top_k_categorical_accuracy: 0.7946\n",
            "Epoch 1: val_loss improved from inf to 1.41996, saving model to /content/drive/MyDrive/2_The_best_lstm_model.keras\n",
            "1913/1913 [==============================] - 106s 49ms/step - loss: 1.8402 - accuracy: 0.4220 - top_k_categorical_accuracy: 0.7946 - val_loss: 1.4200 - val_accuracy: 0.5462 - val_top_k_categorical_accuracy: 0.8766 - lr: 0.0010\n",
            "Epoch 2/200\n",
            "1913/1913 [==============================] - ETA: 0s - loss: 1.3801 - accuracy: 0.5667 - top_k_categorical_accuracy: 0.8799\n",
            "Epoch 2: val_loss improved from 1.41996 to 1.23216, saving model to /content/drive/MyDrive/2_The_best_lstm_model.keras\n",
            "1913/1913 [==============================] - 90s 47ms/step - loss: 1.3801 - accuracy: 0.5667 - top_k_categorical_accuracy: 0.8799 - val_loss: 1.2322 - val_accuracy: 0.6071 - val_top_k_categorical_accuracy: 0.9015 - lr: 0.0010\n",
            "Epoch 3/200\n",
            "1913/1913 [==============================] - ETA: 0s - loss: 1.2209 - accuracy: 0.6183 - top_k_categorical_accuracy: 0.9000\n",
            "Epoch 3: val_loss improved from 1.23216 to 1.12792, saving model to /content/drive/MyDrive/2_The_best_lstm_model.keras\n",
            "1913/1913 [==============================] - 90s 47ms/step - loss: 1.2209 - accuracy: 0.6183 - top_k_categorical_accuracy: 0.9000 - val_loss: 1.1279 - val_accuracy: 0.6419 - val_top_k_categorical_accuracy: 0.9119 - lr: 0.0010\n",
            "Epoch 4/200\n",
            "1913/1913 [==============================] - ETA: 0s - loss: 1.1197 - accuracy: 0.6509 - top_k_categorical_accuracy: 0.9113\n",
            "Epoch 4: val_loss improved from 1.12792 to 1.06387, saving model to /content/drive/MyDrive/2_The_best_lstm_model.keras\n",
            "1913/1913 [==============================] - 91s 47ms/step - loss: 1.1197 - accuracy: 0.6509 - top_k_categorical_accuracy: 0.9113 - val_loss: 1.0639 - val_accuracy: 0.6627 - val_top_k_categorical_accuracy: 0.9194 - lr: 0.0010\n",
            "Epoch 5/200\n",
            "1913/1913 [==============================] - ETA: 0s - loss: 1.0474 - accuracy: 0.6740 - top_k_categorical_accuracy: 0.9194\n",
            "Epoch 5: val_loss improved from 1.06387 to 1.01494, saving model to /content/drive/MyDrive/2_The_best_lstm_model.keras\n",
            "1913/1913 [==============================] - 90s 47ms/step - loss: 1.0474 - accuracy: 0.6740 - top_k_categorical_accuracy: 0.9194 - val_loss: 1.0149 - val_accuracy: 0.6801 - val_top_k_categorical_accuracy: 0.9241 - lr: 0.0010\n",
            "Epoch 6/200\n",
            "1913/1913 [==============================] - ETA: 0s - loss: 0.9930 - accuracy: 0.6911 - top_k_categorical_accuracy: 0.9248\n",
            "Epoch 6: val_loss improved from 1.01494 to 0.98097, saving model to /content/drive/MyDrive/2_The_best_lstm_model.keras\n",
            "1913/1913 [==============================] - 90s 47ms/step - loss: 0.9930 - accuracy: 0.6911 - top_k_categorical_accuracy: 0.9248 - val_loss: 0.9810 - val_accuracy: 0.6896 - val_top_k_categorical_accuracy: 0.9281 - lr: 0.0010\n",
            "Epoch 7/200\n",
            "1913/1913 [==============================] - ETA: 0s - loss: 0.9495 - accuracy: 0.7047 - top_k_categorical_accuracy: 0.9292\n",
            "Epoch 7: val_loss improved from 0.98097 to 0.95471, saving model to /content/drive/MyDrive/2_The_best_lstm_model.keras\n",
            "1913/1913 [==============================] - 91s 47ms/step - loss: 0.9495 - accuracy: 0.7047 - top_k_categorical_accuracy: 0.9292 - val_loss: 0.9547 - val_accuracy: 0.7019 - val_top_k_categorical_accuracy: 0.9296 - lr: 0.0010\n",
            "Epoch 8/200\n",
            "1913/1913 [==============================] - ETA: 0s - loss: 0.9138 - accuracy: 0.7158 - top_k_categorical_accuracy: 0.9327\n",
            "Epoch 8: val_loss improved from 0.95471 to 0.93946, saving model to /content/drive/MyDrive/2_The_best_lstm_model.keras\n",
            "1913/1913 [==============================] - 90s 47ms/step - loss: 0.9138 - accuracy: 0.7158 - top_k_categorical_accuracy: 0.9327 - val_loss: 0.9395 - val_accuracy: 0.7054 - val_top_k_categorical_accuracy: 0.9313 - lr: 0.0010\n",
            "Epoch 9/200\n",
            "1913/1913 [==============================] - ETA: 0s - loss: 0.8827 - accuracy: 0.7252 - top_k_categorical_accuracy: 0.9354\n",
            "Epoch 9: val_loss improved from 0.93946 to 0.92381, saving model to /content/drive/MyDrive/2_The_best_lstm_model.keras\n",
            "1913/1913 [==============================] - 90s 47ms/step - loss: 0.8827 - accuracy: 0.7252 - top_k_categorical_accuracy: 0.9354 - val_loss: 0.9238 - val_accuracy: 0.7100 - val_top_k_categorical_accuracy: 0.9335 - lr: 0.0010\n",
            "Epoch 10/200\n",
            "1913/1913 [==============================] - ETA: 0s - loss: 0.8566 - accuracy: 0.7332 - top_k_categorical_accuracy: 0.9381\n",
            "Epoch 10: val_loss improved from 0.92381 to 0.91197, saving model to /content/drive/MyDrive/2_The_best_lstm_model.keras\n",
            "1913/1913 [==============================] - 90s 47ms/step - loss: 0.8566 - accuracy: 0.7332 - top_k_categorical_accuracy: 0.9381 - val_loss: 0.9120 - val_accuracy: 0.7153 - val_top_k_categorical_accuracy: 0.9340 - lr: 0.0010\n",
            "Epoch 11/200\n",
            "1913/1913 [==============================] - ETA: 0s - loss: 0.8331 - accuracy: 0.7402 - top_k_categorical_accuracy: 0.9401\n",
            "Epoch 11: val_loss improved from 0.91197 to 0.90504, saving model to /content/drive/MyDrive/2_The_best_lstm_model.keras\n",
            "1913/1913 [==============================] - 91s 47ms/step - loss: 0.8331 - accuracy: 0.7402 - top_k_categorical_accuracy: 0.9401 - val_loss: 0.9050 - val_accuracy: 0.7172 - val_top_k_categorical_accuracy: 0.9348 - lr: 0.0010\n",
            "Epoch 12/200\n",
            "1913/1913 [==============================] - ETA: 0s - loss: 0.8131 - accuracy: 0.7464 - top_k_categorical_accuracy: 0.9419\n",
            "Epoch 12: val_loss improved from 0.90504 to 0.89255, saving model to /content/drive/MyDrive/2_The_best_lstm_model.keras\n",
            "1913/1913 [==============================] - 91s 47ms/step - loss: 0.8131 - accuracy: 0.7464 - top_k_categorical_accuracy: 0.9419 - val_loss: 0.8926 - val_accuracy: 0.7217 - val_top_k_categorical_accuracy: 0.9354 - lr: 0.0010\n",
            "Epoch 13/200\n",
            "1913/1913 [==============================] - ETA: 0s - loss: 0.7943 - accuracy: 0.7520 - top_k_categorical_accuracy: 0.9436\n",
            "Epoch 13: val_loss improved from 0.89255 to 0.88942, saving model to /content/drive/MyDrive/2_The_best_lstm_model.keras\n",
            "1913/1913 [==============================] - 91s 47ms/step - loss: 0.7943 - accuracy: 0.7520 - top_k_categorical_accuracy: 0.9436 - val_loss: 0.8894 - val_accuracy: 0.7231 - val_top_k_categorical_accuracy: 0.9371 - lr: 0.0010\n",
            "Epoch 14/200\n",
            "1913/1913 [==============================] - ETA: 0s - loss: 0.7784 - accuracy: 0.7567 - top_k_categorical_accuracy: 0.9450\n",
            "Epoch 14: val_loss improved from 0.88942 to 0.88322, saving model to /content/drive/MyDrive/2_The_best_lstm_model.keras\n",
            "1913/1913 [==============================] - 91s 47ms/step - loss: 0.7784 - accuracy: 0.7567 - top_k_categorical_accuracy: 0.9450 - val_loss: 0.8832 - val_accuracy: 0.7249 - val_top_k_categorical_accuracy: 0.9367 - lr: 0.0010\n",
            "Epoch 15/200\n",
            "1913/1913 [==============================] - ETA: 0s - loss: 0.7622 - accuracy: 0.7617 - top_k_categorical_accuracy: 0.9465\n",
            "Epoch 15: val_loss did not improve from 0.88322\n",
            "\n",
            "Epoch 15: ReduceLROnPlateau reducing learning rate to 0.0005000000237487257.\n",
            "1913/1913 [==============================] - 91s 47ms/step - loss: 0.7622 - accuracy: 0.7617 - top_k_categorical_accuracy: 0.9465 - val_loss: 0.8886 - val_accuracy: 0.7267 - val_top_k_categorical_accuracy: 0.9370 - lr: 0.0010\n",
            "Epoch 16/200\n",
            "1913/1913 [==============================] - ETA: 0s - loss: 0.6851 - accuracy: 0.7859 - top_k_categorical_accuracy: 0.9518\n",
            "Epoch 16: val_loss improved from 0.88322 to 0.86712, saving model to /content/drive/MyDrive/2_The_best_lstm_model.keras\n",
            "1913/1913 [==============================] - 91s 47ms/step - loss: 0.6851 - accuracy: 0.7859 - top_k_categorical_accuracy: 0.9518 - val_loss: 0.8671 - val_accuracy: 0.7370 - val_top_k_categorical_accuracy: 0.9395 - lr: 5.0000e-04\n",
            "Epoch 17/200\n",
            "1913/1913 [==============================] - ETA: 0s - loss: 0.6595 - accuracy: 0.7934 - top_k_categorical_accuracy: 0.9538\n",
            "Epoch 17: val_loss improved from 0.86712 to 0.86533, saving model to /content/drive/MyDrive/2_The_best_lstm_model.keras\n",
            "1913/1913 [==============================] - 91s 47ms/step - loss: 0.6595 - accuracy: 0.7934 - top_k_categorical_accuracy: 0.9538 - val_loss: 0.8653 - val_accuracy: 0.7380 - val_top_k_categorical_accuracy: 0.9391 - lr: 5.0000e-04\n",
            "Epoch 18/200\n",
            "1913/1913 [==============================] - ETA: 0s - loss: 0.6441 - accuracy: 0.7982 - top_k_categorical_accuracy: 0.9553\n",
            "Epoch 18: val_loss did not improve from 0.86533\n",
            "\n",
            "Epoch 18: ReduceLROnPlateau reducing learning rate to 0.0002500000118743628.\n",
            "1913/1913 [==============================] - 90s 47ms/step - loss: 0.6441 - accuracy: 0.7982 - top_k_categorical_accuracy: 0.9553 - val_loss: 0.8699 - val_accuracy: 0.7370 - val_top_k_categorical_accuracy: 0.9399 - lr: 5.0000e-04\n",
            "Epoch 19/200\n",
            "1913/1913 [==============================] - ETA: 0s - loss: 0.5952 - accuracy: 0.8133 - top_k_categorical_accuracy: 0.9582\n",
            "Epoch 19: val_loss did not improve from 0.86533\n",
            "\n",
            "Epoch 19: ReduceLROnPlateau reducing learning rate to 0.0001250000059371814.\n",
            "1913/1913 [==============================] - 90s 47ms/step - loss: 0.5952 - accuracy: 0.8133 - top_k_categorical_accuracy: 0.9582 - val_loss: 0.8818 - val_accuracy: 0.7414 - val_top_k_categorical_accuracy: 0.9398 - lr: 2.5000e-04\n",
            "Epoch 20/200\n",
            "1913/1913 [==============================] - ETA: 0s - loss: 0.5606 - accuracy: 0.8246 - top_k_categorical_accuracy: 0.9603\n",
            "Epoch 20: val_loss did not improve from 0.86533\n",
            "\n",
            "Epoch 20: ReduceLROnPlateau reducing learning rate to 6.25000029685907e-05.\n",
            "1913/1913 [==============================] - 90s 47ms/step - loss: 0.5606 - accuracy: 0.8246 - top_k_categorical_accuracy: 0.9603 - val_loss: 0.8934 - val_accuracy: 0.7425 - val_top_k_categorical_accuracy: 0.9396 - lr: 1.2500e-04\n",
            "Epoch 21/200\n",
            "1913/1913 [==============================] - ETA: 0s - loss: 0.5408 - accuracy: 0.8310 - top_k_categorical_accuracy: 0.9614\n",
            "Epoch 21: val_loss did not improve from 0.86533\n",
            "\n",
            "Epoch 21: ReduceLROnPlateau reducing learning rate to 3.125000148429535e-05.\n",
            "1913/1913 [==============================] - 90s 47ms/step - loss: 0.5408 - accuracy: 0.8310 - top_k_categorical_accuracy: 0.9614 - val_loss: 0.9093 - val_accuracy: 0.7427 - val_top_k_categorical_accuracy: 0.9394 - lr: 6.2500e-05\n",
            "Epoch 22/200\n",
            "1912/1913 [============================>.] - ETA: 0s - loss: 0.5303 - accuracy: 0.8347 - top_k_categorical_accuracy: 0.9619\n",
            "Epoch 22: val_loss did not improve from 0.86533\n",
            "\n",
            "Epoch 22: ReduceLROnPlateau reducing learning rate to 1.5625000742147677e-05.\n",
            "1913/1913 [==============================] - 90s 47ms/step - loss: 0.5302 - accuracy: 0.8347 - top_k_categorical_accuracy: 0.9619 - val_loss: 0.9201 - val_accuracy: 0.7418 - val_top_k_categorical_accuracy: 0.9392 - lr: 3.1250e-05\n",
            "Epoch 23/200\n",
            "1913/1913 [==============================] - ETA: 0s - loss: 0.5247 - accuracy: 0.8364 - top_k_categorical_accuracy: 0.9623\n",
            "Epoch 23: val_loss did not improve from 0.86533\n",
            "\n",
            "Epoch 23: ReduceLROnPlateau reducing learning rate to 7.812500371073838e-06.\n",
            "1913/1913 [==============================] - 91s 47ms/step - loss: 0.5247 - accuracy: 0.8364 - top_k_categorical_accuracy: 0.9623 - val_loss: 0.9268 - val_accuracy: 0.7419 - val_top_k_categorical_accuracy: 0.9390 - lr: 1.5625e-05\n",
            "Epoch 24/200\n",
            "1913/1913 [==============================] - ETA: 0s - loss: 0.5216 - accuracy: 0.8375 - top_k_categorical_accuracy: 0.9625\n",
            "Epoch 24: val_loss did not improve from 0.86533\n",
            "\n",
            "Epoch 24: ReduceLROnPlateau reducing learning rate to 3.906250185536919e-06.\n",
            "1913/1913 [==============================] - 91s 47ms/step - loss: 0.5216 - accuracy: 0.8375 - top_k_categorical_accuracy: 0.9625 - val_loss: 0.9314 - val_accuracy: 0.7420 - val_top_k_categorical_accuracy: 0.9390 - lr: 7.8125e-06\n",
            "Epoch 25/200\n",
            "1913/1913 [==============================] - ETA: 0s - loss: 0.5201 - accuracy: 0.8379 - top_k_categorical_accuracy: 0.9627\n",
            "Epoch 25: val_loss did not improve from 0.86533\n",
            "\n",
            "Epoch 25: ReduceLROnPlateau reducing learning rate to 1.9531250927684596e-06.\n",
            "1913/1913 [==============================] - 91s 47ms/step - loss: 0.5201 - accuracy: 0.8379 - top_k_categorical_accuracy: 0.9627 - val_loss: 0.9323 - val_accuracy: 0.7418 - val_top_k_categorical_accuracy: 0.9391 - lr: 3.9063e-06\n",
            "Epoch 26/200\n",
            "1913/1913 [==============================] - ETA: 0s - loss: 0.5194 - accuracy: 0.8382 - top_k_categorical_accuracy: 0.9626\n",
            "Epoch 26: val_loss did not improve from 0.86533\n",
            "\n",
            "Epoch 26: ReduceLROnPlateau reducing learning rate to 1e-06.\n",
            "1913/1913 [==============================] - 91s 47ms/step - loss: 0.5194 - accuracy: 0.8382 - top_k_categorical_accuracy: 0.9626 - val_loss: 0.9326 - val_accuracy: 0.7418 - val_top_k_categorical_accuracy: 0.9391 - lr: 1.9531e-06\n",
            "Epoch 27/200\n",
            "1913/1913 [==============================] - ETA: 0s - loss: 0.5188 - accuracy: 0.8384 - top_k_categorical_accuracy: 0.9627\n",
            "Epoch 27: val_loss did not improve from 0.86533\n",
            "1913/1913 [==============================] - 90s 47ms/step - loss: 0.5188 - accuracy: 0.8384 - top_k_categorical_accuracy: 0.9627 - val_loss: 0.9331 - val_accuracy: 0.7418 - val_top_k_categorical_accuracy: 0.9392 - lr: 1.0000e-06\n",
            "Epoch 28/200\n",
            "1912/1913 [============================>.] - ETA: 0s - loss: 0.5187 - accuracy: 0.8385 - top_k_categorical_accuracy: 0.9625\n",
            "Epoch 28: val_loss did not improve from 0.86533\n",
            "1913/1913 [==============================] - 90s 47ms/step - loss: 0.5188 - accuracy: 0.8385 - top_k_categorical_accuracy: 0.9625 - val_loss: 0.9339 - val_accuracy: 0.7418 - val_top_k_categorical_accuracy: 0.9391 - lr: 1.0000e-06\n",
            "Epoch 29/200\n",
            "1433/1913 [=====================>........] - ETA: 22s - loss: 0.5184 - accuracy: 0.8385 - top_k_categorical_accuracy: 0.9627"
          ]
        },
        {
          "output_type": "error",
          "ename": "KeyboardInterrupt",
          "evalue": "",
          "traceback": [
            "\u001b[0;31m---------------------------------------------------------------------------\u001b[0m",
            "\u001b[0;31mKeyboardInterrupt\u001b[0m                         Traceback (most recent call last)",
            "\u001b[0;32m<ipython-input-79-d4e7e5c6dde7>\u001b[0m in \u001b[0;36m<cell line: 1>\u001b[0;34m()\u001b[0m\n\u001b[0;32m----> 1\u001b[0;31m \u001b[0mmodel\u001b[0m\u001b[0;34m,\u001b[0m \u001b[0mhistory\u001b[0m \u001b[0;34m=\u001b[0m \u001b[0mtrain_model_with_progress\u001b[0m\u001b[0;34m(\u001b[0m\u001b[0mtrain_x\u001b[0m\u001b[0;34m,\u001b[0m \u001b[0mtrain_y\u001b[0m\u001b[0;34m,\u001b[0m \u001b[0mval_x\u001b[0m\u001b[0;34m,\u001b[0m \u001b[0mval_y\u001b[0m\u001b[0;34m,\u001b[0m \u001b[0mmax_length\u001b[0m\u001b[0;34m,\u001b[0m \u001b[0mbatch_size\u001b[0m\u001b[0;34m=\u001b[0m\u001b[0mbatch_size\u001b[0m\u001b[0;34m,\u001b[0m \u001b[0mepochs\u001b[0m\u001b[0;34m=\u001b[0m\u001b[0mepochs\u001b[0m\u001b[0;34m)\u001b[0m\u001b[0;34m\u001b[0m\u001b[0;34m\u001b[0m\u001b[0m\n\u001b[0m\u001b[1;32m      2\u001b[0m \u001b[0;34m\u001b[0m\u001b[0m\n\u001b[1;32m      3\u001b[0m \u001b[0;34m\u001b[0m\u001b[0m\n\u001b[1;32m      4\u001b[0m \u001b[0;34m\u001b[0m\u001b[0m\n",
            "\u001b[0;32m<ipython-input-78-079dbfd1ae8a>\u001b[0m in \u001b[0;36mtrain_model_with_progress\u001b[0;34m(train_x, train_y, val_x, val_y, max_length, batch_size, epochs, initial_learning_rate, patience, factor, min_lr)\u001b[0m\n\u001b[1;32m     29\u001b[0m \u001b[0;34m\u001b[0m\u001b[0m\n\u001b[1;32m     30\u001b[0m     \u001b[0;31m# Train the model with the provided dataset and progress display\u001b[0m\u001b[0;34m\u001b[0m\u001b[0;34m\u001b[0m\u001b[0m\n\u001b[0;32m---> 31\u001b[0;31m     \u001b[0mhistory\u001b[0m \u001b[0;34m=\u001b[0m \u001b[0mmodel\u001b[0m\u001b[0;34m.\u001b[0m\u001b[0mfit\u001b[0m\u001b[0;34m(\u001b[0m\u001b[0mtrain_x\u001b[0m\u001b[0;34m,\u001b[0m \u001b[0mtrain_y\u001b[0m\u001b[0;34m,\u001b[0m \u001b[0mvalidation_data\u001b[0m\u001b[0;34m=\u001b[0m\u001b[0;34m(\u001b[0m\u001b[0mval_x\u001b[0m\u001b[0;34m,\u001b[0m \u001b[0mval_y\u001b[0m\u001b[0;34m)\u001b[0m\u001b[0;34m,\u001b[0m \u001b[0mbatch_size\u001b[0m\u001b[0;34m=\u001b[0m\u001b[0mbatch_size\u001b[0m\u001b[0;34m,\u001b[0m \u001b[0mepochs\u001b[0m\u001b[0;34m=\u001b[0m\u001b[0mepochs\u001b[0m\u001b[0;34m,\u001b[0m \u001b[0mcallbacks\u001b[0m\u001b[0;34m=\u001b[0m\u001b[0;34m[\u001b[0m\u001b[0mcheckpoint_callback\u001b[0m\u001b[0;34m,\u001b[0m \u001b[0mreduce_lr_callback\u001b[0m\u001b[0;34m]\u001b[0m\u001b[0;34m,\u001b[0m \u001b[0mverbose\u001b[0m\u001b[0;34m=\u001b[0m\u001b[0;36m1\u001b[0m\u001b[0;34m)\u001b[0m\u001b[0;34m\u001b[0m\u001b[0;34m\u001b[0m\u001b[0m\n\u001b[0m\u001b[1;32m     32\u001b[0m \u001b[0;34m\u001b[0m\u001b[0m\n\u001b[1;32m     33\u001b[0m     \u001b[0;32mreturn\u001b[0m \u001b[0mmodel\u001b[0m\u001b[0;34m,\u001b[0m \u001b[0mhistory\u001b[0m\u001b[0;34m\u001b[0m\u001b[0;34m\u001b[0m\u001b[0m\n",
            "\u001b[0;32m/usr/local/lib/python3.10/dist-packages/keras/src/utils/traceback_utils.py\u001b[0m in \u001b[0;36merror_handler\u001b[0;34m(*args, **kwargs)\u001b[0m\n\u001b[1;32m     63\u001b[0m         \u001b[0mfiltered_tb\u001b[0m \u001b[0;34m=\u001b[0m \u001b[0;32mNone\u001b[0m\u001b[0;34m\u001b[0m\u001b[0;34m\u001b[0m\u001b[0m\n\u001b[1;32m     64\u001b[0m         \u001b[0;32mtry\u001b[0m\u001b[0;34m:\u001b[0m\u001b[0;34m\u001b[0m\u001b[0;34m\u001b[0m\u001b[0m\n\u001b[0;32m---> 65\u001b[0;31m             \u001b[0;32mreturn\u001b[0m \u001b[0mfn\u001b[0m\u001b[0;34m(\u001b[0m\u001b[0;34m*\u001b[0m\u001b[0margs\u001b[0m\u001b[0;34m,\u001b[0m \u001b[0;34m**\u001b[0m\u001b[0mkwargs\u001b[0m\u001b[0;34m)\u001b[0m\u001b[0;34m\u001b[0m\u001b[0;34m\u001b[0m\u001b[0m\n\u001b[0m\u001b[1;32m     66\u001b[0m         \u001b[0;32mexcept\u001b[0m \u001b[0mException\u001b[0m \u001b[0;32mas\u001b[0m \u001b[0me\u001b[0m\u001b[0;34m:\u001b[0m\u001b[0;34m\u001b[0m\u001b[0;34m\u001b[0m\u001b[0m\n\u001b[1;32m     67\u001b[0m             \u001b[0mfiltered_tb\u001b[0m \u001b[0;34m=\u001b[0m \u001b[0m_process_traceback_frames\u001b[0m\u001b[0;34m(\u001b[0m\u001b[0me\u001b[0m\u001b[0;34m.\u001b[0m\u001b[0m__traceback__\u001b[0m\u001b[0;34m)\u001b[0m\u001b[0;34m\u001b[0m\u001b[0;34m\u001b[0m\u001b[0m\n",
            "\u001b[0;32m/usr/local/lib/python3.10/dist-packages/keras/src/engine/training.py\u001b[0m in \u001b[0;36mfit\u001b[0;34m(self, x, y, batch_size, epochs, verbose, callbacks, validation_split, validation_data, shuffle, class_weight, sample_weight, initial_epoch, steps_per_epoch, validation_steps, validation_batch_size, validation_freq, max_queue_size, workers, use_multiprocessing)\u001b[0m\n\u001b[1;32m   1811\u001b[0m                             \u001b[0mlogs\u001b[0m \u001b[0;34m=\u001b[0m \u001b[0mtmp_logs\u001b[0m\u001b[0;34m\u001b[0m\u001b[0;34m\u001b[0m\u001b[0m\n\u001b[1;32m   1812\u001b[0m                             \u001b[0mend_step\u001b[0m \u001b[0;34m=\u001b[0m \u001b[0mstep\u001b[0m \u001b[0;34m+\u001b[0m \u001b[0mdata_handler\u001b[0m\u001b[0;34m.\u001b[0m\u001b[0mstep_increment\u001b[0m\u001b[0;34m\u001b[0m\u001b[0;34m\u001b[0m\u001b[0m\n\u001b[0;32m-> 1813\u001b[0;31m                             \u001b[0mcallbacks\u001b[0m\u001b[0;34m.\u001b[0m\u001b[0mon_train_batch_end\u001b[0m\u001b[0;34m(\u001b[0m\u001b[0mend_step\u001b[0m\u001b[0;34m,\u001b[0m \u001b[0mlogs\u001b[0m\u001b[0;34m)\u001b[0m\u001b[0;34m\u001b[0m\u001b[0;34m\u001b[0m\u001b[0m\n\u001b[0m\u001b[1;32m   1814\u001b[0m                             \u001b[0;32mif\u001b[0m \u001b[0mself\u001b[0m\u001b[0;34m.\u001b[0m\u001b[0mstop_training\u001b[0m\u001b[0;34m:\u001b[0m\u001b[0;34m\u001b[0m\u001b[0;34m\u001b[0m\u001b[0m\n\u001b[1;32m   1815\u001b[0m                                 \u001b[0;32mbreak\u001b[0m\u001b[0;34m\u001b[0m\u001b[0;34m\u001b[0m\u001b[0m\n",
            "\u001b[0;32m/usr/local/lib/python3.10/dist-packages/keras/src/callbacks.py\u001b[0m in \u001b[0;36mon_train_batch_end\u001b[0;34m(self, batch, logs)\u001b[0m\n\u001b[1;32m    473\u001b[0m         \"\"\"\n\u001b[1;32m    474\u001b[0m         \u001b[0;32mif\u001b[0m \u001b[0mself\u001b[0m\u001b[0;34m.\u001b[0m\u001b[0m_should_call_train_batch_hooks\u001b[0m\u001b[0;34m:\u001b[0m\u001b[0;34m\u001b[0m\u001b[0;34m\u001b[0m\u001b[0m\n\u001b[0;32m--> 475\u001b[0;31m             \u001b[0mself\u001b[0m\u001b[0;34m.\u001b[0m\u001b[0m_call_batch_hook\u001b[0m\u001b[0;34m(\u001b[0m\u001b[0mModeKeys\u001b[0m\u001b[0;34m.\u001b[0m\u001b[0mTRAIN\u001b[0m\u001b[0;34m,\u001b[0m \u001b[0;34m\"end\"\u001b[0m\u001b[0;34m,\u001b[0m \u001b[0mbatch\u001b[0m\u001b[0;34m,\u001b[0m \u001b[0mlogs\u001b[0m\u001b[0;34m=\u001b[0m\u001b[0mlogs\u001b[0m\u001b[0;34m)\u001b[0m\u001b[0;34m\u001b[0m\u001b[0;34m\u001b[0m\u001b[0m\n\u001b[0m\u001b[1;32m    476\u001b[0m \u001b[0;34m\u001b[0m\u001b[0m\n\u001b[1;32m    477\u001b[0m     \u001b[0;32mdef\u001b[0m \u001b[0mon_test_batch_begin\u001b[0m\u001b[0;34m(\u001b[0m\u001b[0mself\u001b[0m\u001b[0;34m,\u001b[0m \u001b[0mbatch\u001b[0m\u001b[0;34m,\u001b[0m \u001b[0mlogs\u001b[0m\u001b[0;34m=\u001b[0m\u001b[0;32mNone\u001b[0m\u001b[0;34m)\u001b[0m\u001b[0;34m:\u001b[0m\u001b[0;34m\u001b[0m\u001b[0;34m\u001b[0m\u001b[0m\n",
            "\u001b[0;32m/usr/local/lib/python3.10/dist-packages/keras/src/callbacks.py\u001b[0m in \u001b[0;36m_call_batch_hook\u001b[0;34m(self, mode, hook, batch, logs)\u001b[0m\n\u001b[1;32m    320\u001b[0m             \u001b[0mself\u001b[0m\u001b[0;34m.\u001b[0m\u001b[0m_call_batch_begin_hook\u001b[0m\u001b[0;34m(\u001b[0m\u001b[0mmode\u001b[0m\u001b[0;34m,\u001b[0m \u001b[0mbatch\u001b[0m\u001b[0;34m,\u001b[0m \u001b[0mlogs\u001b[0m\u001b[0;34m)\u001b[0m\u001b[0;34m\u001b[0m\u001b[0;34m\u001b[0m\u001b[0m\n\u001b[1;32m    321\u001b[0m         \u001b[0;32melif\u001b[0m \u001b[0mhook\u001b[0m \u001b[0;34m==\u001b[0m \u001b[0;34m\"end\"\u001b[0m\u001b[0;34m:\u001b[0m\u001b[0;34m\u001b[0m\u001b[0;34m\u001b[0m\u001b[0m\n\u001b[0;32m--> 322\u001b[0;31m             \u001b[0mself\u001b[0m\u001b[0;34m.\u001b[0m\u001b[0m_call_batch_end_hook\u001b[0m\u001b[0;34m(\u001b[0m\u001b[0mmode\u001b[0m\u001b[0;34m,\u001b[0m \u001b[0mbatch\u001b[0m\u001b[0;34m,\u001b[0m \u001b[0mlogs\u001b[0m\u001b[0;34m)\u001b[0m\u001b[0;34m\u001b[0m\u001b[0;34m\u001b[0m\u001b[0m\n\u001b[0m\u001b[1;32m    323\u001b[0m         \u001b[0;32melse\u001b[0m\u001b[0;34m:\u001b[0m\u001b[0;34m\u001b[0m\u001b[0;34m\u001b[0m\u001b[0m\n\u001b[1;32m    324\u001b[0m             raise ValueError(\n",
            "\u001b[0;32m/usr/local/lib/python3.10/dist-packages/keras/src/callbacks.py\u001b[0m in \u001b[0;36m_call_batch_end_hook\u001b[0;34m(self, mode, batch, logs)\u001b[0m\n\u001b[1;32m    343\u001b[0m             \u001b[0mself\u001b[0m\u001b[0;34m.\u001b[0m\u001b[0m_batch_times\u001b[0m\u001b[0;34m.\u001b[0m\u001b[0mappend\u001b[0m\u001b[0;34m(\u001b[0m\u001b[0mbatch_time\u001b[0m\u001b[0;34m)\u001b[0m\u001b[0;34m\u001b[0m\u001b[0;34m\u001b[0m\u001b[0m\n\u001b[1;32m    344\u001b[0m \u001b[0;34m\u001b[0m\u001b[0m\n\u001b[0;32m--> 345\u001b[0;31m         \u001b[0mself\u001b[0m\u001b[0;34m.\u001b[0m\u001b[0m_call_batch_hook_helper\u001b[0m\u001b[0;34m(\u001b[0m\u001b[0mhook_name\u001b[0m\u001b[0;34m,\u001b[0m \u001b[0mbatch\u001b[0m\u001b[0;34m,\u001b[0m \u001b[0mlogs\u001b[0m\u001b[0;34m)\u001b[0m\u001b[0;34m\u001b[0m\u001b[0;34m\u001b[0m\u001b[0m\n\u001b[0m\u001b[1;32m    346\u001b[0m \u001b[0;34m\u001b[0m\u001b[0m\n\u001b[1;32m    347\u001b[0m         \u001b[0;32mif\u001b[0m \u001b[0mlen\u001b[0m\u001b[0;34m(\u001b[0m\u001b[0mself\u001b[0m\u001b[0;34m.\u001b[0m\u001b[0m_batch_times\u001b[0m\u001b[0;34m)\u001b[0m \u001b[0;34m>=\u001b[0m \u001b[0mself\u001b[0m\u001b[0;34m.\u001b[0m\u001b[0m_num_batches_for_timing_check\u001b[0m\u001b[0;34m:\u001b[0m\u001b[0;34m\u001b[0m\u001b[0;34m\u001b[0m\u001b[0m\n",
            "\u001b[0;32m/usr/local/lib/python3.10/dist-packages/keras/src/callbacks.py\u001b[0m in \u001b[0;36m_call_batch_hook_helper\u001b[0;34m(self, hook_name, batch, logs)\u001b[0m\n\u001b[1;32m    391\u001b[0m         \u001b[0;32mfor\u001b[0m \u001b[0mcallback\u001b[0m \u001b[0;32min\u001b[0m \u001b[0mself\u001b[0m\u001b[0;34m.\u001b[0m\u001b[0mcallbacks\u001b[0m\u001b[0;34m:\u001b[0m\u001b[0;34m\u001b[0m\u001b[0;34m\u001b[0m\u001b[0m\n\u001b[1;32m    392\u001b[0m             \u001b[0mhook\u001b[0m \u001b[0;34m=\u001b[0m \u001b[0mgetattr\u001b[0m\u001b[0;34m(\u001b[0m\u001b[0mcallback\u001b[0m\u001b[0;34m,\u001b[0m \u001b[0mhook_name\u001b[0m\u001b[0;34m)\u001b[0m\u001b[0;34m\u001b[0m\u001b[0;34m\u001b[0m\u001b[0m\n\u001b[0;32m--> 393\u001b[0;31m             \u001b[0mhook\u001b[0m\u001b[0;34m(\u001b[0m\u001b[0mbatch\u001b[0m\u001b[0;34m,\u001b[0m \u001b[0mlogs\u001b[0m\u001b[0;34m)\u001b[0m\u001b[0;34m\u001b[0m\u001b[0;34m\u001b[0m\u001b[0m\n\u001b[0m\u001b[1;32m    394\u001b[0m \u001b[0;34m\u001b[0m\u001b[0m\n\u001b[1;32m    395\u001b[0m         \u001b[0;32mif\u001b[0m \u001b[0mself\u001b[0m\u001b[0;34m.\u001b[0m\u001b[0m_check_timing\u001b[0m\u001b[0;34m:\u001b[0m\u001b[0;34m\u001b[0m\u001b[0;34m\u001b[0m\u001b[0m\n",
            "\u001b[0;32m/usr/local/lib/python3.10/dist-packages/keras/src/callbacks.py\u001b[0m in \u001b[0;36mon_train_batch_end\u001b[0;34m(self, batch, logs)\u001b[0m\n\u001b[1;32m   1091\u001b[0m \u001b[0;34m\u001b[0m\u001b[0m\n\u001b[1;32m   1092\u001b[0m     \u001b[0;32mdef\u001b[0m \u001b[0mon_train_batch_end\u001b[0m\u001b[0;34m(\u001b[0m\u001b[0mself\u001b[0m\u001b[0;34m,\u001b[0m \u001b[0mbatch\u001b[0m\u001b[0;34m,\u001b[0m \u001b[0mlogs\u001b[0m\u001b[0;34m=\u001b[0m\u001b[0;32mNone\u001b[0m\u001b[0;34m)\u001b[0m\u001b[0;34m:\u001b[0m\u001b[0;34m\u001b[0m\u001b[0;34m\u001b[0m\u001b[0m\n\u001b[0;32m-> 1093\u001b[0;31m         \u001b[0mself\u001b[0m\u001b[0;34m.\u001b[0m\u001b[0m_batch_update_progbar\u001b[0m\u001b[0;34m(\u001b[0m\u001b[0mbatch\u001b[0m\u001b[0;34m,\u001b[0m \u001b[0mlogs\u001b[0m\u001b[0;34m)\u001b[0m\u001b[0;34m\u001b[0m\u001b[0;34m\u001b[0m\u001b[0m\n\u001b[0m\u001b[1;32m   1094\u001b[0m \u001b[0;34m\u001b[0m\u001b[0m\n\u001b[1;32m   1095\u001b[0m     \u001b[0;32mdef\u001b[0m \u001b[0mon_test_batch_end\u001b[0m\u001b[0;34m(\u001b[0m\u001b[0mself\u001b[0m\u001b[0;34m,\u001b[0m \u001b[0mbatch\u001b[0m\u001b[0;34m,\u001b[0m \u001b[0mlogs\u001b[0m\u001b[0;34m=\u001b[0m\u001b[0;32mNone\u001b[0m\u001b[0;34m)\u001b[0m\u001b[0;34m:\u001b[0m\u001b[0;34m\u001b[0m\u001b[0;34m\u001b[0m\u001b[0m\n",
            "\u001b[0;32m/usr/local/lib/python3.10/dist-packages/keras/src/callbacks.py\u001b[0m in \u001b[0;36m_batch_update_progbar\u001b[0;34m(self, batch, logs)\u001b[0m\n\u001b[1;32m   1167\u001b[0m         \u001b[0;32mif\u001b[0m \u001b[0mself\u001b[0m\u001b[0;34m.\u001b[0m\u001b[0mverbose\u001b[0m \u001b[0;34m==\u001b[0m \u001b[0;36m1\u001b[0m\u001b[0;34m:\u001b[0m\u001b[0;34m\u001b[0m\u001b[0;34m\u001b[0m\u001b[0m\n\u001b[1;32m   1168\u001b[0m             \u001b[0;31m# Only block async when verbose = 1.\u001b[0m\u001b[0;34m\u001b[0m\u001b[0;34m\u001b[0m\u001b[0m\n\u001b[0;32m-> 1169\u001b[0;31m             \u001b[0mlogs\u001b[0m \u001b[0;34m=\u001b[0m \u001b[0mtf_utils\u001b[0m\u001b[0;34m.\u001b[0m\u001b[0msync_to_numpy_or_python_type\u001b[0m\u001b[0;34m(\u001b[0m\u001b[0mlogs\u001b[0m\u001b[0;34m)\u001b[0m\u001b[0;34m\u001b[0m\u001b[0;34m\u001b[0m\u001b[0m\n\u001b[0m\u001b[1;32m   1170\u001b[0m             \u001b[0mself\u001b[0m\u001b[0;34m.\u001b[0m\u001b[0mprogbar\u001b[0m\u001b[0;34m.\u001b[0m\u001b[0mupdate\u001b[0m\u001b[0;34m(\u001b[0m\u001b[0mself\u001b[0m\u001b[0;34m.\u001b[0m\u001b[0mseen\u001b[0m\u001b[0;34m,\u001b[0m \u001b[0mlist\u001b[0m\u001b[0;34m(\u001b[0m\u001b[0mlogs\u001b[0m\u001b[0;34m.\u001b[0m\u001b[0mitems\u001b[0m\u001b[0;34m(\u001b[0m\u001b[0;34m)\u001b[0m\u001b[0;34m)\u001b[0m\u001b[0;34m,\u001b[0m \u001b[0mfinalize\u001b[0m\u001b[0;34m=\u001b[0m\u001b[0;32mFalse\u001b[0m\u001b[0;34m)\u001b[0m\u001b[0;34m\u001b[0m\u001b[0;34m\u001b[0m\u001b[0m\n\u001b[1;32m   1171\u001b[0m \u001b[0;34m\u001b[0m\u001b[0m\n",
            "\u001b[0;32m/usr/local/lib/python3.10/dist-packages/keras/src/utils/tf_utils.py\u001b[0m in \u001b[0;36msync_to_numpy_or_python_type\u001b[0;34m(tensors)\u001b[0m\n\u001b[1;32m    692\u001b[0m         \u001b[0;32mreturn\u001b[0m \u001b[0mt\u001b[0m\u001b[0;34m.\u001b[0m\u001b[0mitem\u001b[0m\u001b[0;34m(\u001b[0m\u001b[0;34m)\u001b[0m \u001b[0;32mif\u001b[0m \u001b[0mnp\u001b[0m\u001b[0;34m.\u001b[0m\u001b[0mndim\u001b[0m\u001b[0;34m(\u001b[0m\u001b[0mt\u001b[0m\u001b[0;34m)\u001b[0m \u001b[0;34m==\u001b[0m \u001b[0;36m0\u001b[0m \u001b[0;32melse\u001b[0m \u001b[0mt\u001b[0m\u001b[0;34m\u001b[0m\u001b[0;34m\u001b[0m\u001b[0m\n\u001b[1;32m    693\u001b[0m \u001b[0;34m\u001b[0m\u001b[0m\n\u001b[0;32m--> 694\u001b[0;31m     \u001b[0;32mreturn\u001b[0m \u001b[0mtf\u001b[0m\u001b[0;34m.\u001b[0m\u001b[0mnest\u001b[0m\u001b[0;34m.\u001b[0m\u001b[0mmap_structure\u001b[0m\u001b[0;34m(\u001b[0m\u001b[0m_to_single_numpy_or_python_type\u001b[0m\u001b[0;34m,\u001b[0m \u001b[0mtensors\u001b[0m\u001b[0;34m)\u001b[0m\u001b[0;34m\u001b[0m\u001b[0;34m\u001b[0m\u001b[0m\n\u001b[0m\u001b[1;32m    695\u001b[0m \u001b[0;34m\u001b[0m\u001b[0m\n\u001b[1;32m    696\u001b[0m \u001b[0;34m\u001b[0m\u001b[0m\n",
            "\u001b[0;32m/usr/local/lib/python3.10/dist-packages/tensorflow/python/util/nest.py\u001b[0m in \u001b[0;36mmap_structure\u001b[0;34m(func, *structure, **kwargs)\u001b[0m\n\u001b[1;32m    629\u001b[0m     \u001b[0mValueError\u001b[0m\u001b[0;34m:\u001b[0m \u001b[0mIf\u001b[0m \u001b[0mwrong\u001b[0m \u001b[0mkeyword\u001b[0m \u001b[0marguments\u001b[0m \u001b[0mare\u001b[0m \u001b[0mprovided\u001b[0m\u001b[0;34m.\u001b[0m\u001b[0;34m\u001b[0m\u001b[0;34m\u001b[0m\u001b[0m\n\u001b[1;32m    630\u001b[0m   \"\"\"\n\u001b[0;32m--> 631\u001b[0;31m   return nest_util.map_structure(\n\u001b[0m\u001b[1;32m    632\u001b[0m       \u001b[0mnest_util\u001b[0m\u001b[0;34m.\u001b[0m\u001b[0mModality\u001b[0m\u001b[0;34m.\u001b[0m\u001b[0mCORE\u001b[0m\u001b[0;34m,\u001b[0m \u001b[0mfunc\u001b[0m\u001b[0;34m,\u001b[0m \u001b[0;34m*\u001b[0m\u001b[0mstructure\u001b[0m\u001b[0;34m,\u001b[0m \u001b[0;34m**\u001b[0m\u001b[0mkwargs\u001b[0m\u001b[0;34m\u001b[0m\u001b[0;34m\u001b[0m\u001b[0m\n\u001b[1;32m    633\u001b[0m   )\n",
            "\u001b[0;32m/usr/local/lib/python3.10/dist-packages/tensorflow/python/util/nest_util.py\u001b[0m in \u001b[0;36mmap_structure\u001b[0;34m(modality, func, *structure, **kwargs)\u001b[0m\n\u001b[1;32m   1064\u001b[0m   \"\"\"\n\u001b[1;32m   1065\u001b[0m   \u001b[0;32mif\u001b[0m \u001b[0mmodality\u001b[0m \u001b[0;34m==\u001b[0m \u001b[0mModality\u001b[0m\u001b[0;34m.\u001b[0m\u001b[0mCORE\u001b[0m\u001b[0;34m:\u001b[0m\u001b[0;34m\u001b[0m\u001b[0;34m\u001b[0m\u001b[0m\n\u001b[0;32m-> 1066\u001b[0;31m     \u001b[0;32mreturn\u001b[0m \u001b[0m_tf_core_map_structure\u001b[0m\u001b[0;34m(\u001b[0m\u001b[0mfunc\u001b[0m\u001b[0;34m,\u001b[0m \u001b[0;34m*\u001b[0m\u001b[0mstructure\u001b[0m\u001b[0;34m,\u001b[0m \u001b[0;34m**\u001b[0m\u001b[0mkwargs\u001b[0m\u001b[0;34m)\u001b[0m\u001b[0;34m\u001b[0m\u001b[0;34m\u001b[0m\u001b[0m\n\u001b[0m\u001b[1;32m   1067\u001b[0m   \u001b[0;32melif\u001b[0m \u001b[0mmodality\u001b[0m \u001b[0;34m==\u001b[0m \u001b[0mModality\u001b[0m\u001b[0;34m.\u001b[0m\u001b[0mDATA\u001b[0m\u001b[0;34m:\u001b[0m\u001b[0;34m\u001b[0m\u001b[0;34m\u001b[0m\u001b[0m\n\u001b[1;32m   1068\u001b[0m     \u001b[0;32mreturn\u001b[0m \u001b[0m_tf_data_map_structure\u001b[0m\u001b[0;34m(\u001b[0m\u001b[0mfunc\u001b[0m\u001b[0;34m,\u001b[0m \u001b[0;34m*\u001b[0m\u001b[0mstructure\u001b[0m\u001b[0;34m,\u001b[0m \u001b[0;34m**\u001b[0m\u001b[0mkwargs\u001b[0m\u001b[0;34m)\u001b[0m\u001b[0;34m\u001b[0m\u001b[0;34m\u001b[0m\u001b[0m\n",
            "\u001b[0;32m/usr/local/lib/python3.10/dist-packages/tensorflow/python/util/nest_util.py\u001b[0m in \u001b[0;36m_tf_core_map_structure\u001b[0;34m(func, *structure, **kwargs)\u001b[0m\n\u001b[1;32m   1104\u001b[0m   return _tf_core_pack_sequence_as(\n\u001b[1;32m   1105\u001b[0m       \u001b[0mstructure\u001b[0m\u001b[0;34m[\u001b[0m\u001b[0;36m0\u001b[0m\u001b[0;34m]\u001b[0m\u001b[0;34m,\u001b[0m\u001b[0;34m\u001b[0m\u001b[0;34m\u001b[0m\u001b[0m\n\u001b[0;32m-> 1106\u001b[0;31m       \u001b[0;34m[\u001b[0m\u001b[0mfunc\u001b[0m\u001b[0;34m(\u001b[0m\u001b[0;34m*\u001b[0m\u001b[0mx\u001b[0m\u001b[0;34m)\u001b[0m \u001b[0;32mfor\u001b[0m \u001b[0mx\u001b[0m \u001b[0;32min\u001b[0m \u001b[0mentries\u001b[0m\u001b[0;34m]\u001b[0m\u001b[0;34m,\u001b[0m\u001b[0;34m\u001b[0m\u001b[0;34m\u001b[0m\u001b[0m\n\u001b[0m\u001b[1;32m   1107\u001b[0m       \u001b[0mexpand_composites\u001b[0m\u001b[0;34m=\u001b[0m\u001b[0mexpand_composites\u001b[0m\u001b[0;34m,\u001b[0m\u001b[0;34m\u001b[0m\u001b[0;34m\u001b[0m\u001b[0m\n\u001b[1;32m   1108\u001b[0m   )\n",
            "\u001b[0;32m/usr/local/lib/python3.10/dist-packages/tensorflow/python/util/nest_util.py\u001b[0m in \u001b[0;36m<listcomp>\u001b[0;34m(.0)\u001b[0m\n\u001b[1;32m   1104\u001b[0m   return _tf_core_pack_sequence_as(\n\u001b[1;32m   1105\u001b[0m       \u001b[0mstructure\u001b[0m\u001b[0;34m[\u001b[0m\u001b[0;36m0\u001b[0m\u001b[0;34m]\u001b[0m\u001b[0;34m,\u001b[0m\u001b[0;34m\u001b[0m\u001b[0;34m\u001b[0m\u001b[0m\n\u001b[0;32m-> 1106\u001b[0;31m       \u001b[0;34m[\u001b[0m\u001b[0mfunc\u001b[0m\u001b[0;34m(\u001b[0m\u001b[0;34m*\u001b[0m\u001b[0mx\u001b[0m\u001b[0;34m)\u001b[0m \u001b[0;32mfor\u001b[0m \u001b[0mx\u001b[0m \u001b[0;32min\u001b[0m \u001b[0mentries\u001b[0m\u001b[0;34m]\u001b[0m\u001b[0;34m,\u001b[0m\u001b[0;34m\u001b[0m\u001b[0;34m\u001b[0m\u001b[0m\n\u001b[0m\u001b[1;32m   1107\u001b[0m       \u001b[0mexpand_composites\u001b[0m\u001b[0;34m=\u001b[0m\u001b[0mexpand_composites\u001b[0m\u001b[0;34m,\u001b[0m\u001b[0;34m\u001b[0m\u001b[0;34m\u001b[0m\u001b[0m\n\u001b[1;32m   1108\u001b[0m   )\n",
            "\u001b[0;32m/usr/local/lib/python3.10/dist-packages/keras/src/utils/tf_utils.py\u001b[0m in \u001b[0;36m_to_single_numpy_or_python_type\u001b[0;34m(t)\u001b[0m\n\u001b[1;32m    685\u001b[0m         \u001b[0;31m# Don't turn ragged or sparse tensors to NumPy.\u001b[0m\u001b[0;34m\u001b[0m\u001b[0;34m\u001b[0m\u001b[0m\n\u001b[1;32m    686\u001b[0m         \u001b[0;32mif\u001b[0m \u001b[0misinstance\u001b[0m\u001b[0;34m(\u001b[0m\u001b[0mt\u001b[0m\u001b[0;34m,\u001b[0m \u001b[0mtf\u001b[0m\u001b[0;34m.\u001b[0m\u001b[0mTensor\u001b[0m\u001b[0;34m)\u001b[0m\u001b[0;34m:\u001b[0m\u001b[0;34m\u001b[0m\u001b[0;34m\u001b[0m\u001b[0m\n\u001b[0;32m--> 687\u001b[0;31m             \u001b[0mt\u001b[0m \u001b[0;34m=\u001b[0m \u001b[0mt\u001b[0m\u001b[0;34m.\u001b[0m\u001b[0mnumpy\u001b[0m\u001b[0;34m(\u001b[0m\u001b[0;34m)\u001b[0m\u001b[0;34m\u001b[0m\u001b[0;34m\u001b[0m\u001b[0m\n\u001b[0m\u001b[1;32m    688\u001b[0m         \u001b[0;31m# Strings, ragged and sparse tensors don't have .item(). Return them\u001b[0m\u001b[0;34m\u001b[0m\u001b[0;34m\u001b[0m\u001b[0m\n\u001b[1;32m    689\u001b[0m         \u001b[0;31m# as-is.\u001b[0m\u001b[0;34m\u001b[0m\u001b[0;34m\u001b[0m\u001b[0m\n",
            "\u001b[0;32m/usr/local/lib/python3.10/dist-packages/tensorflow/python/framework/ops.py\u001b[0m in \u001b[0;36mnumpy\u001b[0;34m(self)\u001b[0m\n\u001b[1;32m    392\u001b[0m     \"\"\"\n\u001b[1;32m    393\u001b[0m     \u001b[0;31m# TODO(slebedev): Consider avoiding a copy for non-CPU or remote tensors.\u001b[0m\u001b[0;34m\u001b[0m\u001b[0;34m\u001b[0m\u001b[0m\n\u001b[0;32m--> 394\u001b[0;31m     \u001b[0mmaybe_arr\u001b[0m \u001b[0;34m=\u001b[0m \u001b[0mself\u001b[0m\u001b[0;34m.\u001b[0m\u001b[0m_numpy\u001b[0m\u001b[0;34m(\u001b[0m\u001b[0;34m)\u001b[0m  \u001b[0;31m# pylint: disable=protected-access\u001b[0m\u001b[0;34m\u001b[0m\u001b[0;34m\u001b[0m\u001b[0m\n\u001b[0m\u001b[1;32m    395\u001b[0m     \u001b[0;32mreturn\u001b[0m \u001b[0mmaybe_arr\u001b[0m\u001b[0;34m.\u001b[0m\u001b[0mcopy\u001b[0m\u001b[0;34m(\u001b[0m\u001b[0;34m)\u001b[0m \u001b[0;32mif\u001b[0m \u001b[0misinstance\u001b[0m\u001b[0;34m(\u001b[0m\u001b[0mmaybe_arr\u001b[0m\u001b[0;34m,\u001b[0m \u001b[0mnp\u001b[0m\u001b[0;34m.\u001b[0m\u001b[0mndarray\u001b[0m\u001b[0;34m)\u001b[0m \u001b[0;32melse\u001b[0m \u001b[0mmaybe_arr\u001b[0m\u001b[0;34m\u001b[0m\u001b[0;34m\u001b[0m\u001b[0m\n\u001b[1;32m    396\u001b[0m \u001b[0;34m\u001b[0m\u001b[0m\n",
            "\u001b[0;32m/usr/local/lib/python3.10/dist-packages/tensorflow/python/framework/ops.py\u001b[0m in \u001b[0;36m_numpy\u001b[0;34m(self)\u001b[0m\n\u001b[1;32m    358\u001b[0m   \u001b[0;32mdef\u001b[0m \u001b[0m_numpy\u001b[0m\u001b[0;34m(\u001b[0m\u001b[0mself\u001b[0m\u001b[0;34m)\u001b[0m\u001b[0;34m:\u001b[0m\u001b[0;34m\u001b[0m\u001b[0;34m\u001b[0m\u001b[0m\n\u001b[1;32m    359\u001b[0m     \u001b[0;32mtry\u001b[0m\u001b[0;34m:\u001b[0m\u001b[0;34m\u001b[0m\u001b[0;34m\u001b[0m\u001b[0m\n\u001b[0;32m--> 360\u001b[0;31m       \u001b[0;32mreturn\u001b[0m \u001b[0mself\u001b[0m\u001b[0;34m.\u001b[0m\u001b[0m_numpy_internal\u001b[0m\u001b[0;34m(\u001b[0m\u001b[0;34m)\u001b[0m\u001b[0;34m\u001b[0m\u001b[0;34m\u001b[0m\u001b[0m\n\u001b[0m\u001b[1;32m    361\u001b[0m     \u001b[0;32mexcept\u001b[0m \u001b[0mcore\u001b[0m\u001b[0;34m.\u001b[0m\u001b[0m_NotOkStatusException\u001b[0m \u001b[0;32mas\u001b[0m \u001b[0me\u001b[0m\u001b[0;34m:\u001b[0m  \u001b[0;31m# pylint: disable=protected-access\u001b[0m\u001b[0;34m\u001b[0m\u001b[0;34m\u001b[0m\u001b[0m\n\u001b[1;32m    362\u001b[0m       \u001b[0;32mraise\u001b[0m \u001b[0mcore\u001b[0m\u001b[0;34m.\u001b[0m\u001b[0m_status_to_exception\u001b[0m\u001b[0;34m(\u001b[0m\u001b[0me\u001b[0m\u001b[0;34m)\u001b[0m \u001b[0;32mfrom\u001b[0m \u001b[0;32mNone\u001b[0m  \u001b[0;31m# pylint: disable=protected-access\u001b[0m\u001b[0;34m\u001b[0m\u001b[0;34m\u001b[0m\u001b[0m\n",
            "\u001b[0;31mKeyboardInterrupt\u001b[0m: "
          ]
        }
      ],
      "source": [
        "model, history = train_model_with_progress(train_x, train_y, val_x, val_y, max_length, batch_size=batch_size, epochs=epochs)\n",
        "\n",
        "\n",
        "\n"
      ]
    },
    {
      "cell_type": "code",
      "execution_count": null,
      "metadata": {
        "id": "AHOs6yyggOpD"
      },
      "outputs": [],
      "source": [
        "model.save('/content/drive/MyDrive/lstm_model.keras')"
      ]
    },
    {
      "cell_type": "code",
      "execution_count": null,
      "metadata": {
        "id": "ax6TC0_Ds31N"
      },
      "outputs": [],
      "source": [
        "from tqdm import tqdm\n",
        "from tensorflow.keras.models import load_model\n",
        "import re\n",
        "import collections"
      ]
    },
    {
      "cell_type": "code",
      "execution_count": null,
      "metadata": {
        "id": "JV3_V7G26B-E"
      },
      "outputs": [],
      "source": [
        "model = load_model('/content/drive/MyDrive/2_The_best_lstm_model.keras')"
      ]
    },
    {
      "cell_type": "code",
      "execution_count": null,
      "metadata": {
        "id": "K04TgPCvSFM3"
      },
      "outputs": [],
      "source": [
        "dictionary_file_location = \"/content/drive/MyDrive/words_250000_train.txt\"\n",
        "full_dictionary = build_dictionary(dictionary_file_location)"
      ]
    },
    {
      "cell_type": "code",
      "execution_count": null,
      "metadata": {
        "id": "DFXucJIa_Chb"
      },
      "outputs": [],
      "source": [
        "full_dictionary_common_letter_sorted = collections.Counter(\"\".join(dict_train_val)).most_common()\n",
        "current_dictionary = dict_train_val"
      ]
    },
    {
      "cell_type": "code",
      "execution_count": null,
      "metadata": {
        "id": "SGpXXNWHjWx3"
      },
      "outputs": [],
      "source": [
        "def build_dictionary(dictionary_file_location):\n",
        "    with open(dictionary_file_location, \"r\") as text_file:\n",
        "        full_dictionary = text_file.read().splitlines()\n",
        "    return full_dictionary\n",
        "\n"
      ]
    },
    {
      "cell_type": "code",
      "source": [
        "from collections import Counter, defaultdict\n",
        "import re\n",
        "\n",
        "def refine_possible_words(current_dictionary, pattern):\n",
        "    \"\"\"Refine the list of possible words based on the known pattern.\"\"\"\n",
        "    regex_pattern = re.compile(pattern)\n",
        "    return [word for word in current_dictionary if regex_pattern.match(word)]\n",
        "\n",
        "def calculate_letter_frequencies(possible_words, guessed_letters):\n",
        "    \"\"\"Calculate frequencies of letters in possible words, excluding guessed letters.\"\"\"\n",
        "    letters = \"\".join([word for word in possible_words if all(ch not in guessed_letters for ch in word)])\n",
        "    return Counter(letters)\n",
        "\n",
        "def adjust_probabilities_based_on_feedback(letter_freq, feedback):\n",
        "    \"\"\"Adjust letter frequencies based on feedback from previous guesses.\"\"\"\n",
        "    # This is a placeholder for any logic that adjusts frequencies based on game feedback\n",
        "    return letter_freq\n",
        "\n",
        "def algo_guess_prob(current_dictionary, word, guessed_letters, full_dictionary_common_letter_sorted):\n",
        "    clean_word = word.replace(\" \", \"\").replace(\"_\", \".\")\n",
        "    possible_words = refine_possible_words(current_dictionary, clean_word)\n",
        "\n",
        "    if not possible_words:\n",
        "        # Fallback to full dictionary letter frequency if no matching words\n",
        "        letter_freq = {letter: freq for letter, freq in full_dictionary_common_letter_sorted if letter not in guessed_letters}\n",
        "    else:\n",
        "        letter_freq = calculate_letter_frequencies(possible_words, guessed_letters)\n",
        "\n",
        "    # Example placeholder for feedback adjustment - to be implemented based on game dynamics\n",
        "    letter_freq_adjusted = adjust_probabilities_based_on_feedback(letter_freq, None)\n",
        "\n",
        "    total = sum(letter_freq_adjusted.values())\n",
        "    letter_probs = {letter: count / total for letter, count in letter_freq_adjusted.items() if letter not in guessed_letters}\n",
        "\n",
        "    return letter_probs\n"
      ],
      "metadata": {
        "id": "sXn_cTz6mq40"
      },
      "execution_count": null,
      "outputs": []
    },
    {
      "cell_type": "code",
      "source": [
        "def normalize_counter(counter, guessed_letters):\n",
        "    #print(counter.values())\n",
        "    total = sum(counter.values())\n",
        "    prob_dict = {letter: count / total for letter, count in counter.items() if letter not in guessed_letters}\n",
        "    return prob_dict\n",
        "\n",
        "def combine_predictions(model_probs, algo_probs, guessed_letters):\n",
        "    combined_probs = {}\n",
        "\n",
        "\n",
        "    # 确保算法概率和模型概率使用相同的字母集\n",
        "\n",
        "\n",
        "    model_probs = model_prediction_to_dict(model_probs)\n",
        "\n",
        "\n",
        "    letters = set(model_probs.keys()) | set(algo_probs.keys()) - set(guessed_letters)\n",
        "\n",
        "    for letter in letters:\n",
        "        combined_probs[letter] =  model_probs.get(letter, 0)\n",
        "\n",
        "    # 标准化组合概率分布\n",
        "    total_prob = sum(combined_probs.values())\n",
        "    normalized_probs = {letter: prob / total_prob for letter, prob in combined_probs.items()}\n",
        "\n",
        "    # 选择概率最高的字母\n",
        "    best_guess = max(normalized_probs, key=normalized_probs.get)\n",
        "    return best_guess"
      ],
      "metadata": {
        "id": "bOlH6T-ImrlV"
      },
      "execution_count": null,
      "outputs": []
    },
    {
      "cell_type": "code",
      "source": [
        "def model_prediction_to_dict(model_prediction):\n",
        "    # Convert the model predictions array to a dictionary with characters as keys\n",
        "    return {chr(i + ord('a')): prob for i, prob in enumerate(model_prediction)}"
      ],
      "metadata": {
        "id": "9Zg9lcRbmuAL"
      },
      "execution_count": null,
      "outputs": []
    },
    {
      "cell_type": "code",
      "source": [
        "def hybrid_guess(model, word, guessed_letters, max_length, current_dictionary, full_dictionary_common_letter_sorted):\n",
        "    # 使用模型进行预测\n",
        "    clean_word = word.replace(\" \", \"\")\n",
        "    encoded_word = encode_word(clean_word)\n",
        "    paded_word = pad_sequences([encoded_word], maxlen=max_length, padding='post')\n",
        "    model_prediction = model.predict(paded_word)[0]\n",
        "\n",
        "    for i, letter in enumerate('abcdefghijklmnopqrstuvwxyz'):\n",
        "        if letter in guessed_letters:\n",
        "            model_prediction[i] = 0\n",
        "\n",
        "    # 获取算法预测的概率\n",
        "    algo_probs = algo_guess_prob(current_dictionary, word, guessed_letters, full_dictionary_common_letter_sorted)\n",
        "    algo_probs_normalized = normalize_counter(algo_probs, guessed_letters)\n",
        "\n",
        "    # 结合模型和算法的预测\n",
        "    best_guess = combine_predictions(model_prediction, algo_probs_normalized, guessed_letters)\n",
        "\n",
        "    print(best_guess)\n",
        "    return best_guess"
      ],
      "metadata": {
        "id": "263HIg0qmwzF"
      },
      "execution_count": null,
      "outputs": []
    },
    {
      "cell_type": "code",
      "source": [],
      "metadata": {
        "id": "rH4KfLBb5e7i"
      },
      "execution_count": null,
      "outputs": []
    },
    {
      "cell_type": "code",
      "source": [
        "def play_hangman(model, word_list, max_length, current_dictionary, full_dictionary_common_letter_sorted):\n",
        "    game_wins = 0\n",
        "    game_losses = 0\n",
        "    n = len(word_list)\n",
        "\n",
        "    with tqdm(total=n) as pbar:\n",
        "        for word in word_list:\n",
        "            game = HangmanGame(word_list)\n",
        "            game.start_game()\n",
        "\n",
        "            while True:\n",
        "                masked_word = game.mask_word()\n",
        "\n",
        "                # 使用混合猜测策略替代原有的猜测方法\n",
        "                guess_letter = hybrid_guess(model, masked_word.replace(' ', ''), game.guessed_letters, max_length, current_dictionary, full_dictionary_common_letter_sorted)\n",
        "\n",
        "\n",
        "                correct, message = game.guess_letter(guess_letter)\n",
        "\n",
        "                if message in [\"Win\", \"Lose\"]:\n",
        "                    if message == \"Win\":\n",
        "                        game_wins += 1\n",
        "                    else:\n",
        "                        game_losses += 1\n",
        "                    break\n",
        "\n",
        "            pbar.update(1)  # 更新进度条\n",
        "\n",
        "    print(f\"Played {len(word_list)} games: {game_wins} wins, {game_losses} losses\")\n",
        "    win_rate = (game_wins / n) * 100\n",
        "    print(f\"Win Rate: {win_rate:.2f}%\")\n",
        "    return win_rate"
      ],
      "metadata": {
        "id": "Armv6RGhmy6x"
      },
      "execution_count": null,
      "outputs": []
    },
    {
      "cell_type": "code",
      "source": [
        "win_rate = play_hangman(model, dict_test[:100], max_length, current_dictionary, full_dictionary_common_letter_sorted)\n",
        "\n",
        "\n",
        "\n"
      ],
      "metadata": {
        "colab": {
          "base_uri": "https://localhost:8080/"
        },
        "id": "8i3ch7pAm2eT",
        "outputId": "eecee9b4-8878-46c0-854a-73dffc0e3de5"
      },
      "execution_count": null,
      "outputs": [
        {
          "output_type": "stream",
          "name": "stderr",
          "text": [
            "\r  0%|          | 0/100 [00:00<?, ?it/s]"
          ]
        },
        {
          "output_type": "stream",
          "name": "stdout",
          "text": [
            "1/1 [==============================] - 0s 26ms/step\n",
            "o\n",
            "1/1 [==============================] - 0s 25ms/step\n",
            "n\n",
            "1/1 [==============================] - 0s 25ms/step\n",
            "a\n",
            "1/1 [==============================] - 0s 26ms/step\n",
            "p\n",
            "1/1 [==============================] - 0s 25ms/step\n",
            "l\n",
            "1/1 [==============================] - 0s 24ms/step\n",
            "t\n",
            "1/1 [==============================] - 0s 25ms/step\n"
          ]
        },
        {
          "output_type": "stream",
          "name": "stderr",
          "text": [
            "\r  1%|          | 1/100 [00:02<03:20,  2.03s/it]"
          ]
        },
        {
          "output_type": "stream",
          "name": "stdout",
          "text": [
            "b\n",
            "1/1 [==============================] - 0s 25ms/step\n",
            "h\n",
            "1/1 [==============================] - 0s 25ms/step\n",
            "b\n",
            "1/1 [==============================] - 0s 26ms/step\n",
            "m\n",
            "1/1 [==============================] - 0s 25ms/step\n",
            "o\n",
            "1/1 [==============================] - 0s 25ms/step\n",
            "n\n",
            "1/1 [==============================] - 0s 23ms/step\n",
            "l\n",
            "1/1 [==============================] - 0s 25ms/step\n",
            "r\n",
            "1/1 [==============================] - 0s 29ms/step\n",
            "a\n",
            "1/1 [==============================] - 0s 25ms/step\n"
          ]
        },
        {
          "output_type": "stream",
          "name": "stderr",
          "text": [
            "\r  2%|▏         | 2/100 [00:04<03:24,  2.09s/it]"
          ]
        },
        {
          "output_type": "stream",
          "name": "stdout",
          "text": [
            "k\n",
            "1/1 [==============================] - 0s 24ms/step\n",
            "h\n",
            "1/1 [==============================] - 0s 24ms/step\n",
            "b\n",
            "1/1 [==============================] - 0s 24ms/step\n",
            "m\n",
            "1/1 [==============================] - 0s 27ms/step\n",
            "n\n",
            "1/1 [==============================] - 0s 26ms/step\n",
            "a\n",
            "1/1 [==============================] - 0s 24ms/step\n",
            "i\n",
            "1/1 [==============================] - 0s 25ms/step\n",
            "t\n",
            "1/1 [==============================] - 0s 24ms/step\n",
            "c\n",
            "1/1 [==============================] - 0s 23ms/step\n",
            "s\n",
            "1/1 [==============================] - 0s 23ms/step\n",
            "e\n",
            "1/1 [==============================] - 0s 24ms/step\n"
          ]
        },
        {
          "output_type": "stream",
          "name": "stderr",
          "text": [
            "\r  3%|▎         | 3/100 [00:06<03:17,  2.04s/it]"
          ]
        },
        {
          "output_type": "stream",
          "name": "stdout",
          "text": [
            "l\n",
            "1/1 [==============================] - 0s 25ms/step\n",
            "h\n",
            "1/1 [==============================] - 0s 24ms/step\n",
            "o\n",
            "1/1 [==============================] - 0s 24ms/step\n",
            "b\n",
            "1/1 [==============================] - 0s 25ms/step\n",
            "n\n",
            "1/1 [==============================] - 0s 26ms/step\n",
            "u\n",
            "1/1 [==============================] - 0s 25ms/step\n",
            "i\n",
            "1/1 [==============================] - 0s 26ms/step\n",
            "a\n",
            "1/1 [==============================] - 0s 25ms/step\n"
          ]
        },
        {
          "output_type": "stream",
          "name": "stderr",
          "text": [
            "\r  4%|▍         | 4/100 [00:08<03:29,  2.18s/it]"
          ]
        },
        {
          "output_type": "stream",
          "name": "stdout",
          "text": [
            "p\n",
            "1/1 [==============================] - 0s 30ms/step\n",
            "h\n",
            "1/1 [==============================] - 0s 26ms/step\n",
            "o\n",
            "1/1 [==============================] - 0s 25ms/step\n",
            "y\n",
            "1/1 [==============================] - 0s 25ms/step\n",
            "n\n",
            "1/1 [==============================] - 0s 26ms/step\n",
            "u\n",
            "1/1 [==============================] - 0s 25ms/step\n",
            "a\n",
            "1/1 [==============================] - 0s 25ms/step\n",
            "l\n",
            "1/1 [==============================] - 0s 26ms/step\n",
            "b\n",
            "1/1 [==============================] - 0s 26ms/step\n"
          ]
        },
        {
          "output_type": "stream",
          "name": "stderr",
          "text": [
            "\r  5%|▌         | 5/100 [00:10<03:15,  2.06s/it]"
          ]
        },
        {
          "output_type": "stream",
          "name": "stdout",
          "text": [
            "p\n",
            "1/1 [==============================] - 0s 25ms/step\n",
            "h\n",
            "1/1 [==============================] - 0s 26ms/step\n",
            "o\n",
            "1/1 [==============================] - 0s 24ms/step\n",
            "n\n",
            "1/1 [==============================] - 0s 24ms/step\n",
            "u\n",
            "1/1 [==============================] - 0s 27ms/step\n",
            "i\n",
            "1/1 [==============================] - 0s 27ms/step\n",
            "p\n",
            "1/1 [==============================] - 0s 26ms/step\n",
            "a\n",
            "1/1 [==============================] - 0s 26ms/step\n"
          ]
        },
        {
          "output_type": "stream",
          "name": "stderr",
          "text": [
            "\r  6%|▌         | 6/100 [00:12<03:19,  2.12s/it]"
          ]
        },
        {
          "output_type": "stream",
          "name": "stdout",
          "text": [
            "c\n",
            "1/1 [==============================] - 0s 26ms/step\n",
            "h\n",
            "1/1 [==============================] - 0s 24ms/step\n",
            "o\n",
            "1/1 [==============================] - 0s 25ms/step\n",
            "n\n",
            "1/1 [==============================] - 0s 27ms/step\n",
            "u\n",
            "1/1 [==============================] - 0s 26ms/step\n",
            "r\n",
            "1/1 [==============================] - 0s 25ms/step\n",
            "p\n",
            "1/1 [==============================] - 0s 26ms/step\n",
            "e\n",
            "1/1 [==============================] - 0s 24ms/step\n",
            "t\n",
            "1/1 [==============================] - 0s 26ms/step\n",
            "b\n",
            "1/1 [==============================] - 0s 25ms/step\n",
            "s\n",
            "1/1 [==============================] - 0s 25ms/step\n"
          ]
        },
        {
          "output_type": "stream",
          "name": "stderr",
          "text": [
            "\r  7%|▋         | 7/100 [00:14<03:09,  2.04s/it]"
          ]
        },
        {
          "output_type": "stream",
          "name": "stdout",
          "text": [
            "d\n",
            "1/1 [==============================] - 0s 27ms/step\n",
            "h\n",
            "1/1 [==============================] - 0s 25ms/step\n",
            "b\n",
            "1/1 [==============================] - 0s 25ms/step\n",
            "m\n",
            "1/1 [==============================] - 0s 28ms/step\n",
            "v\n",
            "1/1 [==============================] - 0s 25ms/step\n",
            "w\n",
            "1/1 [==============================] - 0s 25ms/step\n"
          ]
        },
        {
          "output_type": "stream",
          "name": "stderr",
          "text": [
            "\r  8%|▊         | 8/100 [00:15<02:44,  1.79s/it]"
          ]
        },
        {
          "output_type": "stream",
          "name": "stdout",
          "text": [
            "r\n",
            "1/1 [==============================] - 0s 25ms/step\n",
            "h\n",
            "1/1 [==============================] - 0s 26ms/step\n",
            "b\n",
            "1/1 [==============================] - 0s 25ms/step\n",
            "m\n",
            "1/1 [==============================] - 0s 27ms/step\n",
            "v\n",
            "1/1 [==============================] - 0s 24ms/step\n",
            "w\n",
            "1/1 [==============================] - 0s 24ms/step\n"
          ]
        },
        {
          "output_type": "stream",
          "name": "stderr",
          "text": [
            "\r  9%|▉         | 9/100 [00:17<02:28,  1.63s/it]"
          ]
        },
        {
          "output_type": "stream",
          "name": "stdout",
          "text": [
            "r\n",
            "1/1 [==============================] - 0s 25ms/step\n",
            "h\n",
            "1/1 [==============================] - 0s 25ms/step\n",
            "o\n",
            "1/1 [==============================] - 0s 24ms/step\n",
            "n\n",
            "1/1 [==============================] - 0s 24ms/step\n",
            "r\n",
            "1/1 [==============================] - 0s 24ms/step\n",
            "a\n",
            "1/1 [==============================] - 0s 26ms/step\n",
            "u\n",
            "1/1 [==============================] - 0s 26ms/step\n",
            "c\n",
            "1/1 [==============================] - 0s 26ms/step\n",
            "s\n",
            "1/1 [==============================] - 0s 25ms/step\n",
            "w\n",
            "1/1 [==============================] - 0s 26ms/step\n"
          ]
        },
        {
          "output_type": "stream",
          "name": "stderr",
          "text": [
            "\r 10%|█         | 10/100 [00:19<02:42,  1.81s/it]"
          ]
        },
        {
          "output_type": "stream",
          "name": "stdout",
          "text": [
            "t\n",
            "1/1 [==============================] - 0s 25ms/step\n",
            "h\n",
            "1/1 [==============================] - 0s 25ms/step\n",
            "b\n",
            "1/1 [==============================] - 0s 26ms/step\n",
            "m\n",
            "1/1 [==============================] - 0s 26ms/step\n",
            "w\n",
            "1/1 [==============================] - 0s 26ms/step\n",
            "o\n",
            "1/1 [==============================] - 0s 27ms/step\n",
            "n\n",
            "1/1 [==============================] - 0s 28ms/step\n",
            "c\n",
            "1/1 [==============================] - 0s 25ms/step\n",
            "r\n",
            "1/1 [==============================] - 0s 28ms/step\n",
            "a\n",
            "1/1 [==============================] - 0s 26ms/step\n"
          ]
        },
        {
          "output_type": "stream",
          "name": "stderr",
          "text": [
            "\r 11%|█         | 11/100 [00:20<02:35,  1.75s/it]"
          ]
        },
        {
          "output_type": "stream",
          "name": "stdout",
          "text": [
            "p\n",
            "1/1 [==============================] - 0s 28ms/step\n",
            "h\n",
            "1/1 [==============================] - 0s 29ms/step\n",
            "o\n",
            "1/1 [==============================] - 0s 23ms/step\n",
            "n\n",
            "1/1 [==============================] - 0s 26ms/step\n",
            "b\n",
            "1/1 [==============================] - 0s 26ms/step\n",
            "m\n",
            "1/1 [==============================] - 0s 23ms/step\n",
            "a\n",
            "1/1 [==============================] - 0s 25ms/step\n",
            "i\n",
            "1/1 [==============================] - 0s 26ms/step\n"
          ]
        },
        {
          "output_type": "stream",
          "name": "stderr",
          "text": [
            "\r 12%|█▏        | 12/100 [00:23<02:53,  1.97s/it]"
          ]
        },
        {
          "output_type": "stream",
          "name": "stdout",
          "text": [
            "c\n",
            "1/1 [==============================] - 0s 24ms/step\n",
            "h\n",
            "1/1 [==============================] - 0s 24ms/step\n",
            "o\n",
            "1/1 [==============================] - 0s 23ms/step\n",
            "b\n",
            "1/1 [==============================] - 0s 24ms/step\n",
            "t\n",
            "1/1 [==============================] - 0s 25ms/step\n",
            "i\n",
            "1/1 [==============================] - 0s 24ms/step\n",
            "c\n",
            "1/1 [==============================] - 0s 25ms/step\n",
            "s\n",
            "1/1 [==============================] - 0s 26ms/step\n",
            "g\n",
            "1/1 [==============================] - 0s 25ms/step\n",
            "p\n",
            "1/1 [==============================] - 0s 24ms/step\n",
            "l\n",
            "1/1 [==============================] - 0s 24ms/step\n"
          ]
        },
        {
          "output_type": "stream",
          "name": "stderr",
          "text": [
            "\r 13%|█▎        | 13/100 [00:25<02:58,  2.05s/it]"
          ]
        },
        {
          "output_type": "stream",
          "name": "stdout",
          "text": [
            "f\n",
            "1/1 [==============================] - 0s 25ms/step\n",
            "h\n",
            "1/1 [==============================] - 0s 27ms/step\n",
            "o\n",
            "1/1 [==============================] - 0s 26ms/step\n",
            "u\n",
            "1/1 [==============================] - 0s 25ms/step\n",
            "a\n",
            "1/1 [==============================] - 0s 25ms/step\n",
            "b\n",
            "1/1 [==============================] - 0s 26ms/step\n",
            "r\n",
            "1/1 [==============================] - 0s 25ms/step\n",
            "e\n",
            "1/1 [==============================] - 0s 24ms/step\n",
            "i\n",
            "1/1 [==============================] - 0s 24ms/step\n",
            "t\n",
            "1/1 [==============================] - 0s 24ms/step\n",
            "n\n",
            "1/1 [==============================] - 0s 24ms/step\n"
          ]
        },
        {
          "output_type": "stream",
          "name": "stderr",
          "text": [
            "\r 14%|█▍        | 14/100 [00:27<02:51,  1.99s/it]"
          ]
        },
        {
          "output_type": "stream",
          "name": "stdout",
          "text": [
            "l\n",
            "1/1 [==============================] - 0s 24ms/step\n",
            "h\n",
            "1/1 [==============================] - 0s 24ms/step\n",
            "b\n",
            "1/1 [==============================] - 0s 24ms/step\n",
            "m\n",
            "1/1 [==============================] - 0s 26ms/step\n",
            "v\n",
            "1/1 [==============================] - 0s 24ms/step\n",
            "w\n",
            "1/1 [==============================] - 0s 24ms/step\n",
            "r\n",
            "1/1 [==============================] - 0s 24ms/step\n",
            "n\n",
            "1/1 [==============================] - 0s 24ms/step\n",
            "o\n",
            "1/1 [==============================] - 0s 25ms/step\n",
            "a\n",
            "1/1 [==============================] - 0s 25ms/step\n"
          ]
        },
        {
          "output_type": "stream",
          "name": "stderr",
          "text": [
            "\r 15%|█▌        | 15/100 [00:29<02:44,  1.93s/it]"
          ]
        },
        {
          "output_type": "stream",
          "name": "stdout",
          "text": [
            "u\n",
            "1/1 [==============================] - 0s 23ms/step\n",
            "h\n",
            "1/1 [==============================] - 0s 23ms/step\n",
            "b\n",
            "1/1 [==============================] - 0s 25ms/step\n",
            "m\n",
            "1/1 [==============================] - 0s 25ms/step\n",
            "o\n",
            "1/1 [==============================] - 0s 26ms/step\n",
            "u\n",
            "1/1 [==============================] - 0s 26ms/step\n",
            "r\n",
            "1/1 [==============================] - 0s 24ms/step\n",
            "i\n",
            "1/1 [==============================] - 0s 24ms/step\n",
            "s\n",
            "1/1 [==============================] - 0s 24ms/step\n",
            "a\n",
            "1/1 [==============================] - 0s 26ms/step\n",
            "p\n",
            "1/1 [==============================] - 0s 27ms/step\n",
            "e\n",
            "1/1 [==============================] - 0s 26ms/step\n",
            "n\n",
            "1/1 [==============================] - 0s 24ms/step\n"
          ]
        },
        {
          "output_type": "stream",
          "name": "stderr",
          "text": [
            "\r 16%|█▌        | 16/100 [00:31<02:52,  2.05s/it]"
          ]
        },
        {
          "output_type": "stream",
          "name": "stdout",
          "text": [
            "l\n",
            "1/1 [==============================] - 0s 26ms/step\n",
            "h\n",
            "1/1 [==============================] - 0s 25ms/step\n",
            "o\n",
            "1/1 [==============================] - 0s 25ms/step\n",
            "n\n",
            "1/1 [==============================] - 0s 25ms/step\n",
            "u\n",
            "1/1 [==============================] - 0s 25ms/step\n",
            "a\n",
            "1/1 [==============================] - 0s 25ms/step\n",
            "p\n",
            "1/1 [==============================] - 0s 25ms/step\n",
            "b\n",
            "1/1 [==============================] - 0s 25ms/step\n",
            "r\n",
            "1/1 [==============================] - 0s 26ms/step\n"
          ]
        },
        {
          "output_type": "stream",
          "name": "stderr",
          "text": [
            "\r 17%|█▋        | 17/100 [00:33<02:57,  2.14s/it]"
          ]
        },
        {
          "output_type": "stream",
          "name": "stdout",
          "text": [
            "l\n",
            "1/1 [==============================] - 0s 26ms/step\n",
            "h\n",
            "1/1 [==============================] - 0s 24ms/step\n",
            "b\n",
            "1/1 [==============================] - 0s 24ms/step\n",
            "o\n",
            "1/1 [==============================] - 0s 27ms/step\n",
            "w\n",
            "1/1 [==============================] - 0s 27ms/step\n",
            "r\n",
            "1/1 [==============================] - 0s 26ms/step\n",
            "u\n",
            "1/1 [==============================] - 0s 28ms/step\n",
            "a\n",
            "1/1 [==============================] - 0s 25ms/step\n",
            "e\n",
            "1/1 [==============================] - 0s 27ms/step\n",
            "t\n",
            "1/1 [==============================] - 0s 26ms/step\n",
            "p\n",
            "1/1 [==============================] - 0s 24ms/step\n",
            "d\n",
            "1/1 [==============================] - 0s 26ms/step\n",
            "j\n",
            "1/1 [==============================] - 0s 25ms/step\n",
            "s\n",
            "1/1 [==============================] - 0s 25ms/step\n"
          ]
        },
        {
          "output_type": "stream",
          "name": "stderr",
          "text": [
            "\r 18%|█▊        | 18/100 [00:36<03:00,  2.20s/it]"
          ]
        },
        {
          "output_type": "stream",
          "name": "stdout",
          "text": [
            "n\n",
            "1/1 [==============================] - 0s 25ms/step\n",
            "h\n",
            "1/1 [==============================] - 0s 26ms/step\n",
            "v\n",
            "1/1 [==============================] - 0s 25ms/step\n",
            "g\n",
            "1/1 [==============================] - 0s 26ms/step\n",
            "b\n",
            "1/1 [==============================] - 0s 25ms/step\n",
            "n\n",
            "1/1 [==============================] - 0s 27ms/step\n",
            "f\n",
            "1/1 [==============================] - 0s 26ms/step\n",
            "o\n",
            "1/1 [==============================] - 0s 26ms/step\n",
            "t\n",
            "1/1 [==============================] - 0s 26ms/step\n",
            "e\n",
            "1/1 [==============================] - 0s 27ms/step\n",
            "c\n",
            "1/1 [==============================] - 0s 26ms/step\n"
          ]
        },
        {
          "output_type": "stream",
          "name": "stderr",
          "text": [
            "\r 19%|█▉        | 19/100 [00:37<02:46,  2.05s/it]"
          ]
        },
        {
          "output_type": "stream",
          "name": "stdout",
          "text": [
            "y\n",
            "1/1 [==============================] - 0s 27ms/step\n",
            "o\n",
            "1/1 [==============================] - 0s 25ms/step\n",
            "n\n",
            "1/1 [==============================] - 0s 24ms/step\n",
            "a\n",
            "1/1 [==============================] - 0s 24ms/step\n",
            "p\n",
            "1/1 [==============================] - 0s 25ms/step\n",
            "l\n",
            "1/1 [==============================] - 0s 26ms/step\n",
            "t\n",
            "1/1 [==============================] - 0s 25ms/step\n"
          ]
        },
        {
          "output_type": "stream",
          "name": "stderr",
          "text": [
            "\r 20%|██        | 20/100 [00:39<02:43,  2.05s/it]"
          ]
        },
        {
          "output_type": "stream",
          "name": "stdout",
          "text": [
            "b\n",
            "1/1 [==============================] - 0s 24ms/step\n",
            "h\n",
            "1/1 [==============================] - 0s 25ms/step\n",
            "o\n",
            "1/1 [==============================] - 0s 24ms/step\n",
            "b\n",
            "1/1 [==============================] - 0s 26ms/step\n",
            "n\n",
            "1/1 [==============================] - 0s 25ms/step\n",
            "m\n",
            "1/1 [==============================] - 0s 23ms/step\n"
          ]
        },
        {
          "output_type": "stream",
          "name": "stderr",
          "text": [
            "\r 21%|██        | 21/100 [00:41<02:39,  2.01s/it]"
          ]
        },
        {
          "output_type": "stream",
          "name": "stdout",
          "text": [
            "w\n",
            "1/1 [==============================] - 0s 23ms/step\n",
            "h\n",
            "1/1 [==============================] - 0s 23ms/step\n",
            "o\n",
            "1/1 [==============================] - 0s 25ms/step\n",
            "e\n",
            "1/1 [==============================] - 0s 27ms/step\n",
            "r\n",
            "1/1 [==============================] - 0s 24ms/step\n",
            "i\n",
            "1/1 [==============================] - 0s 25ms/step\n",
            "n\n",
            "1/1 [==============================] - 0s 26ms/step\n",
            "p\n",
            "1/1 [==============================] - 0s 26ms/step\n",
            "m\n",
            "1/1 [==============================] - 0s 25ms/step\n",
            "t\n",
            "1/1 [==============================] - 0s 26ms/step\n"
          ]
        },
        {
          "output_type": "stream",
          "name": "stderr",
          "text": [
            "\r 22%|██▏       | 22/100 [00:43<02:27,  1.89s/it]"
          ]
        },
        {
          "output_type": "stream",
          "name": "stdout",
          "text": [
            "s\n",
            "1/1 [==============================] - 0s 24ms/step\n",
            "h\n",
            "1/1 [==============================] - 0s 26ms/step\n",
            "o\n",
            "1/1 [==============================] - 0s 25ms/step\n",
            "b\n",
            "1/1 [==============================] - 0s 28ms/step\n",
            "n\n",
            "1/1 [==============================] - 0s 24ms/step\n",
            "m\n",
            "1/1 [==============================] - 0s 23ms/step\n",
            "a\n",
            "1/1 [==============================] - 0s 24ms/step\n"
          ]
        },
        {
          "output_type": "stream",
          "name": "stderr",
          "text": [
            "\r 23%|██▎       | 23/100 [00:46<02:44,  2.13s/it]"
          ]
        },
        {
          "output_type": "stream",
          "name": "stdout",
          "text": [
            "t\n",
            "1/1 [==============================] - 0s 25ms/step\n",
            "h\n",
            "1/1 [==============================] - 0s 25ms/step\n",
            "b\n",
            "1/1 [==============================] - 0s 24ms/step\n",
            "m\n",
            "1/1 [==============================] - 0s 23ms/step\n",
            "n\n",
            "1/1 [==============================] - 0s 25ms/step\n",
            "o\n",
            "1/1 [==============================] - 0s 25ms/step\n",
            "d\n",
            "1/1 [==============================] - 0s 25ms/step\n",
            "r\n",
            "1/1 [==============================] - 0s 26ms/step\n",
            "y\n",
            "1/1 [==============================] - 0s 24ms/step\n",
            "a\n",
            "1/1 [==============================] - 0s 25ms/step\n",
            "e\n",
            "1/1 [==============================] - 0s 24ms/step\n",
            "l\n",
            "1/1 [==============================] - 0s 24ms/step\n",
            "t\n",
            "1/1 [==============================] - 0s 24ms/step\n",
            "s\n",
            "1/1 [==============================] - 0s 26ms/step\n",
            "c\n",
            "1/1 [==============================] - 0s 26ms/step\n",
            "p\n",
            "1/1 [==============================] - 0s 24ms/step\n"
          ]
        },
        {
          "output_type": "stream",
          "name": "stderr",
          "text": [
            "\r 24%|██▍       | 24/100 [00:48<02:47,  2.21s/it]"
          ]
        },
        {
          "output_type": "stream",
          "name": "stdout",
          "text": [
            "i\n",
            "1/1 [==============================] - 0s 27ms/step\n",
            "h\n",
            "1/1 [==============================] - 0s 25ms/step\n",
            "o\n",
            "1/1 [==============================] - 0s 24ms/step\n",
            "n\n",
            "1/1 [==============================] - 0s 24ms/step\n",
            "u\n",
            "1/1 [==============================] - 0s 25ms/step\n",
            "f\n",
            "1/1 [==============================] - 0s 26ms/step\n",
            "t\n",
            "1/1 [==============================] - 0s 26ms/step\n",
            "p\n",
            "1/1 [==============================] - 0s 24ms/step\n"
          ]
        },
        {
          "output_type": "stream",
          "name": "stderr",
          "text": [
            "\r 25%|██▌       | 25/100 [00:50<02:39,  2.12s/it]"
          ]
        },
        {
          "output_type": "stream",
          "name": "stdout",
          "text": [
            "k\n",
            "1/1 [==============================] - 0s 25ms/step\n",
            "h\n",
            "1/1 [==============================] - 0s 26ms/step\n",
            "b\n",
            "1/1 [==============================] - 0s 25ms/step\n",
            "m\n",
            "1/1 [==============================] - 0s 26ms/step\n",
            "v\n",
            "1/1 [==============================] - 0s 24ms/step\n",
            "w\n",
            "1/1 [==============================] - 0s 25ms/step\n"
          ]
        },
        {
          "output_type": "stream",
          "name": "stderr",
          "text": [
            "\r 26%|██▌       | 26/100 [00:51<02:18,  1.87s/it]"
          ]
        },
        {
          "output_type": "stream",
          "name": "stdout",
          "text": [
            "r\n",
            "1/1 [==============================] - 0s 24ms/step\n",
            "h\n",
            "1/1 [==============================] - 0s 26ms/step\n",
            "o\n",
            "1/1 [==============================] - 0s 27ms/step\n",
            "b\n",
            "1/1 [==============================] - 0s 25ms/step\n",
            "a\n",
            "1/1 [==============================] - 0s 24ms/step\n",
            "u\n",
            "1/1 [==============================] - 0s 24ms/step\n",
            "r\n",
            "1/1 [==============================] - 0s 25ms/step\n",
            "n\n",
            "1/1 [==============================] - 0s 24ms/step\n",
            "d\n",
            "1/1 [==============================] - 0s 26ms/step\n",
            "y\n",
            "1/1 [==============================] - 0s 25ms/step\n",
            "i\n",
            "1/1 [==============================] - 0s 24ms/step\n",
            "c\n",
            "1/1 [==============================] - 0s 26ms/step\n",
            "l\n",
            "1/1 [==============================] - 0s 24ms/step\n"
          ]
        },
        {
          "output_type": "stream",
          "name": "stderr",
          "text": [
            "\r 27%|██▋       | 27/100 [00:53<02:19,  1.91s/it]"
          ]
        },
        {
          "output_type": "stream",
          "name": "stdout",
          "text": [
            "k\n",
            "1/1 [==============================] - 0s 25ms/step\n",
            "h\n",
            "1/1 [==============================] - 0s 24ms/step\n",
            "b\n",
            "1/1 [==============================] - 0s 26ms/step\n",
            "m\n",
            "1/1 [==============================] - 0s 24ms/step\n",
            "n\n",
            "1/1 [==============================] - 0s 26ms/step\n",
            "u\n",
            "1/1 [==============================] - 0s 26ms/step\n",
            "p\n",
            "1/1 [==============================] - 0s 25ms/step\n",
            "c\n",
            "1/1 [==============================] - 0s 27ms/step\n",
            "o\n",
            "1/1 [==============================] - 0s 25ms/step\n",
            "a\n",
            "1/1 [==============================] - 0s 25ms/step\n",
            "r\n",
            "1/1 [==============================] - 0s 27ms/step\n",
            "s\n",
            "1/1 [==============================] - 0s 27ms/step\n",
            "i\n",
            "1/1 [==============================] - 0s 27ms/step\n"
          ]
        },
        {
          "output_type": "stream",
          "name": "stderr",
          "text": [
            "\r 28%|██▊       | 28/100 [00:56<02:32,  2.11s/it]"
          ]
        },
        {
          "output_type": "stream",
          "name": "stdout",
          "text": [
            "t\n",
            "1/1 [==============================] - 0s 29ms/step\n",
            "h\n",
            "1/1 [==============================] - 0s 25ms/step\n",
            "b\n",
            "1/1 [==============================] - 0s 26ms/step\n",
            "m\n",
            "1/1 [==============================] - 0s 25ms/step\n",
            "n\n",
            "1/1 [==============================] - 0s 25ms/step\n",
            "a\n",
            "1/1 [==============================] - 0s 26ms/step\n",
            "i\n",
            "1/1 [==============================] - 0s 25ms/step\n",
            "t\n",
            "1/1 [==============================] - 0s 25ms/step\n",
            "c\n",
            "1/1 [==============================] - 0s 26ms/step\n",
            "s\n",
            "1/1 [==============================] - 0s 25ms/step\n",
            "e\n",
            "1/1 [==============================] - 0s 25ms/step\n"
          ]
        },
        {
          "output_type": "stream",
          "name": "stderr",
          "text": [
            "\r 29%|██▉       | 29/100 [00:58<02:29,  2.11s/it]"
          ]
        },
        {
          "output_type": "stream",
          "name": "stdout",
          "text": [
            "l\n",
            "1/1 [==============================] - 0s 25ms/step\n",
            "h\n",
            "1/1 [==============================] - 0s 26ms/step\n",
            "o\n",
            "1/1 [==============================] - 0s 25ms/step\n",
            "s\n",
            "1/1 [==============================] - 0s 24ms/step\n",
            "p\n",
            "1/1 [==============================] - 0s 24ms/step\n",
            "a\n",
            "1/1 [==============================] - 0s 25ms/step\n",
            "u\n",
            "1/1 [==============================] - 0s 24ms/step\n",
            "r\n",
            "1/1 [==============================] - 0s 25ms/step\n",
            "i\n",
            "1/1 [==============================] - 0s 28ms/step\n",
            "e\n",
            "1/1 [==============================] - 0s 26ms/step\n",
            "t\n",
            "1/1 [==============================] - 0s 25ms/step\n"
          ]
        },
        {
          "output_type": "stream",
          "name": "stderr",
          "text": [
            "\r 30%|███       | 30/100 [01:00<02:28,  2.12s/it]"
          ]
        },
        {
          "output_type": "stream",
          "name": "stdout",
          "text": [
            "n\n",
            "1/1 [==============================] - 0s 24ms/step\n",
            "h\n",
            "1/1 [==============================] - 0s 25ms/step\n",
            "o\n",
            "1/1 [==============================] - 0s 25ms/step\n",
            "n\n",
            "1/1 [==============================] - 0s 24ms/step\n",
            "d\n",
            "1/1 [==============================] - 0s 26ms/step\n",
            "t\n",
            "1/1 [==============================] - 0s 24ms/step\n",
            "b\n",
            "1/1 [==============================] - 0s 25ms/step\n",
            "r\n",
            "1/1 [==============================] - 0s 26ms/step\n"
          ]
        },
        {
          "output_type": "stream",
          "name": "stderr",
          "text": [
            "\r 31%|███       | 31/100 [01:02<02:16,  1.98s/it]"
          ]
        },
        {
          "output_type": "stream",
          "name": "stdout",
          "text": [
            "a\n",
            "1/1 [==============================] - 0s 27ms/step\n",
            "h\n",
            "1/1 [==============================] - 0s 24ms/step\n",
            "o\n",
            "1/1 [==============================] - 0s 25ms/step\n",
            "y\n",
            "1/1 [==============================] - 0s 27ms/step\n",
            "n\n",
            "1/1 [==============================] - 0s 25ms/step\n",
            "u\n",
            "1/1 [==============================] - 0s 26ms/step\n",
            "a\n",
            "1/1 [==============================] - 0s 23ms/step\n",
            "l\n",
            "1/1 [==============================] - 0s 25ms/step\n",
            "b\n",
            "1/1 [==============================] - 0s 25ms/step\n"
          ]
        },
        {
          "output_type": "stream",
          "name": "stderr",
          "text": [
            "\r 32%|███▏      | 32/100 [01:04<02:10,  1.92s/it]"
          ]
        },
        {
          "output_type": "stream",
          "name": "stdout",
          "text": [
            "p\n",
            "1/1 [==============================] - 0s 24ms/step\n",
            "h\n",
            "1/1 [==============================] - 0s 25ms/step\n",
            "o\n",
            "1/1 [==============================] - 0s 24ms/step\n",
            "n\n",
            "1/1 [==============================] - 0s 25ms/step\n",
            "b\n",
            "1/1 [==============================] - 0s 24ms/step\n",
            "m\n",
            "1/1 [==============================] - 0s 25ms/step\n"
          ]
        },
        {
          "output_type": "stream",
          "name": "stderr",
          "text": [
            "\r 33%|███▎      | 33/100 [01:06<02:21,  2.11s/it]"
          ]
        },
        {
          "output_type": "stream",
          "name": "stdout",
          "text": [
            "f\n",
            "1/1 [==============================] - 0s 24ms/step\n",
            "h\n",
            "1/1 [==============================] - 0s 25ms/step\n",
            "o\n",
            "1/1 [==============================] - 0s 26ms/step\n",
            "e\n",
            "1/1 [==============================] - 0s 25ms/step\n",
            "r\n",
            "1/1 [==============================] - 0s 25ms/step\n",
            "t\n",
            "1/1 [==============================] - 0s 26ms/step\n",
            "i\n",
            "1/1 [==============================] - 0s 25ms/step\n",
            "y\n",
            "1/1 [==============================] - 0s 24ms/step\n",
            "u\n",
            "1/1 [==============================] - 0s 25ms/step\n",
            "a\n",
            "1/1 [==============================] - 0s 25ms/step\n",
            "n\n",
            "1/1 [==============================] - 0s 25ms/step\n",
            "k\n",
            "1/1 [==============================] - 0s 27ms/step\n"
          ]
        },
        {
          "output_type": "stream",
          "name": "stderr",
          "text": [
            "\r 34%|███▍      | 34/100 [01:08<02:15,  2.05s/it]"
          ]
        },
        {
          "output_type": "stream",
          "name": "stdout",
          "text": [
            "c\n",
            "1/1 [==============================] - 0s 26ms/step\n",
            "h\n",
            "1/1 [==============================] - 0s 24ms/step\n",
            "b\n",
            "1/1 [==============================] - 0s 25ms/step\n",
            "m\n",
            "1/1 [==============================] - 0s 26ms/step\n",
            "o\n",
            "1/1 [==============================] - 0s 24ms/step\n",
            "n\n",
            "1/1 [==============================] - 0s 25ms/step\n",
            "l\n",
            "1/1 [==============================] - 0s 24ms/step\n",
            "r\n",
            "1/1 [==============================] - 0s 25ms/step\n",
            "a\n",
            "1/1 [==============================] - 0s 25ms/step\n"
          ]
        },
        {
          "output_type": "stream",
          "name": "stderr",
          "text": [
            "\r 35%|███▌      | 35/100 [01:10<02:14,  2.08s/it]"
          ]
        },
        {
          "output_type": "stream",
          "name": "stdout",
          "text": [
            "k\n",
            "1/1 [==============================] - 0s 24ms/step\n",
            "h\n",
            "1/1 [==============================] - 0s 26ms/step\n",
            "b\n",
            "1/1 [==============================] - 0s 25ms/step\n",
            "o\n",
            "1/1 [==============================] - 0s 24ms/step\n",
            "w\n",
            "1/1 [==============================] - 0s 24ms/step\n",
            "r\n",
            "1/1 [==============================] - 0s 24ms/step\n",
            "u\n",
            "1/1 [==============================] - 0s 26ms/step\n",
            "a\n",
            "1/1 [==============================] - 0s 24ms/step\n",
            "e\n",
            "1/1 [==============================] - 0s 26ms/step\n",
            "t\n",
            "1/1 [==============================] - 0s 26ms/step\n",
            "p\n",
            "1/1 [==============================] - 0s 26ms/step\n",
            "d\n",
            "1/1 [==============================] - 0s 26ms/step\n",
            "j\n",
            "1/1 [==============================] - 0s 26ms/step\n",
            "s\n",
            "1/1 [==============================] - 0s 25ms/step\n"
          ]
        },
        {
          "output_type": "stream",
          "name": "stderr",
          "text": [
            "\r 36%|███▌      | 36/100 [01:12<02:16,  2.14s/it]"
          ]
        },
        {
          "output_type": "stream",
          "name": "stdout",
          "text": [
            "n\n",
            "1/1 [==============================] - 0s 25ms/step\n",
            "h\n",
            "1/1 [==============================] - 0s 25ms/step\n",
            "b\n",
            "1/1 [==============================] - 0s 25ms/step\n",
            "m\n",
            "1/1 [==============================] - 0s 24ms/step\n",
            "o\n",
            "1/1 [==============================] - 0s 25ms/step\n",
            "n\n",
            "1/1 [==============================] - 0s 24ms/step\n",
            "u\n",
            "1/1 [==============================] - 0s 25ms/step\n",
            "i\n",
            "1/1 [==============================] - 0s 24ms/step\n",
            "c\n",
            "1/1 [==============================] - 0s 24ms/step\n",
            "t\n",
            "1/1 [==============================] - 0s 25ms/step\n"
          ]
        },
        {
          "output_type": "stream",
          "name": "stderr",
          "text": [
            "\r 37%|███▋      | 37/100 [01:15<02:18,  2.20s/it]"
          ]
        },
        {
          "output_type": "stream",
          "name": "stdout",
          "text": [
            "k\n",
            "1/1 [==============================] - 0s 25ms/step\n",
            "o\n",
            "1/1 [==============================] - 0s 24ms/step\n",
            "n\n",
            "1/1 [==============================] - 0s 25ms/step\n",
            "a\n",
            "1/1 [==============================] - 0s 25ms/step\n",
            "p\n",
            "1/1 [==============================] - 0s 24ms/step\n",
            "l\n",
            "1/1 [==============================] - 0s 24ms/step\n",
            "t\n",
            "1/1 [==============================] - 0s 25ms/step\n"
          ]
        },
        {
          "output_type": "stream",
          "name": "stderr",
          "text": [
            "\r 38%|███▊      | 38/100 [01:17<02:12,  2.14s/it]"
          ]
        },
        {
          "output_type": "stream",
          "name": "stdout",
          "text": [
            "b\n",
            "1/1 [==============================] - 0s 23ms/step\n",
            "h\n",
            "1/1 [==============================] - 0s 25ms/step\n",
            "v\n",
            "1/1 [==============================] - 0s 24ms/step\n",
            "g\n",
            "1/1 [==============================] - 0s 26ms/step\n",
            "b\n",
            "1/1 [==============================] - 0s 25ms/step\n",
            "n\n",
            "1/1 [==============================] - 0s 24ms/step\n",
            "f\n",
            "1/1 [==============================] - 0s 26ms/step\n",
            "o\n",
            "1/1 [==============================] - 0s 25ms/step\n",
            "t\n",
            "1/1 [==============================] - 0s 26ms/step\n",
            "e\n",
            "1/1 [==============================] - 0s 26ms/step\n",
            "c\n",
            "1/1 [==============================] - 0s 24ms/step\n"
          ]
        },
        {
          "output_type": "stream",
          "name": "stderr",
          "text": [
            "\r 39%|███▉      | 39/100 [01:18<02:01,  1.99s/it]"
          ]
        },
        {
          "output_type": "stream",
          "name": "stdout",
          "text": [
            "y\n",
            "1/1 [==============================] - 0s 25ms/step\n",
            "h\n",
            "1/1 [==============================] - 0s 26ms/step\n",
            "c\n",
            "1/1 [==============================] - 0s 25ms/step\n",
            "t\n",
            "1/1 [==============================] - 0s 27ms/step\n",
            "o\n",
            "1/1 [==============================] - 0s 26ms/step\n",
            "p\n",
            "1/1 [==============================] - 0s 25ms/step\n",
            "s\n",
            "1/1 [==============================] - 0s 25ms/step\n",
            "e\n",
            "1/1 [==============================] - 0s 26ms/step\n",
            "r\n",
            "1/1 [==============================] - 0s 25ms/step\n",
            "i\n",
            "1/1 [==============================] - 0s 26ms/step\n",
            "a\n",
            "1/1 [==============================] - 0s 26ms/step\n",
            "b\n",
            "1/1 [==============================] - 0s 24ms/step\n",
            "f\n",
            "1/1 [==============================] - 0s 25ms/step\n"
          ]
        },
        {
          "output_type": "stream",
          "name": "stderr",
          "text": [
            "\r 40%|████      | 40/100 [01:20<01:58,  1.98s/it]"
          ]
        },
        {
          "output_type": "stream",
          "name": "stdout",
          "text": [
            "g\n",
            "1/1 [==============================] - 0s 23ms/step\n",
            "h\n",
            "1/1 [==============================] - 0s 24ms/step\n",
            "o\n",
            "1/1 [==============================] - 0s 26ms/step\n",
            "p\n",
            "1/1 [==============================] - 0s 26ms/step\n",
            "t\n",
            "1/1 [==============================] - 0s 24ms/step\n",
            "c\n",
            "1/1 [==============================] - 0s 24ms/step\n",
            "l\n",
            "1/1 [==============================] - 0s 27ms/step\n",
            "m\n",
            "1/1 [==============================] - 0s 24ms/step\n"
          ]
        },
        {
          "output_type": "stream",
          "name": "stderr",
          "text": [
            "\r 41%|████      | 41/100 [01:22<01:46,  1.80s/it]"
          ]
        },
        {
          "output_type": "stream",
          "name": "stdout",
          "text": [
            "b\n",
            "1/1 [==============================] - 0s 24ms/step\n",
            "h\n",
            "1/1 [==============================] - 0s 24ms/step\n",
            "r\n",
            "1/1 [==============================] - 0s 25ms/step\n",
            "d\n",
            "1/1 [==============================] - 0s 27ms/step\n",
            "o\n",
            "1/1 [==============================] - 0s 25ms/step\n",
            "b\n",
            "1/1 [==============================] - 0s 26ms/step\n",
            "i\n",
            "1/1 [==============================] - 0s 24ms/step\n",
            "e\n",
            "1/1 [==============================] - 0s 24ms/step\n",
            "p\n",
            "1/1 [==============================] - 0s 25ms/step\n",
            "u\n",
            "1/1 [==============================] - 0s 25ms/step\n"
          ]
        },
        {
          "output_type": "stream",
          "name": "stderr",
          "text": [
            "\r 42%|████▏     | 42/100 [01:23<01:42,  1.76s/it]"
          ]
        },
        {
          "output_type": "stream",
          "name": "stdout",
          "text": [
            "l\n",
            "1/1 [==============================] - 0s 23ms/step\n",
            "h\n",
            "1/1 [==============================] - 0s 26ms/step\n",
            "o\n",
            "1/1 [==============================] - 0s 25ms/step\n",
            "n\n",
            "1/1 [==============================] - 0s 24ms/step\n",
            "u\n",
            "1/1 [==============================] - 0s 26ms/step\n",
            "i\n",
            "1/1 [==============================] - 0s 24ms/step\n",
            "p\n",
            "1/1 [==============================] - 0s 26ms/step\n",
            "s\n",
            "1/1 [==============================] - 0s 25ms/step\n",
            "c\n",
            "1/1 [==============================] - 0s 26ms/step\n",
            "m\n",
            "1/1 [==============================] - 0s 26ms/step\n",
            "a\n",
            "1/1 [==============================] - 0s 25ms/step\n"
          ]
        },
        {
          "output_type": "stream",
          "name": "stderr",
          "text": [
            "\r 43%|████▎     | 43/100 [01:26<01:52,  1.98s/it]"
          ]
        },
        {
          "output_type": "stream",
          "name": "stdout",
          "text": [
            "t\n",
            "1/1 [==============================] - 0s 26ms/step\n",
            "h\n",
            "1/1 [==============================] - 0s 24ms/step\n",
            "o\n",
            "1/1 [==============================] - 0s 25ms/step\n",
            "s\n",
            "1/1 [==============================] - 0s 26ms/step\n",
            "d\n",
            "1/1 [==============================] - 0s 25ms/step\n",
            "c\n",
            "1/1 [==============================] - 0s 26ms/step\n",
            "w\n",
            "1/1 [==============================] - 0s 26ms/step\n",
            "y\n",
            "1/1 [==============================] - 0s 25ms/step\n",
            "b\n",
            "1/1 [==============================] - 0s 25ms/step\n",
            "i\n",
            "1/1 [==============================] - 0s 26ms/step\n",
            "a\n",
            "1/1 [==============================] - 0s 25ms/step\n",
            "p\n",
            "1/1 [==============================] - 0s 24ms/step\n",
            "l\n",
            "1/1 [==============================] - 0s 25ms/step\n"
          ]
        },
        {
          "output_type": "stream",
          "name": "stderr",
          "text": [
            "\r 44%|████▍     | 44/100 [01:28<01:53,  2.02s/it]"
          ]
        },
        {
          "output_type": "stream",
          "name": "stdout",
          "text": [
            "r\n",
            "1/1 [==============================] - 0s 27ms/step\n",
            "h\n",
            "1/1 [==============================] - 0s 24ms/step\n",
            "o\n",
            "1/1 [==============================] - 0s 25ms/step\n",
            "n\n",
            "1/1 [==============================] - 0s 25ms/step\n",
            "u\n",
            "1/1 [==============================] - 0s 25ms/step\n",
            "a\n",
            "1/1 [==============================] - 0s 26ms/step\n",
            "i\n",
            "1/1 [==============================] - 0s 25ms/step\n",
            "c\n",
            "1/1 [==============================] - 0s 25ms/step\n"
          ]
        },
        {
          "output_type": "stream",
          "name": "stderr",
          "text": [
            "\r 45%|████▌     | 45/100 [01:30<01:55,  2.09s/it]"
          ]
        },
        {
          "output_type": "stream",
          "name": "stdout",
          "text": [
            "p\n",
            "1/1 [==============================] - 0s 26ms/step\n",
            "h\n",
            "1/1 [==============================] - 0s 25ms/step\n",
            "b\n",
            "1/1 [==============================] - 0s 28ms/step\n",
            "m\n",
            "1/1 [==============================] - 0s 26ms/step\n",
            "v\n",
            "1/1 [==============================] - 0s 26ms/step\n",
            "w\n",
            "1/1 [==============================] - 0s 25ms/step\n"
          ]
        },
        {
          "output_type": "stream",
          "name": "stderr",
          "text": [
            "\r 46%|████▌     | 46/100 [01:32<01:40,  1.86s/it]"
          ]
        },
        {
          "output_type": "stream",
          "name": "stdout",
          "text": [
            "r\n",
            "1/1 [==============================] - 0s 28ms/step\n",
            "h\n",
            "1/1 [==============================] - 0s 27ms/step\n",
            "b\n",
            "1/1 [==============================] - 0s 24ms/step\n",
            "m\n",
            "1/1 [==============================] - 0s 25ms/step\n",
            "o\n",
            "1/1 [==============================] - 0s 25ms/step\n",
            "n\n",
            "1/1 [==============================] - 0s 25ms/step\n"
          ]
        },
        {
          "output_type": "stream",
          "name": "stderr",
          "text": [
            "\r 47%|████▋     | 47/100 [01:34<01:39,  1.87s/it]"
          ]
        },
        {
          "output_type": "stream",
          "name": "stdout",
          "text": [
            "f\n",
            "1/1 [==============================] - 0s 26ms/step\n",
            "h\n",
            "1/1 [==============================] - 0s 25ms/step\n",
            "b\n",
            "1/1 [==============================] - 0s 25ms/step\n",
            "m\n",
            "1/1 [==============================] - 0s 25ms/step\n",
            "n\n",
            "1/1 [==============================] - 0s 25ms/step\n",
            "o\n",
            "1/1 [==============================] - 0s 25ms/step\n",
            "d\n",
            "1/1 [==============================] - 0s 26ms/step\n",
            "r\n",
            "1/1 [==============================] - 0s 26ms/step\n",
            "y\n",
            "1/1 [==============================] - 0s 25ms/step\n",
            "a\n",
            "1/1 [==============================] - 0s 25ms/step\n",
            "e\n",
            "1/1 [==============================] - 0s 27ms/step\n",
            "l\n",
            "1/1 [==============================] - 0s 26ms/step\n",
            "t\n",
            "1/1 [==============================] - 0s 27ms/step\n",
            "s\n",
            "1/1 [==============================] - 0s 28ms/step\n",
            "c\n",
            "1/1 [==============================] - 0s 25ms/step\n",
            "p\n",
            "1/1 [==============================] - 0s 24ms/step\n"
          ]
        },
        {
          "output_type": "stream",
          "name": "stderr",
          "text": [
            "\r 48%|████▊     | 48/100 [01:36<01:47,  2.07s/it]"
          ]
        },
        {
          "output_type": "stream",
          "name": "stdout",
          "text": [
            "i\n",
            "1/1 [==============================] - 0s 26ms/step\n",
            "h\n",
            "1/1 [==============================] - 0s 26ms/step\n",
            "o\n",
            "1/1 [==============================] - 0s 26ms/step\n",
            "n\n",
            "1/1 [==============================] - 0s 27ms/step\n",
            "u\n",
            "1/1 [==============================] - 0s 26ms/step\n",
            "r\n",
            "1/1 [==============================] - 0s 26ms/step\n",
            "p\n",
            "1/1 [==============================] - 0s 25ms/step\n",
            "e\n",
            "1/1 [==============================] - 0s 24ms/step\n",
            "t\n",
            "1/1 [==============================] - 0s 26ms/step\n",
            "b\n",
            "1/1 [==============================] - 0s 26ms/step\n",
            "s\n",
            "1/1 [==============================] - 0s 26ms/step\n"
          ]
        },
        {
          "output_type": "stream",
          "name": "stderr",
          "text": [
            "\r 49%|████▉     | 49/100 [01:38<01:42,  2.02s/it]"
          ]
        },
        {
          "output_type": "stream",
          "name": "stdout",
          "text": [
            "d\n",
            "1/1 [==============================] - 0s 25ms/step\n",
            "h\n",
            "1/1 [==============================] - 0s 25ms/step\n",
            "o\n",
            "1/1 [==============================] - 0s 26ms/step\n",
            "n\n",
            "1/1 [==============================] - 0s 24ms/step\n",
            "u\n",
            "1/1 [==============================] - 0s 25ms/step\n",
            "f\n",
            "1/1 [==============================] - 0s 28ms/step\n",
            "t\n",
            "1/1 [==============================] - 0s 25ms/step\n",
            "p\n",
            "1/1 [==============================] - 0s 25ms/step\n"
          ]
        },
        {
          "output_type": "stream",
          "name": "stderr",
          "text": [
            "\r 50%|█████     | 50/100 [01:40<01:40,  2.01s/it]"
          ]
        },
        {
          "output_type": "stream",
          "name": "stdout",
          "text": [
            "k\n",
            "1/1 [==============================] - 0s 29ms/step\n",
            "h\n",
            "1/1 [==============================] - 0s 25ms/step\n",
            "o\n",
            "1/1 [==============================] - 0s 25ms/step\n",
            "n\n",
            "1/1 [==============================] - 0s 26ms/step\n",
            "u\n",
            "1/1 [==============================] - 0s 26ms/step\n",
            "i\n",
            "1/1 [==============================] - 0s 26ms/step\n",
            "p\n",
            "1/1 [==============================] - 0s 25ms/step\n",
            "t\n",
            "1/1 [==============================] - 0s 26ms/step\n",
            "l\n",
            "1/1 [==============================] - 0s 27ms/step\n",
            "a\n",
            "1/1 [==============================] - 0s 25ms/step\n"
          ]
        },
        {
          "output_type": "stream",
          "name": "stderr",
          "text": [
            "\r 51%|█████     | 51/100 [01:42<01:42,  2.10s/it]"
          ]
        },
        {
          "output_type": "stream",
          "name": "stdout",
          "text": [
            "z\n",
            "1/1 [==============================] - 0s 26ms/step\n",
            "o\n",
            "1/1 [==============================] - 0s 24ms/step\n",
            "a\n",
            "1/1 [==============================] - 0s 26ms/step\n",
            "b\n",
            "1/1 [==============================] - 0s 29ms/step\n",
            "t\n",
            "1/1 [==============================] - 0s 24ms/step\n",
            "i\n",
            "1/1 [==============================] - 0s 22ms/step\n"
          ]
        },
        {
          "output_type": "stream",
          "name": "stderr",
          "text": [
            "\r 52%|█████▏    | 52/100 [01:45<01:47,  2.24s/it]"
          ]
        },
        {
          "output_type": "stream",
          "name": "stdout",
          "text": [
            "n\n",
            "1/1 [==============================] - 0s 25ms/step\n",
            "h\n",
            "1/1 [==============================] - 0s 25ms/step\n",
            "o\n",
            "1/1 [==============================] - 0s 25ms/step\n",
            "b\n",
            "1/1 [==============================] - 0s 25ms/step\n",
            "n\n",
            "1/1 [==============================] - 0s 25ms/step\n",
            "m\n",
            "1/1 [==============================] - 0s 26ms/step\n",
            "a\n",
            "1/1 [==============================] - 0s 24ms/step\n"
          ]
        },
        {
          "output_type": "stream",
          "name": "stderr",
          "text": [
            "\r 53%|█████▎    | 53/100 [01:48<01:52,  2.40s/it]"
          ]
        },
        {
          "output_type": "stream",
          "name": "stdout",
          "text": [
            "p\n",
            "1/1 [==============================] - 0s 27ms/step\n",
            "h\n",
            "1/1 [==============================] - 0s 24ms/step\n",
            "b\n",
            "1/1 [==============================] - 0s 26ms/step\n",
            "a\n",
            "1/1 [==============================] - 0s 26ms/step\n",
            "o\n",
            "1/1 [==============================] - 0s 26ms/step\n",
            "u\n",
            "1/1 [==============================] - 0s 26ms/step\n",
            "r\n",
            "1/1 [==============================] - 0s 26ms/step\n",
            "i\n",
            "1/1 [==============================] - 0s 25ms/step\n",
            "s\n",
            "1/1 [==============================] - 0s 26ms/step\n",
            "n\n",
            "1/1 [==============================] - 0s 26ms/step\n",
            "t\n",
            "1/1 [==============================] - 0s 25ms/step\n"
          ]
        },
        {
          "output_type": "stream",
          "name": "stderr",
          "text": [
            "\r 54%|█████▍    | 54/100 [01:49<01:42,  2.24s/it]"
          ]
        },
        {
          "output_type": "stream",
          "name": "stdout",
          "text": [
            "k\n",
            "1/1 [==============================] - 0s 24ms/step\n",
            "h\n",
            "1/1 [==============================] - 0s 26ms/step\n",
            "o\n",
            "1/1 [==============================] - 0s 26ms/step\n",
            "n\n",
            "1/1 [==============================] - 0s 26ms/step\n",
            "b\n",
            "1/1 [==============================] - 0s 26ms/step\n",
            "m\n",
            "1/1 [==============================] - 0s 26ms/step\n"
          ]
        },
        {
          "output_type": "stream",
          "name": "stderr",
          "text": [
            "\r 55%|█████▌    | 55/100 [01:52<01:46,  2.37s/it]"
          ]
        },
        {
          "output_type": "stream",
          "name": "stdout",
          "text": [
            "f\n",
            "1/1 [==============================] - 0s 24ms/step\n",
            "h\n",
            "1/1 [==============================] - 0s 25ms/step\n",
            "v\n",
            "1/1 [==============================] - 0s 26ms/step\n",
            "o\n",
            "1/1 [==============================] - 0s 27ms/step\n",
            "r\n",
            "1/1 [==============================] - 0s 26ms/step\n",
            "a\n",
            "1/1 [==============================] - 0s 25ms/step\n",
            "u\n",
            "1/1 [==============================] - 0s 27ms/step\n",
            "t\n",
            "1/1 [==============================] - 0s 25ms/step\n",
            "i\n",
            "1/1 [==============================] - 0s 26ms/step\n",
            "d\n",
            "1/1 [==============================] - 0s 27ms/step\n",
            "f\n",
            "1/1 [==============================] - 0s 26ms/step\n"
          ]
        },
        {
          "output_type": "stream",
          "name": "stderr",
          "text": [
            "\r 56%|█████▌    | 56/100 [01:54<01:37,  2.21s/it]"
          ]
        },
        {
          "output_type": "stream",
          "name": "stdout",
          "text": [
            "e\n",
            "1/1 [==============================] - 0s 31ms/step\n",
            "h\n",
            "1/1 [==============================] - 0s 25ms/step\n",
            "o\n",
            "1/1 [==============================] - 0s 26ms/step\n",
            "n\n",
            "1/1 [==============================] - 0s 25ms/step\n",
            "t\n",
            "1/1 [==============================] - 0s 25ms/step\n",
            "u\n",
            "1/1 [==============================] - 0s 25ms/step\n",
            "l\n",
            "1/1 [==============================] - 0s 26ms/step\n",
            "p\n",
            "1/1 [==============================] - 0s 26ms/step\n",
            "b\n",
            "1/1 [==============================] - 0s 26ms/step\n"
          ]
        },
        {
          "output_type": "stream",
          "name": "stderr",
          "text": [
            "\r 57%|█████▋    | 57/100 [01:56<01:34,  2.19s/it]"
          ]
        },
        {
          "output_type": "stream",
          "name": "stdout",
          "text": [
            "r\n",
            "1/1 [==============================] - 0s 25ms/step\n",
            "h\n",
            "1/1 [==============================] - 0s 25ms/step\n",
            "o\n",
            "1/1 [==============================] - 0s 25ms/step\n",
            "b\n",
            "1/1 [==============================] - 0s 24ms/step\n",
            "n\n",
            "1/1 [==============================] - 0s 26ms/step\n",
            "m\n",
            "1/1 [==============================] - 0s 24ms/step\n",
            "a\n",
            "1/1 [==============================] - 0s 24ms/step\n"
          ]
        },
        {
          "output_type": "stream",
          "name": "stderr",
          "text": [
            "\r 58%|█████▊    | 58/100 [01:59<01:38,  2.35s/it]"
          ]
        },
        {
          "output_type": "stream",
          "name": "stdout",
          "text": [
            "g\n",
            "1/1 [==============================] - 0s 24ms/step\n",
            "h\n",
            "1/1 [==============================] - 0s 25ms/step\n",
            "b\n",
            "1/1 [==============================] - 0s 23ms/step\n",
            "m\n",
            "1/1 [==============================] - 0s 25ms/step\n",
            "n\n",
            "1/1 [==============================] - 0s 26ms/step\n",
            "o\n",
            "1/1 [==============================] - 0s 26ms/step\n",
            "u\n",
            "1/1 [==============================] - 0s 27ms/step\n"
          ]
        },
        {
          "output_type": "stream",
          "name": "stderr",
          "text": [
            "\r 59%|█████▉    | 59/100 [02:00<01:27,  2.12s/it]"
          ]
        },
        {
          "output_type": "stream",
          "name": "stdout",
          "text": [
            "c\n",
            "1/1 [==============================] - 0s 27ms/step\n",
            "h\n",
            "1/1 [==============================] - 0s 26ms/step\n",
            "b\n",
            "1/1 [==============================] - 0s 26ms/step\n",
            "m\n",
            "1/1 [==============================] - 0s 26ms/step\n",
            "v\n",
            "1/1 [==============================] - 0s 24ms/step\n",
            "w\n",
            "1/1 [==============================] - 0s 26ms/step\n"
          ]
        },
        {
          "output_type": "stream",
          "name": "stderr",
          "text": [
            "\r 60%|██████    | 60/100 [02:02<01:17,  1.95s/it]"
          ]
        },
        {
          "output_type": "stream",
          "name": "stdout",
          "text": [
            "f\n",
            "1/1 [==============================] - 0s 27ms/step\n",
            "h\n",
            "1/1 [==============================] - 0s 27ms/step\n",
            "b\n",
            "1/1 [==============================] - 0s 28ms/step\n",
            "m\n",
            "1/1 [==============================] - 0s 24ms/step\n",
            "n\n",
            "1/1 [==============================] - 0s 24ms/step\n",
            "o\n",
            "1/1 [==============================] - 0s 23ms/step\n",
            "p\n",
            "1/1 [==============================] - 0s 25ms/step\n",
            "g\n",
            "1/1 [==============================] - 0s 26ms/step\n"
          ]
        },
        {
          "output_type": "stream",
          "name": "stderr",
          "text": [
            "\r 61%|██████    | 61/100 [02:04<01:13,  1.89s/it]"
          ]
        },
        {
          "output_type": "stream",
          "name": "stdout",
          "text": [
            "c\n",
            "1/1 [==============================] - 0s 27ms/step\n",
            "h\n",
            "1/1 [==============================] - 0s 25ms/step\n",
            "o\n",
            "1/1 [==============================] - 0s 25ms/step\n",
            "b\n",
            "1/1 [==============================] - 0s 25ms/step\n",
            "w\n",
            "1/1 [==============================] - 0s 25ms/step\n",
            "f\n",
            "1/1 [==============================] - 0s 24ms/step\n",
            "r\n",
            "1/1 [==============================] - 0s 24ms/step\n",
            "t\n",
            "1/1 [==============================] - 0s 25ms/step\n",
            "i\n",
            "1/1 [==============================] - 0s 23ms/step\n",
            "c\n",
            "1/1 [==============================] - 0s 25ms/step\n",
            "s\n",
            "1/1 [==============================] - 0s 25ms/step\n",
            "e\n",
            "1/1 [==============================] - 0s 26ms/step\n",
            "p\n",
            "1/1 [==============================] - 0s 26ms/step\n",
            "l\n",
            "1/1 [==============================] - 0s 26ms/step\n"
          ]
        },
        {
          "output_type": "stream",
          "name": "stderr",
          "text": [
            "\r 62%|██████▏   | 62/100 [02:06<01:15,  1.98s/it]"
          ]
        },
        {
          "output_type": "stream",
          "name": "stdout",
          "text": [
            "m\n",
            "1/1 [==============================] - 0s 26ms/step\n",
            "o\n",
            "1/1 [==============================] - 0s 25ms/step\n",
            "n\n",
            "1/1 [==============================] - 0s 25ms/step\n",
            "a\n",
            "1/1 [==============================] - 0s 25ms/step\n",
            "b\n",
            "1/1 [==============================] - 0s 26ms/step\n",
            "r\n",
            "1/1 [==============================] - 0s 26ms/step\n",
            "c\n",
            "1/1 [==============================] - 0s 25ms/step\n",
            "i\n",
            "1/1 [==============================] - 0s 26ms/step\n"
          ]
        },
        {
          "output_type": "stream",
          "name": "stderr",
          "text": [
            "\r 63%|██████▎   | 63/100 [02:08<01:16,  2.07s/it]"
          ]
        },
        {
          "output_type": "stream",
          "name": "stdout",
          "text": [
            "t\n",
            "1/1 [==============================] - 0s 24ms/step\n",
            "h\n",
            "1/1 [==============================] - 0s 26ms/step\n",
            "c\n",
            "1/1 [==============================] - 0s 24ms/step\n",
            "t\n",
            "1/1 [==============================] - 0s 25ms/step\n",
            "o\n",
            "1/1 [==============================] - 0s 24ms/step\n",
            "p\n",
            "1/1 [==============================] - 0s 23ms/step\n",
            "s\n",
            "1/1 [==============================] - 0s 24ms/step\n",
            "e\n",
            "1/1 [==============================] - 0s 26ms/step\n",
            "r\n",
            "1/1 [==============================] - 0s 24ms/step\n",
            "i\n",
            "1/1 [==============================] - 0s 24ms/step\n",
            "a\n",
            "1/1 [==============================] - 0s 27ms/step\n",
            "b\n",
            "1/1 [==============================] - 0s 26ms/step\n",
            "f\n",
            "1/1 [==============================] - 0s 25ms/step\n"
          ]
        },
        {
          "output_type": "stream",
          "name": "stderr",
          "text": [
            "\r 64%|██████▍   | 64/100 [02:10<01:12,  2.03s/it]"
          ]
        },
        {
          "output_type": "stream",
          "name": "stdout",
          "text": [
            "g\n",
            "1/1 [==============================] - 0s 24ms/step\n",
            "h\n",
            "1/1 [==============================] - 0s 24ms/step\n",
            "b\n",
            "1/1 [==============================] - 0s 26ms/step\n",
            "m\n",
            "1/1 [==============================] - 0s 24ms/step\n",
            "n\n",
            "1/1 [==============================] - 0s 25ms/step\n",
            "o\n",
            "1/1 [==============================] - 0s 24ms/step\n",
            "u\n",
            "1/1 [==============================] - 0s 25ms/step\n"
          ]
        },
        {
          "output_type": "stream",
          "name": "stderr",
          "text": [
            "\r 65%|██████▌   | 65/100 [02:12<01:06,  1.89s/it]"
          ]
        },
        {
          "output_type": "stream",
          "name": "stdout",
          "text": [
            "c\n",
            "1/1 [==============================] - 0s 25ms/step\n",
            "h\n",
            "1/1 [==============================] - 0s 24ms/step\n",
            "o\n",
            "1/1 [==============================] - 0s 25ms/step\n",
            "b\n",
            "1/1 [==============================] - 0s 26ms/step\n",
            "n\n",
            "1/1 [==============================] - 0s 24ms/step\n",
            "u\n",
            "1/1 [==============================] - 0s 25ms/step\n",
            "i\n",
            "1/1 [==============================] - 0s 29ms/step\n",
            "a\n",
            "1/1 [==============================] - 0s 25ms/step\n"
          ]
        },
        {
          "output_type": "stream",
          "name": "stderr",
          "text": [
            "\r 66%|██████▌   | 66/100 [02:14<01:10,  2.06s/it]"
          ]
        },
        {
          "output_type": "stream",
          "name": "stdout",
          "text": [
            "p\n",
            "1/1 [==============================] - 0s 25ms/step\n",
            "h\n",
            "1/1 [==============================] - 0s 25ms/step\n",
            "o\n",
            "1/1 [==============================] - 0s 26ms/step\n",
            "u\n",
            "1/1 [==============================] - 0s 26ms/step\n",
            "a\n",
            "1/1 [==============================] - 0s 26ms/step\n",
            "b\n",
            "1/1 [==============================] - 0s 25ms/step\n",
            "r\n",
            "1/1 [==============================] - 0s 25ms/step\n",
            "e\n",
            "1/1 [==============================] - 0s 26ms/step\n",
            "i\n",
            "1/1 [==============================] - 0s 26ms/step\n",
            "t\n",
            "1/1 [==============================] - 0s 26ms/step\n",
            "n\n",
            "1/1 [==============================] - 0s 26ms/step\n"
          ]
        },
        {
          "output_type": "stream",
          "name": "stderr",
          "text": [
            "\r 67%|██████▋   | 67/100 [02:16<01:06,  2.02s/it]"
          ]
        },
        {
          "output_type": "stream",
          "name": "stdout",
          "text": [
            "l\n",
            "1/1 [==============================] - 0s 26ms/step\n",
            "h\n",
            "1/1 [==============================] - 0s 25ms/step\n",
            "o\n",
            "1/1 [==============================] - 0s 26ms/step\n",
            "e\n",
            "1/1 [==============================] - 0s 25ms/step\n",
            "r\n",
            "1/1 [==============================] - 0s 27ms/step\n",
            "t\n",
            "1/1 [==============================] - 0s 25ms/step\n",
            "i\n",
            "1/1 [==============================] - 0s 24ms/step\n",
            "y\n",
            "1/1 [==============================] - 0s 24ms/step\n",
            "u\n",
            "1/1 [==============================] - 0s 26ms/step\n",
            "a\n",
            "1/1 [==============================] - 0s 26ms/step\n",
            "n\n",
            "1/1 [==============================] - 0s 24ms/step\n",
            "k\n",
            "1/1 [==============================] - 0s 27ms/step\n"
          ]
        },
        {
          "output_type": "stream",
          "name": "stderr",
          "text": [
            "\r 68%|██████▊   | 68/100 [02:18<01:03,  1.99s/it]"
          ]
        },
        {
          "output_type": "stream",
          "name": "stdout",
          "text": [
            "c\n",
            "1/1 [==============================] - 0s 26ms/step\n",
            "h\n",
            "1/1 [==============================] - 0s 25ms/step\n",
            "o\n",
            "1/1 [==============================] - 0s 25ms/step\n",
            "b\n",
            "1/1 [==============================] - 0s 26ms/step\n",
            "n\n",
            "1/1 [==============================] - 0s 26ms/step\n",
            "u\n",
            "1/1 [==============================] - 0s 25ms/step\n",
            "a\n",
            "1/1 [==============================] - 0s 25ms/step\n"
          ]
        },
        {
          "output_type": "stream",
          "name": "stderr",
          "text": [
            "\r 69%|██████▉   | 69/100 [02:20<01:01,  1.97s/it]"
          ]
        },
        {
          "output_type": "stream",
          "name": "stdout",
          "text": [
            "c\n",
            "1/1 [==============================] - 0s 24ms/step\n",
            "h\n",
            "1/1 [==============================] - 0s 24ms/step\n",
            "o\n",
            "1/1 [==============================] - 0s 25ms/step\n",
            "b\n",
            "1/1 [==============================] - 0s 24ms/step\n",
            "t\n",
            "1/1 [==============================] - 0s 25ms/step\n",
            "i\n",
            "1/1 [==============================] - 0s 27ms/step\n",
            "c\n",
            "1/1 [==============================] - 0s 26ms/step\n",
            "s\n",
            "1/1 [==============================] - 0s 24ms/step\n",
            "g\n",
            "1/1 [==============================] - 0s 25ms/step\n",
            "p\n",
            "1/1 [==============================] - 0s 25ms/step\n",
            "l\n",
            "1/1 [==============================] - 0s 26ms/step\n"
          ]
        },
        {
          "output_type": "stream",
          "name": "stderr",
          "text": [
            "\r 70%|███████   | 70/100 [02:22<01:01,  2.04s/it]"
          ]
        },
        {
          "output_type": "stream",
          "name": "stdout",
          "text": [
            "f\n",
            "1/1 [==============================] - 0s 25ms/step\n",
            "h\n",
            "1/1 [==============================] - 0s 24ms/step\n",
            "o\n",
            "1/1 [==============================] - 0s 23ms/step\n",
            "n\n",
            "1/1 [==============================] - 0s 25ms/step\n",
            "b\n",
            "1/1 [==============================] - 0s 24ms/step\n",
            "m\n",
            "1/1 [==============================] - 0s 23ms/step\n",
            "a\n",
            "1/1 [==============================] - 0s 24ms/step\n",
            "i\n",
            "1/1 [==============================] - 0s 23ms/step\n"
          ]
        },
        {
          "output_type": "stream",
          "name": "stderr",
          "text": [
            "\r 71%|███████   | 71/100 [02:24<01:00,  2.09s/it]"
          ]
        },
        {
          "output_type": "stream",
          "name": "stdout",
          "text": [
            "c\n",
            "1/1 [==============================] - 0s 24ms/step\n",
            "h\n",
            "1/1 [==============================] - 0s 26ms/step\n",
            "b\n",
            "1/1 [==============================] - 0s 24ms/step\n",
            "m\n",
            "1/1 [==============================] - 0s 25ms/step\n",
            "n\n",
            "1/1 [==============================] - 0s 25ms/step\n",
            "o\n",
            "1/1 [==============================] - 0s 27ms/step\n",
            "p\n",
            "1/1 [==============================] - 0s 25ms/step\n",
            "g\n",
            "1/1 [==============================] - 0s 26ms/step\n"
          ]
        },
        {
          "output_type": "stream",
          "name": "stderr",
          "text": [
            "\r 72%|███████▏  | 72/100 [02:26<00:55,  1.98s/it]"
          ]
        },
        {
          "output_type": "stream",
          "name": "stdout",
          "text": [
            "c\n",
            "1/1 [==============================] - 0s 27ms/step\n",
            "h\n",
            "1/1 [==============================] - 0s 25ms/step\n",
            "o\n",
            "1/1 [==============================] - 0s 24ms/step\n",
            "c\n",
            "1/1 [==============================] - 0s 25ms/step\n",
            "r\n",
            "1/1 [==============================] - 0s 25ms/step\n",
            "y\n",
            "1/1 [==============================] - 0s 24ms/step\n",
            "a\n",
            "1/1 [==============================] - 0s 26ms/step\n",
            "b\n",
            "1/1 [==============================] - 0s 25ms/step\n",
            "e\n",
            "1/1 [==============================] - 0s 25ms/step\n",
            "i\n",
            "1/1 [==============================] - 0s 26ms/step\n",
            "l\n",
            "1/1 [==============================] - 0s 26ms/step\n"
          ]
        },
        {
          "output_type": "stream",
          "name": "stderr",
          "text": [
            "\r 73%|███████▎  | 73/100 [02:28<00:55,  2.06s/it]"
          ]
        },
        {
          "output_type": "stream",
          "name": "stdout",
          "text": [
            "z\n",
            "1/1 [==============================] - 0s 26ms/step\n",
            "h\n",
            "1/1 [==============================] - 0s 27ms/step\n",
            "o\n",
            "1/1 [==============================] - 0s 26ms/step\n",
            "n\n",
            "1/1 [==============================] - 0s 24ms/step\n",
            "b\n",
            "1/1 [==============================] - 0s 26ms/step\n",
            "a\n",
            "1/1 [==============================] - 0s 24ms/step\n",
            "e\n",
            "1/1 [==============================] - 0s 27ms/step\n",
            "l\n",
            "1/1 [==============================] - 0s 26ms/step\n"
          ]
        },
        {
          "output_type": "stream",
          "name": "stderr",
          "text": [
            "\r 74%|███████▍  | 74/100 [02:31<00:56,  2.19s/it]"
          ]
        },
        {
          "output_type": "stream",
          "name": "stdout",
          "text": [
            "r\n",
            "1/1 [==============================] - 0s 26ms/step\n",
            "h\n",
            "1/1 [==============================] - 0s 25ms/step\n",
            "b\n",
            "1/1 [==============================] - 0s 28ms/step\n",
            "m\n",
            "1/1 [==============================] - 0s 25ms/step\n",
            "v\n",
            "1/1 [==============================] - 0s 26ms/step\n",
            "w\n",
            "1/1 [==============================] - 0s 25ms/step\n"
          ]
        },
        {
          "output_type": "stream",
          "name": "stderr",
          "text": [
            "\r 75%|███████▌  | 75/100 [02:32<00:49,  1.98s/it]"
          ]
        },
        {
          "output_type": "stream",
          "name": "stdout",
          "text": [
            "f\n",
            "1/1 [==============================] - 0s 25ms/step\n",
            "h\n",
            "1/1 [==============================] - 0s 24ms/step\n",
            "o\n",
            "1/1 [==============================] - 0s 24ms/step\n",
            "b\n",
            "1/1 [==============================] - 0s 24ms/step\n",
            "n\n",
            "1/1 [==============================] - 0s 24ms/step\n",
            "u\n",
            "1/1 [==============================] - 0s 25ms/step\n",
            "r\n",
            "1/1 [==============================] - 0s 25ms/step\n",
            "a\n",
            "1/1 [==============================] - 0s 25ms/step\n"
          ]
        },
        {
          "output_type": "stream",
          "name": "stderr",
          "text": [
            "\r 76%|███████▌  | 76/100 [02:35<00:50,  2.12s/it]"
          ]
        },
        {
          "output_type": "stream",
          "name": "stdout",
          "text": [
            "s\n",
            "1/1 [==============================] - 0s 25ms/step\n",
            "h\n",
            "1/1 [==============================] - 0s 24ms/step\n",
            "b\n",
            "1/1 [==============================] - 0s 25ms/step\n",
            "m\n",
            "1/1 [==============================] - 0s 24ms/step\n",
            "v\n",
            "1/1 [==============================] - 0s 26ms/step\n",
            "w\n",
            "1/1 [==============================] - 0s 25ms/step\n",
            "r\n",
            "1/1 [==============================] - 0s 25ms/step\n",
            "n\n",
            "1/1 [==============================] - 0s 27ms/step\n",
            "o\n",
            "1/1 [==============================] - 0s 26ms/step\n",
            "a\n",
            "1/1 [==============================] - 0s 26ms/step\n"
          ]
        },
        {
          "output_type": "stream",
          "name": "stderr",
          "text": [
            "\r 77%|███████▋  | 77/100 [02:37<00:46,  2.04s/it]"
          ]
        },
        {
          "output_type": "stream",
          "name": "stdout",
          "text": [
            "u\n",
            "1/1 [==============================] - 0s 25ms/step\n",
            "h\n",
            "1/1 [==============================] - 0s 24ms/step\n",
            "o\n",
            "1/1 [==============================] - 0s 25ms/step\n",
            "n\n",
            "1/1 [==============================] - 0s 25ms/step\n",
            "b\n",
            "1/1 [==============================] - 0s 25ms/step\n",
            "m\n",
            "1/1 [==============================] - 0s 26ms/step\n",
            "a\n",
            "1/1 [==============================] - 0s 28ms/step\n",
            "i\n",
            "1/1 [==============================] - 0s 25ms/step\n"
          ]
        },
        {
          "output_type": "stream",
          "name": "stderr",
          "text": [
            "\r 78%|███████▊  | 78/100 [02:39<00:47,  2.15s/it]"
          ]
        },
        {
          "output_type": "stream",
          "name": "stdout",
          "text": [
            "c\n",
            "1/1 [==============================] - 0s 27ms/step\n",
            "h\n",
            "1/1 [==============================] - 0s 26ms/step\n",
            "b\n",
            "1/1 [==============================] - 0s 25ms/step\n",
            "m\n",
            "1/1 [==============================] - 0s 24ms/step\n",
            "v\n",
            "1/1 [==============================] - 0s 28ms/step\n",
            "q\n",
            "1/1 [==============================] - 0s 25ms/step\n",
            "k\n",
            "1/1 [==============================] - 0s 26ms/step\n"
          ]
        },
        {
          "output_type": "stream",
          "name": "stderr",
          "text": [
            "\r 79%|███████▉  | 79/100 [02:40<00:40,  1.91s/it]"
          ]
        },
        {
          "output_type": "stream",
          "name": "stdout",
          "text": [
            "r\n",
            "1/1 [==============================] - 0s 26ms/step\n",
            "h\n",
            "1/1 [==============================] - 0s 25ms/step\n",
            "b\n",
            "1/1 [==============================] - 0s 24ms/step\n",
            "m\n",
            "1/1 [==============================] - 0s 24ms/step\n",
            "o\n",
            "1/1 [==============================] - 0s 26ms/step\n",
            "s\n",
            "1/1 [==============================] - 0s 27ms/step\n",
            "i\n",
            "1/1 [==============================] - 0s 27ms/step\n",
            "v\n",
            "1/1 [==============================] - 0s 26ms/step\n",
            "r\n",
            "1/1 [==============================] - 0s 28ms/step\n",
            "u\n",
            "1/1 [==============================] - 0s 26ms/step\n",
            "x\n",
            "1/1 [==============================] - 0s 26ms/step\n",
            "n\n",
            "1/1 [==============================] - 0s 25ms/step\n"
          ]
        },
        {
          "output_type": "stream",
          "name": "stderr",
          "text": [
            "\r 80%|████████  | 80/100 [02:43<00:41,  2.08s/it]"
          ]
        },
        {
          "output_type": "stream",
          "name": "stdout",
          "text": [
            "p\n",
            "1/1 [==============================] - 0s 26ms/step\n",
            "h\n",
            "1/1 [==============================] - 0s 24ms/step\n",
            "o\n",
            "1/1 [==============================] - 0s 23ms/step\n",
            "n\n",
            "1/1 [==============================] - 0s 24ms/step\n",
            "d\n",
            "1/1 [==============================] - 0s 25ms/step\n",
            "t\n",
            "1/1 [==============================] - 0s 23ms/step\n",
            "b\n",
            "1/1 [==============================] - 0s 25ms/step\n",
            "r\n",
            "1/1 [==============================] - 0s 25ms/step\n"
          ]
        },
        {
          "output_type": "stream",
          "name": "stderr",
          "text": [
            "\r 81%|████████  | 81/100 [02:44<00:37,  1.95s/it]"
          ]
        },
        {
          "output_type": "stream",
          "name": "stdout",
          "text": [
            "a\n",
            "1/1 [==============================] - 0s 24ms/step\n",
            "h\n",
            "1/1 [==============================] - 0s 24ms/step\n",
            "r\n",
            "1/1 [==============================] - 0s 25ms/step\n",
            "o\n",
            "1/1 [==============================] - 0s 25ms/step\n",
            "p\n",
            "1/1 [==============================] - 0s 25ms/step\n",
            "b\n",
            "1/1 [==============================] - 0s 26ms/step\n",
            "t\n",
            "1/1 [==============================] - 0s 25ms/step\n",
            "s\n",
            "1/1 [==============================] - 0s 24ms/step\n",
            "c\n",
            "1/1 [==============================] - 0s 24ms/step\n",
            "a\n",
            "1/1 [==============================] - 0s 26ms/step\n",
            "l\n",
            "1/1 [==============================] - 0s 25ms/step\n"
          ]
        },
        {
          "output_type": "stream",
          "name": "stderr",
          "text": [
            "\r 82%|████████▏ | 82/100 [02:46<00:34,  1.92s/it]"
          ]
        },
        {
          "output_type": "stream",
          "name": "stdout",
          "text": [
            "e\n",
            "1/1 [==============================] - 0s 23ms/step\n",
            "h\n",
            "1/1 [==============================] - 0s 24ms/step\n",
            "b\n",
            "1/1 [==============================] - 0s 25ms/step\n",
            "m\n",
            "1/1 [==============================] - 0s 24ms/step\n",
            "v\n",
            "1/1 [==============================] - 0s 24ms/step\n",
            "q\n",
            "1/1 [==============================] - 0s 26ms/step\n",
            "k\n",
            "1/1 [==============================] - 0s 25ms/step\n"
          ]
        },
        {
          "output_type": "stream",
          "name": "stderr",
          "text": [
            "\r 83%|████████▎ | 83/100 [02:48<00:29,  1.73s/it]"
          ]
        },
        {
          "output_type": "stream",
          "name": "stdout",
          "text": [
            "r\n",
            "1/1 [==============================] - 0s 24ms/step\n",
            "h\n",
            "1/1 [==============================] - 0s 25ms/step\n",
            "r\n",
            "1/1 [==============================] - 0s 24ms/step\n",
            "d\n",
            "1/1 [==============================] - 0s 24ms/step\n",
            "o\n",
            "1/1 [==============================] - 0s 24ms/step\n",
            "b\n",
            "1/1 [==============================] - 0s 26ms/step\n",
            "i\n",
            "1/1 [==============================] - 0s 26ms/step\n",
            "e\n",
            "1/1 [==============================] - 0s 25ms/step\n",
            "p\n",
            "1/1 [==============================] - 0s 24ms/step\n",
            "u\n",
            "1/1 [==============================] - 0s 25ms/step\n"
          ]
        },
        {
          "output_type": "stream",
          "name": "stderr",
          "text": [
            "\r 84%|████████▍ | 84/100 [02:49<00:27,  1.72s/it]"
          ]
        },
        {
          "output_type": "stream",
          "name": "stdout",
          "text": [
            "l\n",
            "1/1 [==============================] - 0s 25ms/step\n",
            "h\n",
            "1/1 [==============================] - 0s 25ms/step\n",
            "o\n",
            "1/1 [==============================] - 0s 23ms/step\n",
            "n\n",
            "1/1 [==============================] - 0s 25ms/step\n",
            "u\n",
            "1/1 [==============================] - 0s 26ms/step\n",
            "a\n",
            "1/1 [==============================] - 0s 26ms/step\n",
            "b\n",
            "1/1 [==============================] - 0s 25ms/step\n",
            "r\n",
            "1/1 [==============================] - 0s 25ms/step\n"
          ]
        },
        {
          "output_type": "stream",
          "name": "stderr",
          "text": [
            "\r 85%|████████▌ | 85/100 [02:51<00:27,  1.82s/it]"
          ]
        },
        {
          "output_type": "stream",
          "name": "stdout",
          "text": [
            "p\n",
            "1/1 [==============================] - 0s 25ms/step\n",
            "h\n",
            "1/1 [==============================] - 0s 24ms/step\n",
            "o\n",
            "1/1 [==============================] - 0s 25ms/step\n",
            "p\n",
            "1/1 [==============================] - 0s 25ms/step\n",
            "t\n",
            "1/1 [==============================] - 0s 25ms/step\n",
            "c\n",
            "1/1 [==============================] - 0s 26ms/step\n",
            "l\n",
            "1/1 [==============================] - 0s 24ms/step\n",
            "m\n",
            "1/1 [==============================] - 0s 26ms/step\n"
          ]
        },
        {
          "output_type": "stream",
          "name": "stderr",
          "text": [
            "\r 86%|████████▌ | 86/100 [02:53<00:23,  1.69s/it]"
          ]
        },
        {
          "output_type": "stream",
          "name": "stdout",
          "text": [
            "b\n",
            "1/1 [==============================] - 0s 25ms/step\n",
            "h\n",
            "1/1 [==============================] - 0s 25ms/step\n",
            "b\n",
            "1/1 [==============================] - 0s 24ms/step\n",
            "o\n",
            "1/1 [==============================] - 0s 27ms/step\n",
            "a\n",
            "1/1 [==============================] - 0s 26ms/step\n",
            "r\n",
            "1/1 [==============================] - 0s 26ms/step\n",
            "u\n",
            "1/1 [==============================] - 0s 26ms/step\n",
            "i\n",
            "1/1 [==============================] - 0s 26ms/step\n",
            "n\n",
            "1/1 [==============================] - 0s 26ms/step\n",
            "f\n",
            "1/1 [==============================] - 0s 26ms/step\n"
          ]
        },
        {
          "output_type": "stream",
          "name": "stderr",
          "text": [
            "\r 87%|████████▋ | 87/100 [02:55<00:22,  1.76s/it]"
          ]
        },
        {
          "output_type": "stream",
          "name": "stdout",
          "text": [
            "l\n",
            "1/1 [==============================] - 0s 25ms/step\n",
            "h\n",
            "1/1 [==============================] - 0s 26ms/step\n",
            "o\n",
            "1/1 [==============================] - 0s 25ms/step\n",
            "s\n",
            "1/1 [==============================] - 0s 25ms/step\n",
            "p\n",
            "1/1 [==============================] - 0s 23ms/step\n",
            "a\n",
            "1/1 [==============================] - 0s 25ms/step\n",
            "u\n",
            "1/1 [==============================] - 0s 26ms/step\n",
            "r\n",
            "1/1 [==============================] - 0s 25ms/step\n",
            "i\n",
            "1/1 [==============================] - 0s 25ms/step\n",
            "e\n",
            "1/1 [==============================] - 0s 26ms/step\n",
            "t\n",
            "1/1 [==============================] - 0s 25ms/step\n"
          ]
        },
        {
          "output_type": "stream",
          "name": "stderr",
          "text": [
            "\r 88%|████████▊ | 88/100 [02:57<00:22,  1.88s/it]"
          ]
        },
        {
          "output_type": "stream",
          "name": "stdout",
          "text": [
            "n\n",
            "1/1 [==============================] - 0s 25ms/step\n",
            "h\n",
            "1/1 [==============================] - 0s 24ms/step\n",
            "o\n",
            "1/1 [==============================] - 0s 25ms/step\n",
            "u\n",
            "1/1 [==============================] - 0s 26ms/step\n",
            "a\n",
            "1/1 [==============================] - 0s 25ms/step\n",
            "b\n",
            "1/1 [==============================] - 0s 26ms/step\n",
            "r\n",
            "1/1 [==============================] - 0s 25ms/step\n",
            "e\n",
            "1/1 [==============================] - 0s 27ms/step\n",
            "i\n",
            "1/1 [==============================] - 0s 24ms/step\n",
            "t\n",
            "1/1 [==============================] - 0s 25ms/step\n",
            "n\n",
            "1/1 [==============================] - 0s 25ms/step\n"
          ]
        },
        {
          "output_type": "stream",
          "name": "stderr",
          "text": [
            "\r 89%|████████▉ | 89/100 [02:59<00:20,  1.88s/it]"
          ]
        },
        {
          "output_type": "stream",
          "name": "stdout",
          "text": [
            "l\n",
            "1/1 [==============================] - 0s 24ms/step\n",
            "h\n",
            "1/1 [==============================] - 0s 26ms/step\n",
            "d\n",
            "1/1 [==============================] - 0s 24ms/step\n",
            "o\n",
            "1/1 [==============================] - 0s 26ms/step\n",
            "f\n",
            "1/1 [==============================] - 0s 25ms/step\n",
            "a\n",
            "1/1 [==============================] - 0s 26ms/step\n",
            "b\n",
            "1/1 [==============================] - 0s 25ms/step\n",
            "p\n",
            "1/1 [==============================] - 0s 25ms/step\n",
            "m\n",
            "1/1 [==============================] - 0s 26ms/step\n",
            "i\n",
            "1/1 [==============================] - 0s 25ms/step\n",
            "r\n",
            "1/1 [==============================] - 0s 26ms/step\n",
            "e\n",
            "1/1 [==============================] - 0s 25ms/step\n"
          ]
        },
        {
          "output_type": "stream",
          "name": "stderr",
          "text": [
            "\r 90%|█████████ | 90/100 [03:01<00:19,  1.93s/it]"
          ]
        },
        {
          "output_type": "stream",
          "name": "stdout",
          "text": [
            "c\n",
            "1/1 [==============================] - 0s 24ms/step\n",
            "h\n",
            "1/1 [==============================] - 0s 26ms/step\n",
            "b\n",
            "1/1 [==============================] - 0s 24ms/step\n",
            "m\n",
            "1/1 [==============================] - 0s 25ms/step\n",
            "w\n",
            "1/1 [==============================] - 0s 24ms/step\n",
            "o\n",
            "1/1 [==============================] - 0s 25ms/step\n",
            "n\n",
            "1/1 [==============================] - 0s 25ms/step\n",
            "c\n",
            "1/1 [==============================] - 0s 27ms/step\n",
            "r\n",
            "1/1 [==============================] - 0s 25ms/step\n",
            "a\n",
            "1/1 [==============================] - 0s 24ms/step\n"
          ]
        },
        {
          "output_type": "stream",
          "name": "stderr",
          "text": [
            "\r 91%|█████████ | 91/100 [03:02<00:16,  1.82s/it]"
          ]
        },
        {
          "output_type": "stream",
          "name": "stdout",
          "text": [
            "p\n",
            "1/1 [==============================] - 0s 24ms/step\n",
            "h\n",
            "1/1 [==============================] - 0s 26ms/step\n",
            "o\n",
            "1/1 [==============================] - 0s 24ms/step\n",
            "s\n",
            "1/1 [==============================] - 0s 25ms/step\n",
            "n\n",
            "1/1 [==============================] - 0s 23ms/step\n",
            "g\n",
            "1/1 [==============================] - 0s 27ms/step\n",
            "d\n",
            "1/1 [==============================] - 0s 26ms/step\n",
            "b\n",
            "1/1 [==============================] - 0s 25ms/step\n",
            "c\n",
            "1/1 [==============================] - 0s 26ms/step\n"
          ]
        },
        {
          "output_type": "stream",
          "name": "stderr",
          "text": [
            "\r 92%|█████████▏| 92/100 [03:04<00:14,  1.81s/it]"
          ]
        },
        {
          "output_type": "stream",
          "name": "stdout",
          "text": [
            "w\n",
            "1/1 [==============================] - 0s 25ms/step\n",
            "h\n",
            "1/1 [==============================] - 0s 24ms/step\n",
            "o\n",
            "1/1 [==============================] - 0s 25ms/step\n",
            "b\n",
            "1/1 [==============================] - 0s 25ms/step\n",
            "n\n",
            "1/1 [==============================] - 0s 25ms/step\n",
            "u\n",
            "1/1 [==============================] - 0s 25ms/step\n",
            "a\n",
            "1/1 [==============================] - 0s 26ms/step\n"
          ]
        },
        {
          "output_type": "stream",
          "name": "stderr",
          "text": [
            "\r 93%|█████████▎| 93/100 [03:06<00:12,  1.83s/it]"
          ]
        },
        {
          "output_type": "stream",
          "name": "stdout",
          "text": [
            "c\n",
            "1/1 [==============================] - 0s 25ms/step\n",
            "h\n",
            "1/1 [==============================] - 0s 26ms/step\n",
            "b\n",
            "1/1 [==============================] - 0s 25ms/step\n",
            "m\n",
            "1/1 [==============================] - 0s 25ms/step\n",
            "n\n",
            "1/1 [==============================] - 0s 27ms/step\n",
            "o\n",
            "1/1 [==============================] - 0s 25ms/step\n",
            "d\n",
            "1/1 [==============================] - 0s 25ms/step\n",
            "r\n",
            "1/1 [==============================] - 0s 26ms/step\n",
            "y\n",
            "1/1 [==============================] - 0s 26ms/step\n",
            "a\n",
            "1/1 [==============================] - 0s 25ms/step\n",
            "e\n",
            "1/1 [==============================] - 0s 24ms/step\n",
            "l\n",
            "1/1 [==============================] - 0s 26ms/step\n",
            "t\n",
            "1/1 [==============================] - 0s 25ms/step\n",
            "s\n",
            "1/1 [==============================] - 0s 24ms/step\n",
            "c\n",
            "1/1 [==============================] - 0s 24ms/step\n",
            "p\n",
            "1/1 [==============================] - 0s 26ms/step\n"
          ]
        },
        {
          "output_type": "stream",
          "name": "stderr",
          "text": [
            "\r 94%|█████████▍| 94/100 [03:08<00:12,  2.01s/it]"
          ]
        },
        {
          "output_type": "stream",
          "name": "stdout",
          "text": [
            "i\n",
            "1/1 [==============================] - 0s 24ms/step\n",
            "h\n",
            "1/1 [==============================] - 0s 24ms/step\n",
            "b\n",
            "1/1 [==============================] - 0s 25ms/step\n",
            "o\n",
            "1/1 [==============================] - 0s 27ms/step\n",
            "w\n",
            "1/1 [==============================] - 0s 25ms/step\n",
            "k\n",
            "1/1 [==============================] - 0s 24ms/step\n",
            "t\n",
            "1/1 [==============================] - 0s 25ms/step\n",
            "a\n",
            "1/1 [==============================] - 0s 24ms/step\n",
            "i\n",
            "1/1 [==============================] - 0s 25ms/step\n",
            "m\n",
            "1/1 [==============================] - 0s 25ms/step\n",
            "n\n",
            "1/1 [==============================] - 0s 26ms/step\n",
            "c\n",
            "1/1 [==============================] - 0s 26ms/step\n"
          ]
        },
        {
          "output_type": "stream",
          "name": "stderr",
          "text": [
            "\r 95%|█████████▌| 95/100 [03:10<00:10,  2.02s/it]"
          ]
        },
        {
          "output_type": "stream",
          "name": "stdout",
          "text": [
            "e\n",
            "1/1 [==============================] - 0s 25ms/step\n",
            "h\n",
            "1/1 [==============================] - 0s 26ms/step\n",
            "b\n",
            "1/1 [==============================] - 0s 24ms/step\n",
            "m\n",
            "1/1 [==============================] - 0s 26ms/step\n",
            "n\n",
            "1/1 [==============================] - 0s 24ms/step\n",
            "o\n",
            "1/1 [==============================] - 0s 24ms/step\n",
            "l\n",
            "1/1 [==============================] - 0s 26ms/step\n",
            "w\n",
            "1/1 [==============================] - 0s 25ms/step\n",
            "f\n",
            "1/1 [==============================] - 0s 24ms/step\n"
          ]
        },
        {
          "output_type": "stream",
          "name": "stderr",
          "text": [
            "\r 96%|█████████▌| 96/100 [03:12<00:07,  1.93s/it]"
          ]
        },
        {
          "output_type": "stream",
          "name": "stdout",
          "text": [
            "u\n",
            "1/1 [==============================] - 0s 25ms/step\n",
            "h\n",
            "1/1 [==============================] - 0s 25ms/step\n",
            "v\n",
            "1/1 [==============================] - 0s 25ms/step\n",
            "o\n",
            "1/1 [==============================] - 0s 26ms/step\n",
            "r\n",
            "1/1 [==============================] - 0s 25ms/step\n",
            "a\n",
            "1/1 [==============================] - 0s 25ms/step\n",
            "u\n",
            "1/1 [==============================] - 0s 25ms/step\n",
            "t\n",
            "1/1 [==============================] - 0s 26ms/step\n",
            "i\n",
            "1/1 [==============================] - 0s 27ms/step\n",
            "d\n",
            "1/1 [==============================] - 0s 25ms/step\n",
            "f\n",
            "1/1 [==============================] - 0s 25ms/step\n"
          ]
        },
        {
          "output_type": "stream",
          "name": "stderr",
          "text": [
            "\r 97%|█████████▋| 97/100 [03:14<00:05,  1.89s/it]"
          ]
        },
        {
          "output_type": "stream",
          "name": "stdout",
          "text": [
            "e\n",
            "1/1 [==============================] - 0s 25ms/step\n",
            "h\n",
            "1/1 [==============================] - 0s 24ms/step\n",
            "o\n",
            "1/1 [==============================] - 0s 25ms/step\n",
            "n\n",
            "1/1 [==============================] - 0s 25ms/step\n",
            "u\n",
            "1/1 [==============================] - 0s 25ms/step\n",
            "r\n",
            "1/1 [==============================] - 0s 26ms/step\n",
            "p\n",
            "1/1 [==============================] - 0s 25ms/step\n",
            "e\n",
            "1/1 [==============================] - 0s 27ms/step\n",
            "t\n",
            "1/1 [==============================] - 0s 25ms/step\n",
            "b\n",
            "1/1 [==============================] - 0s 24ms/step\n",
            "s\n",
            "1/1 [==============================] - 0s 26ms/step\n"
          ]
        },
        {
          "output_type": "stream",
          "name": "stderr",
          "text": [
            "\r 98%|█████████▊| 98/100 [03:16<00:03,  1.88s/it]"
          ]
        },
        {
          "output_type": "stream",
          "name": "stdout",
          "text": [
            "d\n",
            "1/1 [==============================] - 0s 25ms/step\n",
            "h\n",
            "1/1 [==============================] - 0s 24ms/step\n",
            "o\n",
            "1/1 [==============================] - 0s 25ms/step\n",
            "n\n",
            "1/1 [==============================] - 0s 25ms/step\n",
            "u\n",
            "1/1 [==============================] - 0s 25ms/step\n",
            "b\n",
            "1/1 [==============================] - 0s 27ms/step\n",
            "a\n",
            "1/1 [==============================] - 0s 27ms/step\n",
            "p\n",
            "1/1 [==============================] - 0s 25ms/step\n",
            "s\n",
            "1/1 [==============================] - 0s 25ms/step\n",
            "e\n",
            "1/1 [==============================] - 0s 25ms/step\n"
          ]
        },
        {
          "output_type": "stream",
          "name": "stderr",
          "text": [
            "\r 99%|█████████▉| 99/100 [03:18<00:01,  2.00s/it]"
          ]
        },
        {
          "output_type": "stream",
          "name": "stdout",
          "text": [
            "k\n",
            "1/1 [==============================] - 0s 27ms/step\n",
            "h\n",
            "1/1 [==============================] - 0s 25ms/step\n",
            "b\n",
            "1/1 [==============================] - 0s 25ms/step\n",
            "m\n",
            "1/1 [==============================] - 0s 26ms/step\n",
            "n\n",
            "1/1 [==============================] - 0s 25ms/step\n",
            "o\n",
            "1/1 [==============================] - 0s 25ms/step\n",
            "u\n",
            "1/1 [==============================] - 0s 23ms/step\n"
          ]
        },
        {
          "output_type": "stream",
          "name": "stderr",
          "text": [
            "100%|██████████| 100/100 [03:20<00:00,  2.00s/it]"
          ]
        },
        {
          "output_type": "stream",
          "name": "stdout",
          "text": [
            "c\n",
            "Played 100 games: 16 wins, 84 losses\n",
            "Win Rate: 16.00%\n"
          ]
        },
        {
          "output_type": "stream",
          "name": "stderr",
          "text": [
            "\n"
          ]
        }
      ]
    },
    {
      "cell_type": "code",
      "execution_count": null,
      "metadata": {
        "id": "l_1kCbMUgOei"
      },
      "outputs": [],
      "source": []
    },
    {
      "cell_type": "code",
      "source": [],
      "metadata": {
        "id": "lj1aDTUSTLU_"
      },
      "execution_count": null,
      "outputs": []
    },
    {
      "cell_type": "code",
      "source": [],
      "metadata": {
        "id": "oEE-Ug7GTLOF"
      },
      "execution_count": null,
      "outputs": []
    },
    {
      "cell_type": "code",
      "source": [
        "char_to_index = {\n",
        "    'a': 1, 'b': 2, 'c': 3, 'd': 4,\n",
        "    'e': 5, 'f': 6, 'g': 7, 'h': 8,\n",
        "    'i': 9, 'j': 10, 'k': 11, 'l': 12,\n",
        "    'm': 13, 'n': 14, 'o': 15, 'p': 16,\n",
        "    'q': 17, 'r': 18, 's': 19, 't': 20,\n",
        "    'u': 21, 'v': 22, 'w': 23, 'x': 24,\n",
        "    'y': 25, 'z': 26, '_': 27\n",
        "}\n"
      ],
      "metadata": {
        "id": "8Il_PbWnTLJF"
      },
      "execution_count": null,
      "outputs": []
    },
    {
      "cell_type": "code",
      "source": [
        "import time\n",
        "import requests\n",
        "import numpy as np\n",
        "import collections\n",
        "from keras.preprocessing.sequence import pad_sequences\n",
        "from tqdm import tqdm\n",
        "\n",
        "\n",
        "class HangmanAPI(object):\n",
        "    def __init__(self, model, max_length,char_to_index, access_token=None, session=None, timeout=None):\n",
        "        self.model = model\n",
        "        self.max_length = max_length\n",
        "        self.hangman_url = self.determine_hangman_url()\n",
        "        self.access_token = access_token\n",
        "        self.session = session or requests.Session()\n",
        "        self.timeout = timeout\n",
        "        self.guessed_letters = []\n",
        "        self.char_to_index = char_to_index\n",
        "\n",
        "        full_dictionary_location = \"/content/drive/MyDrive/words_250000_train.txt\"\n",
        "        self.full_dictionary = self.build_dictionary(full_dictionary_location)\n",
        "        self.full_dictionary_common_letter_sorted = collections.Counter(\"\".join(self.full_dictionary)).most_common()\n",
        "        self.current_dictionary = self.full_dictionary.copy()\n",
        "\n",
        "    @staticmethod\n",
        "    def determine_hangman_url():\n",
        "        links = ['https://trexsim.com', 'https://sg.trexsim.com']\n",
        "\n",
        "        data = {link: 0 for link in links}\n",
        "\n",
        "        for link in links:\n",
        "\n",
        "            requests.get(link)\n",
        "\n",
        "            for i in range(10):\n",
        "                s = time.time()\n",
        "                requests.get(link)\n",
        "                data[link] = time.time() - s\n",
        "\n",
        "        link = sorted(data.items(), key=lambda x: x[1])[0][0]\n",
        "        link += '/trexsim/hangman'\n",
        "        return link\n",
        "\n",
        "    def build_dictionary(self, dictionary_file_location):\n",
        "        with open(dictionary_file_location, \"r\") as file:\n",
        "            return [line.strip() for line in file]\n",
        "\n",
        "    def encode_word(self, word):\n",
        "          # Correctly use char_to_index mapping\n",
        "          return np.array([self.char_to_index.get(char, 27) for char in word], dtype=np.int8)  # Use 27 for unknown characters\n",
        "\n",
        "    def algo_guess_prob(self, clean_word, guessed_letters):\n",
        "        pattern = clean_word.replace(\"_\", \".\")\n",
        "        possible_words = [word for word in self.current_dictionary if re.match(pattern, word) and not any(letter in word for letter in guessed_letters)]\n",
        "        if not possible_words:\n",
        "            letter_freq = dict(self.full_dictionary_common_letter_sorted)\n",
        "        else:\n",
        "            letters = \"\".join(possible_words)\n",
        "            letter_freq = Counter(letters)\n",
        "\n",
        "        total = sum(letter_freq.values())\n",
        "        letter_probs = {letter: freq / total for letter, freq in letter_freq.items() if letter not in guessed_letters}\n",
        "\n",
        "        return letter_probs\n",
        "\n",
        "    def combine_predictions(self, model_probs, algo_probs, guessed_letters):\n",
        "        combined_probs = defaultdict(float)\n",
        "        for i, prob in enumerate(model_probs):\n",
        "            letter = chr(i + ord('a'))\n",
        "            if letter not in guessed_letters:\n",
        "                combined_probs[letter] += prob\n",
        "        for letter, prob in algo_probs.items():\n",
        "            combined_probs[letter] += prob\n",
        "\n",
        "        best_guess = max(combined_probs, key=combined_probs.get)\n",
        "        return best_guess\n",
        "\n",
        "    def guess(self, word):\n",
        "        clean_word = word.replace(\" \", \"\").lower()\n",
        "        encoded_word = self.encode_word(clean_word)\n",
        "        padded_word = pad_sequences([encoded_word], maxlen=self.max_length, padding='post')\n",
        "        model_prediction = self.model.predict(padded_word)[0]\n",
        "\n",
        "        algo_probs = self.algo_guess_prob(clean_word, self.guessed_letters)\n",
        "        best_guess = self.combine_predictions(model_prediction, algo_probs, self.guessed_letters)\n",
        "\n",
        "        self.guessed_letters.append(best_guess)\n",
        "        return best_guess\n",
        "\n",
        "\n",
        "    ##########################################################\n",
        "    # You'll likely not need to modify any of the code below #\n",
        "    ##########################################################\n",
        "\n",
        "    def build_dictionary(self, dictionary_file_location):\n",
        "        text_file = open(dictionary_file_location,\"r\")\n",
        "        full_dictionary = text_file.read().splitlines()\n",
        "        text_file.close()\n",
        "        return full_dictionary\n",
        "\n",
        "    def start_game(self, practice=True, verbose=True):\n",
        "        # reset guessed letters to empty set and current plausible dictionary to the full dictionary\n",
        "        self.guessed_letters = []\n",
        "        self.current_dictionary = self.full_dictionary\n",
        "\n",
        "        response = self.request(\"/new_game\", {\"practice\":practice})\n",
        "        if response.get('status')==\"approved\":\n",
        "            game_id = response.get('game_id')\n",
        "            word = response.get('word')\n",
        "            tries_remains = response.get('tries_remains')\n",
        "            if verbose:\n",
        "                print(\"Successfully start a new game! Game ID: {0}. # of tries remaining: {1}. Word: {2}.\".format(game_id, tries_remains, word))\n",
        "            while tries_remains>0:\n",
        "                # get guessed letter from user code\n",
        "                guess_letter = self.guess(word)\n",
        "\n",
        "                # append guessed letter to guessed letters field in hangman object\n",
        "                self.guessed_letters.append(guess_letter)\n",
        "                if verbose:\n",
        "                    print(\"Guessing letter: {0}\".format(guess_letter))\n",
        "\n",
        "                try:\n",
        "                    res = self.request(\"/guess_letter\", {\"request\":\"guess_letter\", \"game_id\":game_id, \"letter\":guess_letter})\n",
        "                except HangmanAPIError:\n",
        "                    print('HangmanAPIError exception caught on request.')\n",
        "                    continue\n",
        "                except Exception as e:\n",
        "                    print('Other exception caught on request.')\n",
        "                    raise e\n",
        "\n",
        "                if verbose:\n",
        "                    print(\"Sever response: {0}\".format(res))\n",
        "                status = res.get('status')\n",
        "                tries_remains = res.get('tries_remains')\n",
        "                if status==\"success\":\n",
        "                    if verbose:\n",
        "                        print(\"Successfully finished game: {0}\".format(game_id))\n",
        "                    return True\n",
        "                elif status==\"failed\":\n",
        "                    reason = res.get('reason', '# of tries exceeded!')\n",
        "                    if verbose:\n",
        "                        print(\"Failed game: {0}. Because of: {1}\".format(game_id, reason))\n",
        "                    return False\n",
        "                elif status==\"ongoing\":\n",
        "                    word = res.get('word')\n",
        "        else:\n",
        "            if verbose:\n",
        "                print(\"Failed to start a new game\")\n",
        "        return status==\"success\"\n",
        "\n",
        "    def my_status(self):\n",
        "        return self.request(\"/my_status\", {})\n",
        "\n",
        "    def request(\n",
        "            self, path, args=None, post_args=None, method=None):\n",
        "        if args is None:\n",
        "            args = dict()\n",
        "        if post_args is not None:\n",
        "            method = \"POST\"\n",
        "\n",
        "        # Add `access_token` to post_args or args if it has not already been\n",
        "        # included.\n",
        "        if self.access_token:\n",
        "            # If post_args exists, we assume that args either does not exists\n",
        "            # or it does not need `access_token`.\n",
        "            if post_args and \"access_token\" not in post_args:\n",
        "                post_args[\"access_token\"] = self.access_token\n",
        "            elif \"access_token\" not in args:\n",
        "                args[\"access_token\"] = self.access_token\n",
        "\n",
        "        time.sleep(0.2)\n",
        "\n",
        "        num_retry, time_sleep = 50, 2\n",
        "        for it in range(num_retry):\n",
        "            try:\n",
        "                response = self.session.request(\n",
        "                    method or \"GET\",\n",
        "                    self.hangman_url + path,\n",
        "                    timeout=self.timeout,\n",
        "                    params=args,\n",
        "                    data=post_args,\n",
        "                    verify=False\n",
        "                )\n",
        "                break\n",
        "            except requests.HTTPError as e:\n",
        "                response = json.loads(e.read())\n",
        "                raise HangmanAPIError(response)\n",
        "            except requests.exceptions.SSLError as e:\n",
        "                if it + 1 == num_retry:\n",
        "                    raise\n",
        "                time.sleep(time_sleep)\n",
        "\n",
        "        headers = response.headers\n",
        "        if 'json' in headers['content-type']:\n",
        "            result = response.json()\n",
        "        elif \"access_token\" in parse_qs(response.text):\n",
        "            query_str = parse_qs(response.text)\n",
        "            if \"access_token\" in query_str:\n",
        "                result = {\"access_token\": query_str[\"access_token\"][0]}\n",
        "                if \"expires\" in query_str:\n",
        "                    result[\"expires\"] = query_str[\"expires\"][0]\n",
        "            else:\n",
        "                raise HangmanAPIError(response.json())\n",
        "        else:\n",
        "            raise HangmanAPIError('Maintype was not text, or querystring')\n",
        "\n",
        "        if result and isinstance(result, dict) and result.get(\"error\"):\n",
        "            raise HangmanAPIError(result)\n",
        "        return result\n",
        "\n",
        "class HangmanAPIError(Exception):\n",
        "    def __init__(self, result):\n",
        "        self.result = result\n",
        "        self.code = None\n",
        "        try:\n",
        "            self.type = result[\"error_code\"]\n",
        "        except (KeyError, TypeError):\n",
        "            self.type = \"\"\n",
        "\n",
        "        try:\n",
        "            self.message = result[\"error_description\"]\n",
        "        except (KeyError, TypeError):\n",
        "            try:\n",
        "                self.message = result[\"error\"][\"message\"]\n",
        "                self.code = result[\"error\"].get(\"code\")\n",
        "                if not self.type:\n",
        "                    self.type = result[\"error\"].get(\"type\", \"\")\n",
        "            except (KeyError, TypeError):\n",
        "                try:\n",
        "                    self.message = result[\"error_msg\"]\n",
        "                except (KeyError, TypeError):\n",
        "                    self.message = result\n",
        "\n",
        "        Exception.__init__(self, self.message)"
      ],
      "metadata": {
        "id": "-pNivDS7TLE-"
      },
      "execution_count": null,
      "outputs": []
    },
    {
      "cell_type": "code",
      "source": [
        "api = HangmanAPI(model, max_length, char_to_index, access_token=\"2cd73ba183167f6584405908c4f641\", timeout=2000)\n"
      ],
      "metadata": {
        "id": "oEDtjS60TMSN"
      },
      "execution_count": null,
      "outputs": []
    },
    {
      "cell_type": "code",
      "source": [
        "api.start_game(practice=1,verbose=True)\n",
        "[total_practice_runs,total_recorded_runs,total_recorded_successes,total_practice_successes] = api.my_status() # Get my game stats: (# of tries, # of wins)\n",
        "practice_success_rate = total_practice_successes / total_practice_runs\n",
        "print('run %d practice games out of an allotted 100,000. practice success rate so far = %.3f' % (total_practice_runs, practice_success_rate))"
      ],
      "metadata": {
        "colab": {
          "base_uri": "https://localhost:8080/"
        },
        "id": "1dyK8NzJfK0E",
        "outputId": "04af1ee9-791c-450f-804e-8fdbea4a42ae"
      },
      "execution_count": null,
      "outputs": [
        {
          "output_type": "stream",
          "name": "stdout",
          "text": [
            "Successfully start a new game! Game ID: 26e5fb2c5843. # of tries remaining: 6. Word: _ _ _ _ _ _ _ _ _ _ _ _ _ _ _ _ _ .\n",
            "1/1 [==============================] - 0s 30ms/step\n"
          ]
        },
        {
          "output_type": "stream",
          "name": "stderr",
          "text": [
            "/usr/local/lib/python3.10/dist-packages/urllib3/connectionpool.py:1100: InsecureRequestWarning: Unverified HTTPS request is being made to host 'trexsim.com'. Adding certificate verification is strongly advised. See: https://urllib3.readthedocs.io/en/latest/advanced-usage.html#tls-warnings\n",
            "  warnings.warn(\n"
          ]
        },
        {
          "output_type": "stream",
          "name": "stdout",
          "text": [
            "Guessing letter: s\n",
            "Sever response: {'game_id': '26e5fb2c5843', 'status': 'ongoing', 'tries_remains': 5, 'word': '_ _ _ _ _ _ _ _ _ _ _ _ _ _ _ _ _ '}\n",
            "1/1 [==============================] - 0s 26ms/step\n"
          ]
        },
        {
          "output_type": "stream",
          "name": "stderr",
          "text": [
            "/usr/local/lib/python3.10/dist-packages/urllib3/connectionpool.py:1100: InsecureRequestWarning: Unverified HTTPS request is being made to host 'trexsim.com'. Adding certificate verification is strongly advised. See: https://urllib3.readthedocs.io/en/latest/advanced-usage.html#tls-warnings\n",
            "  warnings.warn(\n"
          ]
        },
        {
          "output_type": "stream",
          "name": "stdout",
          "text": [
            "Guessing letter: m\n",
            "Sever response: {'game_id': '26e5fb2c5843', 'status': 'ongoing', 'tries_remains': 5, 'word': '_ m _ _ _ _ _ _ _ _ _ _ _ _ _ _ _ '}\n",
            "1/1 [==============================] - 0s 27ms/step\n"
          ]
        },
        {
          "output_type": "stream",
          "name": "stderr",
          "text": [
            "/usr/local/lib/python3.10/dist-packages/urllib3/connectionpool.py:1100: InsecureRequestWarning: Unverified HTTPS request is being made to host 'trexsim.com'. Adding certificate verification is strongly advised. See: https://urllib3.readthedocs.io/en/latest/advanced-usage.html#tls-warnings\n",
            "  warnings.warn(\n"
          ]
        },
        {
          "output_type": "stream",
          "name": "stdout",
          "text": [
            "Guessing letter: t\n",
            "Sever response: {'game_id': '26e5fb2c5843', 'status': 'ongoing', 'tries_remains': 4, 'word': '_ m _ _ _ _ _ _ _ _ _ _ _ _ _ _ _ '}\n",
            "1/1 [==============================] - 0s 28ms/step\n"
          ]
        },
        {
          "output_type": "stream",
          "name": "stderr",
          "text": [
            "/usr/local/lib/python3.10/dist-packages/urllib3/connectionpool.py:1100: InsecureRequestWarning: Unverified HTTPS request is being made to host 'trexsim.com'. Adding certificate verification is strongly advised. See: https://urllib3.readthedocs.io/en/latest/advanced-usage.html#tls-warnings\n",
            "  warnings.warn(\n"
          ]
        },
        {
          "output_type": "stream",
          "name": "stdout",
          "text": [
            "Guessing letter: p\n",
            "Sever response: {'game_id': '26e5fb2c5843', 'status': 'ongoing', 'tries_remains': 4, 'word': '_ m _ _ _ _ _ _ _ _ _ _ _ p _ _ _ '}\n",
            "1/1 [==============================] - 0s 26ms/step\n"
          ]
        },
        {
          "output_type": "stream",
          "name": "stderr",
          "text": [
            "/usr/local/lib/python3.10/dist-packages/urllib3/connectionpool.py:1100: InsecureRequestWarning: Unverified HTTPS request is being made to host 'trexsim.com'. Adding certificate verification is strongly advised. See: https://urllib3.readthedocs.io/en/latest/advanced-usage.html#tls-warnings\n",
            "  warnings.warn(\n"
          ]
        },
        {
          "output_type": "stream",
          "name": "stdout",
          "text": [
            "Guessing letter: u\n",
            "Sever response: {'game_id': '26e5fb2c5843', 'status': 'ongoing', 'tries_remains': 4, 'word': '_ m _ _ _ _ _ _ _ _ u _ _ p _ _ _ '}\n",
            "1/1 [==============================] - 0s 27ms/step\n"
          ]
        },
        {
          "output_type": "stream",
          "name": "stderr",
          "text": [
            "/usr/local/lib/python3.10/dist-packages/urllib3/connectionpool.py:1100: InsecureRequestWarning: Unverified HTTPS request is being made to host 'trexsim.com'. Adding certificate verification is strongly advised. See: https://urllib3.readthedocs.io/en/latest/advanced-usage.html#tls-warnings\n",
            "  warnings.warn(\n"
          ]
        },
        {
          "output_type": "stream",
          "name": "stdout",
          "text": [
            "Guessing letter: e\n",
            "Sever response: {'game_id': '26e5fb2c5843', 'status': 'ongoing', 'tries_remains': 4, 'word': '_ m e _ _ _ _ _ _ e u _ _ p e _ _ '}\n",
            "1/1 [==============================] - 0s 26ms/step\n"
          ]
        },
        {
          "output_type": "stream",
          "name": "stderr",
          "text": [
            "/usr/local/lib/python3.10/dist-packages/urllib3/connectionpool.py:1100: InsecureRequestWarning: Unverified HTTPS request is being made to host 'trexsim.com'. Adding certificate verification is strongly advised. See: https://urllib3.readthedocs.io/en/latest/advanced-usage.html#tls-warnings\n",
            "  warnings.warn(\n"
          ]
        },
        {
          "output_type": "stream",
          "name": "stdout",
          "text": [
            "Guessing letter: o\n",
            "Sever response: {'game_id': '26e5fb2c5843', 'status': 'ongoing', 'tries_remains': 4, 'word': '_ m e _ _ _ _ _ o e u _ o p e _ _ '}\n",
            "1/1 [==============================] - 0s 26ms/step\n"
          ]
        },
        {
          "output_type": "stream",
          "name": "stderr",
          "text": [
            "/usr/local/lib/python3.10/dist-packages/urllib3/connectionpool.py:1100: InsecureRequestWarning: Unverified HTTPS request is being made to host 'trexsim.com'. Adding certificate verification is strongly advised. See: https://urllib3.readthedocs.io/en/latest/advanced-usage.html#tls-warnings\n",
            "  warnings.warn(\n"
          ]
        },
        {
          "output_type": "stream",
          "name": "stdout",
          "text": [
            "Guessing letter: i\n",
            "Sever response: {'game_id': '26e5fb2c5843', 'status': 'ongoing', 'tries_remains': 4, 'word': '_ m e _ i _ _ _ o e u _ o p e _ _ '}\n",
            "1/1 [==============================] - 0s 26ms/step\n"
          ]
        },
        {
          "output_type": "stream",
          "name": "stderr",
          "text": [
            "/usr/local/lib/python3.10/dist-packages/urllib3/connectionpool.py:1100: InsecureRequestWarning: Unverified HTTPS request is being made to host 'trexsim.com'. Adding certificate verification is strongly advised. See: https://urllib3.readthedocs.io/en/latest/advanced-usage.html#tls-warnings\n",
            "  warnings.warn(\n"
          ]
        },
        {
          "output_type": "stream",
          "name": "stdout",
          "text": [
            "Guessing letter: r\n",
            "Sever response: {'game_id': '26e5fb2c5843', 'status': 'ongoing', 'tries_remains': 4, 'word': '_ m e r i _ _ _ o e u r o p e _ _ '}\n",
            "1/1 [==============================] - 0s 28ms/step\n"
          ]
        },
        {
          "output_type": "stream",
          "name": "stderr",
          "text": [
            "/usr/local/lib/python3.10/dist-packages/urllib3/connectionpool.py:1100: InsecureRequestWarning: Unverified HTTPS request is being made to host 'trexsim.com'. Adding certificate verification is strongly advised. See: https://urllib3.readthedocs.io/en/latest/advanced-usage.html#tls-warnings\n",
            "  warnings.warn(\n"
          ]
        },
        {
          "output_type": "stream",
          "name": "stdout",
          "text": [
            "Guessing letter: a\n",
            "Sever response: {'game_id': '26e5fb2c5843', 'status': 'ongoing', 'tries_remains': 4, 'word': 'a m e r i _ a _ o e u r o p e a _ '}\n",
            "1/1 [==============================] - 0s 28ms/step\n"
          ]
        },
        {
          "output_type": "stream",
          "name": "stderr",
          "text": [
            "/usr/local/lib/python3.10/dist-packages/urllib3/connectionpool.py:1100: InsecureRequestWarning: Unverified HTTPS request is being made to host 'trexsim.com'. Adding certificate verification is strongly advised. See: https://urllib3.readthedocs.io/en/latest/advanced-usage.html#tls-warnings\n",
            "  warnings.warn(\n"
          ]
        },
        {
          "output_type": "stream",
          "name": "stdout",
          "text": [
            "Guessing letter: n\n",
            "Sever response: {'game_id': '26e5fb2c5843', 'status': 'ongoing', 'tries_remains': 4, 'word': 'a m e r i _ a n o e u r o p e a n '}\n",
            "1/1 [==============================] - 0s 26ms/step\n"
          ]
        },
        {
          "output_type": "stream",
          "name": "stderr",
          "text": [
            "/usr/local/lib/python3.10/dist-packages/urllib3/connectionpool.py:1100: InsecureRequestWarning: Unverified HTTPS request is being made to host 'trexsim.com'. Adding certificate verification is strongly advised. See: https://urllib3.readthedocs.io/en/latest/advanced-usage.html#tls-warnings\n",
            "  warnings.warn(\n"
          ]
        },
        {
          "output_type": "stream",
          "name": "stdout",
          "text": [
            "Guessing letter: l\n",
            "Sever response: {'game_id': '26e5fb2c5843', 'status': 'ongoing', 'tries_remains': 3, 'word': 'a m e r i _ a n o e u r o p e a n '}\n",
            "1/1 [==============================] - 0s 28ms/step\n"
          ]
        },
        {
          "output_type": "stream",
          "name": "stderr",
          "text": [
            "/usr/local/lib/python3.10/dist-packages/urllib3/connectionpool.py:1100: InsecureRequestWarning: Unverified HTTPS request is being made to host 'trexsim.com'. Adding certificate verification is strongly advised. See: https://urllib3.readthedocs.io/en/latest/advanced-usage.html#tls-warnings\n",
            "  warnings.warn(\n"
          ]
        },
        {
          "output_type": "stream",
          "name": "stdout",
          "text": [
            "Guessing letter: c\n"
          ]
        },
        {
          "output_type": "stream",
          "name": "stderr",
          "text": [
            "/usr/local/lib/python3.10/dist-packages/urllib3/connectionpool.py:1100: InsecureRequestWarning: Unverified HTTPS request is being made to host 'trexsim.com'. Adding certificate verification is strongly advised. See: https://urllib3.readthedocs.io/en/latest/advanced-usage.html#tls-warnings\n",
            "  warnings.warn(\n"
          ]
        },
        {
          "output_type": "stream",
          "name": "stdout",
          "text": [
            "Sever response: {'game_id': '26e5fb2c5843', 'status': 'success', 'tries_remains': 3, 'word': 'a m e r i c a n o e u r o p e a n '}\n",
            "Successfully finished game: 26e5fb2c5843\n",
            "run 9 practice games out of an allotted 100,000. practice success rate so far = 0.333\n"
          ]
        },
        {
          "output_type": "stream",
          "name": "stderr",
          "text": [
            "/usr/local/lib/python3.10/dist-packages/urllib3/connectionpool.py:1100: InsecureRequestWarning: Unverified HTTPS request is being made to host 'trexsim.com'. Adding certificate verification is strongly advised. See: https://urllib3.readthedocs.io/en/latest/advanced-usage.html#tls-warnings\n",
            "  warnings.warn(\n"
          ]
        }
      ]
    },
    {
      "cell_type": "code",
      "source": [],
      "metadata": {
        "id": "YXr1591DksUk"
      },
      "execution_count": null,
      "outputs": []
    }
  ],
  "metadata": {
    "accelerator": "GPU",
    "colab": {
      "gpuType": "V100",
      "machine_shape": "hm",
      "provenance": []
    },
    "kernelspec": {
      "display_name": "Python 3",
      "name": "python3"
    },
    "language_info": {
      "name": "python"
    },
    "widgets": {
      "application/vnd.jupyter.widget-state+json": {
        "08beaa392ad34a239e928417057b16ca": {
          "model_module": "@jupyter-widgets/controls",
          "model_name": "HBoxModel",
          "model_module_version": "1.5.0",
          "state": {
            "_dom_classes": [],
            "_model_module": "@jupyter-widgets/controls",
            "_model_module_version": "1.5.0",
            "_model_name": "HBoxModel",
            "_view_count": null,
            "_view_module": "@jupyter-widgets/controls",
            "_view_module_version": "1.5.0",
            "_view_name": "HBoxView",
            "box_style": "",
            "children": [
              "IPY_MODEL_99622b875eef43b69a01395d67056bc5",
              "IPY_MODEL_d0e0220d344640b1bb63f292cace6deb",
              "IPY_MODEL_967fc5ef2d394039a3b8450fe5c94c83"
            ],
            "layout": "IPY_MODEL_d54a7ddfa38f40bfb24fbc2d2396da80"
          }
        },
        "99622b875eef43b69a01395d67056bc5": {
          "model_module": "@jupyter-widgets/controls",
          "model_name": "HTMLModel",
          "model_module_version": "1.5.0",
          "state": {
            "_dom_classes": [],
            "_model_module": "@jupyter-widgets/controls",
            "_model_module_version": "1.5.0",
            "_model_name": "HTMLModel",
            "_view_count": null,
            "_view_module": "@jupyter-widgets/controls",
            "_view_module_version": "1.5.0",
            "_view_name": "HTMLView",
            "description": "",
            "description_tooltip": null,
            "layout": "IPY_MODEL_73a37c4abd8941c0a0b167e0e1213784",
            "placeholder": "​",
            "style": "IPY_MODEL_a7a0925993d44487b7e253035b4ff34d",
            "value": "Processing words: 100%"
          }
        },
        "d0e0220d344640b1bb63f292cace6deb": {
          "model_module": "@jupyter-widgets/controls",
          "model_name": "FloatProgressModel",
          "model_module_version": "1.5.0",
          "state": {
            "_dom_classes": [],
            "_model_module": "@jupyter-widgets/controls",
            "_model_module_version": "1.5.0",
            "_model_name": "FloatProgressModel",
            "_view_count": null,
            "_view_module": "@jupyter-widgets/controls",
            "_view_module_version": "1.5.0",
            "_view_name": "ProgressView",
            "bar_style": "success",
            "description": "",
            "description_tooltip": null,
            "layout": "IPY_MODEL_9a9690ff5ee4435d9377e737f8889a6b",
            "max": 215935,
            "min": 0,
            "orientation": "horizontal",
            "style": "IPY_MODEL_df8dc4a9ef7345b0b7269fd2508a4eea",
            "value": 215935
          }
        },
        "967fc5ef2d394039a3b8450fe5c94c83": {
          "model_module": "@jupyter-widgets/controls",
          "model_name": "HTMLModel",
          "model_module_version": "1.5.0",
          "state": {
            "_dom_classes": [],
            "_model_module": "@jupyter-widgets/controls",
            "_model_module_version": "1.5.0",
            "_model_name": "HTMLModel",
            "_view_count": null,
            "_view_module": "@jupyter-widgets/controls",
            "_view_module_version": "1.5.0",
            "_view_name": "HTMLView",
            "description": "",
            "description_tooltip": null,
            "layout": "IPY_MODEL_b0d0187ec468483bafe5a8209b638d45",
            "placeholder": "​",
            "style": "IPY_MODEL_00886fa068614ae7a525b639f46ac85b",
            "value": " 215935/215935 [00:05&lt;00:00, 31883.58it/s]"
          }
        },
        "d54a7ddfa38f40bfb24fbc2d2396da80": {
          "model_module": "@jupyter-widgets/base",
          "model_name": "LayoutModel",
          "model_module_version": "1.2.0",
          "state": {
            "_model_module": "@jupyter-widgets/base",
            "_model_module_version": "1.2.0",
            "_model_name": "LayoutModel",
            "_view_count": null,
            "_view_module": "@jupyter-widgets/base",
            "_view_module_version": "1.2.0",
            "_view_name": "LayoutView",
            "align_content": null,
            "align_items": null,
            "align_self": null,
            "border": null,
            "bottom": null,
            "display": null,
            "flex": null,
            "flex_flow": null,
            "grid_area": null,
            "grid_auto_columns": null,
            "grid_auto_flow": null,
            "grid_auto_rows": null,
            "grid_column": null,
            "grid_gap": null,
            "grid_row": null,
            "grid_template_areas": null,
            "grid_template_columns": null,
            "grid_template_rows": null,
            "height": null,
            "justify_content": null,
            "justify_items": null,
            "left": null,
            "margin": null,
            "max_height": null,
            "max_width": null,
            "min_height": null,
            "min_width": null,
            "object_fit": null,
            "object_position": null,
            "order": null,
            "overflow": null,
            "overflow_x": null,
            "overflow_y": null,
            "padding": null,
            "right": null,
            "top": null,
            "visibility": null,
            "width": null
          }
        },
        "73a37c4abd8941c0a0b167e0e1213784": {
          "model_module": "@jupyter-widgets/base",
          "model_name": "LayoutModel",
          "model_module_version": "1.2.0",
          "state": {
            "_model_module": "@jupyter-widgets/base",
            "_model_module_version": "1.2.0",
            "_model_name": "LayoutModel",
            "_view_count": null,
            "_view_module": "@jupyter-widgets/base",
            "_view_module_version": "1.2.0",
            "_view_name": "LayoutView",
            "align_content": null,
            "align_items": null,
            "align_self": null,
            "border": null,
            "bottom": null,
            "display": null,
            "flex": null,
            "flex_flow": null,
            "grid_area": null,
            "grid_auto_columns": null,
            "grid_auto_flow": null,
            "grid_auto_rows": null,
            "grid_column": null,
            "grid_gap": null,
            "grid_row": null,
            "grid_template_areas": null,
            "grid_template_columns": null,
            "grid_template_rows": null,
            "height": null,
            "justify_content": null,
            "justify_items": null,
            "left": null,
            "margin": null,
            "max_height": null,
            "max_width": null,
            "min_height": null,
            "min_width": null,
            "object_fit": null,
            "object_position": null,
            "order": null,
            "overflow": null,
            "overflow_x": null,
            "overflow_y": null,
            "padding": null,
            "right": null,
            "top": null,
            "visibility": null,
            "width": null
          }
        },
        "a7a0925993d44487b7e253035b4ff34d": {
          "model_module": "@jupyter-widgets/controls",
          "model_name": "DescriptionStyleModel",
          "model_module_version": "1.5.0",
          "state": {
            "_model_module": "@jupyter-widgets/controls",
            "_model_module_version": "1.5.0",
            "_model_name": "DescriptionStyleModel",
            "_view_count": null,
            "_view_module": "@jupyter-widgets/base",
            "_view_module_version": "1.2.0",
            "_view_name": "StyleView",
            "description_width": ""
          }
        },
        "9a9690ff5ee4435d9377e737f8889a6b": {
          "model_module": "@jupyter-widgets/base",
          "model_name": "LayoutModel",
          "model_module_version": "1.2.0",
          "state": {
            "_model_module": "@jupyter-widgets/base",
            "_model_module_version": "1.2.0",
            "_model_name": "LayoutModel",
            "_view_count": null,
            "_view_module": "@jupyter-widgets/base",
            "_view_module_version": "1.2.0",
            "_view_name": "LayoutView",
            "align_content": null,
            "align_items": null,
            "align_self": null,
            "border": null,
            "bottom": null,
            "display": null,
            "flex": null,
            "flex_flow": null,
            "grid_area": null,
            "grid_auto_columns": null,
            "grid_auto_flow": null,
            "grid_auto_rows": null,
            "grid_column": null,
            "grid_gap": null,
            "grid_row": null,
            "grid_template_areas": null,
            "grid_template_columns": null,
            "grid_template_rows": null,
            "height": null,
            "justify_content": null,
            "justify_items": null,
            "left": null,
            "margin": null,
            "max_height": null,
            "max_width": null,
            "min_height": null,
            "min_width": null,
            "object_fit": null,
            "object_position": null,
            "order": null,
            "overflow": null,
            "overflow_x": null,
            "overflow_y": null,
            "padding": null,
            "right": null,
            "top": null,
            "visibility": null,
            "width": null
          }
        },
        "df8dc4a9ef7345b0b7269fd2508a4eea": {
          "model_module": "@jupyter-widgets/controls",
          "model_name": "ProgressStyleModel",
          "model_module_version": "1.5.0",
          "state": {
            "_model_module": "@jupyter-widgets/controls",
            "_model_module_version": "1.5.0",
            "_model_name": "ProgressStyleModel",
            "_view_count": null,
            "_view_module": "@jupyter-widgets/base",
            "_view_module_version": "1.2.0",
            "_view_name": "StyleView",
            "bar_color": null,
            "description_width": ""
          }
        },
        "b0d0187ec468483bafe5a8209b638d45": {
          "model_module": "@jupyter-widgets/base",
          "model_name": "LayoutModel",
          "model_module_version": "1.2.0",
          "state": {
            "_model_module": "@jupyter-widgets/base",
            "_model_module_version": "1.2.0",
            "_model_name": "LayoutModel",
            "_view_count": null,
            "_view_module": "@jupyter-widgets/base",
            "_view_module_version": "1.2.0",
            "_view_name": "LayoutView",
            "align_content": null,
            "align_items": null,
            "align_self": null,
            "border": null,
            "bottom": null,
            "display": null,
            "flex": null,
            "flex_flow": null,
            "grid_area": null,
            "grid_auto_columns": null,
            "grid_auto_flow": null,
            "grid_auto_rows": null,
            "grid_column": null,
            "grid_gap": null,
            "grid_row": null,
            "grid_template_areas": null,
            "grid_template_columns": null,
            "grid_template_rows": null,
            "height": null,
            "justify_content": null,
            "justify_items": null,
            "left": null,
            "margin": null,
            "max_height": null,
            "max_width": null,
            "min_height": null,
            "min_width": null,
            "object_fit": null,
            "object_position": null,
            "order": null,
            "overflow": null,
            "overflow_x": null,
            "overflow_y": null,
            "padding": null,
            "right": null,
            "top": null,
            "visibility": null,
            "width": null
          }
        },
        "00886fa068614ae7a525b639f46ac85b": {
          "model_module": "@jupyter-widgets/controls",
          "model_name": "DescriptionStyleModel",
          "model_module_version": "1.5.0",
          "state": {
            "_model_module": "@jupyter-widgets/controls",
            "_model_module_version": "1.5.0",
            "_model_name": "DescriptionStyleModel",
            "_view_count": null,
            "_view_module": "@jupyter-widgets/base",
            "_view_module_version": "1.2.0",
            "_view_name": "StyleView",
            "description_width": ""
          }
        }
      }
    }
  },
  "nbformat": 4,
  "nbformat_minor": 0
}